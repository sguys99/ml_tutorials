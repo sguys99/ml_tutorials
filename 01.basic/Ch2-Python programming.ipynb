{
 "cells": [
  {
   "cell_type": "markdown",
   "id": "39d7d2e3",
   "metadata": {},
   "source": [
    "# Data science tutorials  \n",
    "### Chapter2 : Python programming"
   ]
  },
  {
   "cell_type": "markdown",
   "id": "1ceb3d4a",
   "metadata": {},
   "source": [
    "<img style=\"float: right;\" src=\"img/logo.png\" width=\"150\">"
   ]
  },
  {
   "cell_type": "markdown",
   "id": "2dcba9f0",
   "metadata": {},
   "source": [
    "<div style=\"text-align: right\"> Initial issue : 2022.01.22 </div>\n",
    "<div style=\"text-align: right\"> last update : 2022.01.22 </div>"
   ]
  },
  {
   "cell_type": "markdown",
   "id": "2a35244b",
   "metadata": {},
   "source": [
    "### Objectives  \n",
    "- 파이썬의 자료형에 대해 숙지한다.\n",
    "- 데이터분석에 필요한 파이썬 문법을 이해한다."
   ]
  },
  {
   "cell_type": "markdown",
   "id": "2474cca7",
   "metadata": {},
   "source": [
    "### 1. 파이썬 스크립트  \n",
    "--- \n",
    "주피터노트북에서 파이썬 스크립트를 실행하기 위해서는,  \n",
    "커맨드모드에서 Code 입력 상태로 전환하여 작성(`ESC -> y -> Enter`, 또는 상단의 `Code` 탭 선택)   \n",
    "\n",
    "작성한 파이썬 스크립트를 실행할 때는 `Shift+Enter` 또는 `Ctrl+Enter`를 입력"
   ]
  },
  {
   "cell_type": "code",
   "execution_count": 1,
   "id": "1fde34aa",
   "metadata": {},
   "outputs": [
    {
     "name": "stdout",
     "output_type": "stream",
     "text": [
      "PwC D&A\n"
     ]
    }
   ],
   "source": [
    "company = 'PwC'\n",
    "blank = ' '\n",
    "group = 'D&A'\n",
    "print(company+blank+group)\n",
    "# 작성 후 Shift + Enter를 입력하면 결과가 출력된다."
   ]
  },
  {
   "cell_type": "code",
   "execution_count": 2,
   "id": "52dddd1e",
   "metadata": {},
   "outputs": [
    {
     "name": "stdout",
     "output_type": "stream",
     "text": [
      "12\n"
     ]
    }
   ],
   "source": [
    "a = 10\n",
    "b = 2\n",
    "c = a+b\n",
    "print(a+b)\n",
    "# 작성 후 Shift + Enter를 입력하면 결과가 출력된다."
   ]
  },
  {
   "cell_type": "code",
   "execution_count": 3,
   "id": "4a866c67",
   "metadata": {},
   "outputs": [
    {
     "name": "stdout",
     "output_type": "stream",
     "text": [
      "result is 5.0\n"
     ]
    }
   ],
   "source": [
    "# print문\n",
    "print('result is', a/b)"
   ]
  },
  {
   "cell_type": "code",
   "execution_count": 4,
   "id": "78004c67",
   "metadata": {},
   "outputs": [
    {
     "name": "stdout",
     "output_type": "stream",
     "text": [
      "곱셈: 20, 나눗셈:  5.00\n"
     ]
    }
   ],
   "source": [
    "print('곱셈: {0}, 나눗셈: {1: .2f}'.format(a*b, a/b))"
   ]
  },
  {
   "cell_type": "markdown",
   "id": "6a92166c",
   "metadata": {},
   "source": [
    "### 2. 내장 자료형(Built-in types)\n",
    "---\n",
    "파이썬의 자료형에는 Boolean (true/false), Numeric, Sequence (list, tuple), Text, Set, Mapping (dictionary) 등이 있음."
   ]
  },
  {
   "cell_type": "markdown",
   "id": "495f233e",
   "metadata": {},
   "source": [
    "#### 2.1 Boolean  \n",
    "bool 자료형은 참과 거짓을 나타내는 자료형이다. `True`, `False` 두 가지 값만 가질 수 있다."
   ]
  },
  {
   "cell_type": "code",
   "execution_count": 5,
   "id": "f780d329",
   "metadata": {},
   "outputs": [],
   "source": [
    "a = True\n",
    "b = False"
   ]
  },
  {
   "cell_type": "code",
   "execution_count": 6,
   "id": "f647aab6",
   "metadata": {},
   "outputs": [
    {
     "data": {
      "text/plain": [
       "True"
      ]
     },
     "execution_count": 6,
     "metadata": {},
     "output_type": "execute_result"
    }
   ],
   "source": [
    "a"
   ]
  },
  {
   "cell_type": "code",
   "execution_count": 7,
   "id": "11076bc9",
   "metadata": {},
   "outputs": [
    {
     "data": {
      "text/plain": [
       "bool"
      ]
     },
     "execution_count": 7,
     "metadata": {},
     "output_type": "execute_result"
    }
   ],
   "source": [
    "type(a) # 변수의 자료형(타입)을 확인하는 함수"
   ]
  },
  {
   "cell_type": "code",
   "execution_count": 8,
   "id": "17949db2",
   "metadata": {},
   "outputs": [
    {
     "data": {
      "text/plain": [
       "True"
      ]
     },
     "execution_count": 8,
     "metadata": {},
     "output_type": "execute_result"
    }
   ],
   "source": [
    "1 == 1 # 결과가 boolean 타입"
   ]
  },
  {
   "cell_type": "code",
   "execution_count": 9,
   "id": "600d1291",
   "metadata": {},
   "outputs": [
    {
     "data": {
      "text/plain": [
       "True"
      ]
     },
     "execution_count": 9,
     "metadata": {},
     "output_type": "execute_result"
    }
   ],
   "source": [
    "True == 1"
   ]
  },
  {
   "cell_type": "markdown",
   "id": "8d0ba27c",
   "metadata": {},
   "source": [
    "#### 2.2 Numeric  \n",
    "덧셈 `+`, 뺄셈 `-`, 곱셈 `*`, 나눗셈 `/`\n",
    "거듭제곱 `**` 등 산술연산이 가능하다."
   ]
  },
  {
   "cell_type": "code",
   "execution_count": 10,
   "id": "dc87b616",
   "metadata": {},
   "outputs": [],
   "source": [
    "a = 10\n",
    "b = 10."
   ]
  },
  {
   "cell_type": "code",
   "execution_count": 11,
   "id": "50641d93",
   "metadata": {},
   "outputs": [
    {
     "data": {
      "text/plain": [
       "int"
      ]
     },
     "execution_count": 11,
     "metadata": {},
     "output_type": "execute_result"
    }
   ],
   "source": [
    "type(a)"
   ]
  },
  {
   "cell_type": "code",
   "execution_count": 12,
   "id": "3fbb6c21",
   "metadata": {},
   "outputs": [
    {
     "data": {
      "text/plain": [
       "float"
      ]
     },
     "execution_count": 12,
     "metadata": {},
     "output_type": "execute_result"
    }
   ],
   "source": [
    "type(b)"
   ]
  },
  {
   "cell_type": "code",
   "execution_count": 13,
   "id": "cf668662",
   "metadata": {},
   "outputs": [
    {
     "data": {
      "text/plain": [
       "0.78125"
      ]
     },
     "execution_count": 13,
     "metadata": {},
     "output_type": "execute_result"
    }
   ],
   "source": [
    "2 * (5.0 / 8.0 - 1.25) ** 2"
   ]
  },
  {
   "cell_type": "code",
   "execution_count": 14,
   "id": "4001489a",
   "metadata": {},
   "outputs": [
    {
     "data": {
      "text/plain": [
       "0.625"
      ]
     },
     "execution_count": 14,
     "metadata": {},
     "output_type": "execute_result"
    }
   ],
   "source": [
    "5 / 8"
   ]
  },
  {
   "cell_type": "code",
   "execution_count": 15,
   "id": "dbd6d773",
   "metadata": {},
   "outputs": [
    {
     "data": {
      "text/plain": [
       "0"
      ]
     },
     "execution_count": 15,
     "metadata": {},
     "output_type": "execute_result"
    }
   ],
   "source": [
    "5 // 8 #나눗셈의 몫"
   ]
  },
  {
   "cell_type": "code",
   "execution_count": 16,
   "id": "44d42d03",
   "metadata": {},
   "outputs": [
    {
     "data": {
      "text/plain": [
       "0.0"
      ]
     },
     "execution_count": 16,
     "metadata": {},
     "output_type": "execute_result"
    }
   ],
   "source": [
    "5.0 // 8.0"
   ]
  },
  {
   "cell_type": "code",
   "execution_count": 17,
   "id": "24ffc4f4",
   "metadata": {},
   "outputs": [
    {
     "data": {
      "text/plain": [
       "3"
      ]
     },
     "execution_count": 17,
     "metadata": {},
     "output_type": "execute_result"
    }
   ],
   "source": [
    "8 % 5 #나눗셈의 나머지"
   ]
  },
  {
   "cell_type": "markdown",
   "id": "f84fffa8",
   "metadata": {},
   "source": [
    "`+=`와 `-=`를 이용해 값을 증감시킬 수도 있다. "
   ]
  },
  {
   "cell_type": "code",
   "execution_count": 18,
   "id": "ef420eac",
   "metadata": {},
   "outputs": [
    {
     "name": "stdout",
     "output_type": "stream",
     "text": [
      "11\n"
     ]
    }
   ],
   "source": [
    "x = 10\n",
    "x += 1\n",
    "print(x)"
   ]
  },
  {
   "cell_type": "markdown",
   "id": "2876eac6",
   "metadata": {},
   "source": [
    "#### 2.3 String  \n",
    "문자열 데이터는 따옴표로 둘러싸여 있다."
   ]
  },
  {
   "cell_type": "code",
   "execution_count": 19,
   "id": "11a1a6d0",
   "metadata": {},
   "outputs": [
    {
     "data": {
      "text/plain": [
       "'Hello world!'"
      ]
     },
     "execution_count": 19,
     "metadata": {},
     "output_type": "execute_result"
    }
   ],
   "source": [
    "x1 = \"Hello world!\"\n",
    "x1"
   ]
  },
  {
   "cell_type": "code",
   "execution_count": 20,
   "id": "4d9310d9",
   "metadata": {},
   "outputs": [
    {
     "data": {
      "text/plain": [
       "'Python is fun.'"
      ]
     },
     "execution_count": 20,
     "metadata": {},
     "output_type": "execute_result"
    }
   ],
   "source": [
    "x2 = 'Python is fun.'\n",
    "x2"
   ]
  },
  {
   "cell_type": "code",
   "execution_count": 21,
   "id": "fcdf3d20",
   "metadata": {},
   "outputs": [
    {
     "data": {
      "text/plain": [
       "str"
      ]
     },
     "execution_count": 21,
     "metadata": {},
     "output_type": "execute_result"
    }
   ],
   "source": [
    "type(x2)"
   ]
  },
  {
   "cell_type": "code",
   "execution_count": 22,
   "id": "bcd3a15e",
   "metadata": {},
   "outputs": [
    {
     "data": {
      "text/plain": [
       "\"it's a book.\""
      ]
     },
     "execution_count": 22,
     "metadata": {},
     "output_type": "execute_result"
    }
   ],
   "source": [
    "y1 = \"it's a book.\" # 큰 따옴표를 이용해 작은 따옴표 삽입\n",
    "y1"
   ]
  },
  {
   "cell_type": "code",
   "execution_count": 23,
   "id": "def7fc7a",
   "metadata": {},
   "outputs": [
    {
     "data": {
      "text/plain": [
       "'\"Very good.\" he says.'"
      ]
     },
     "execution_count": 23,
     "metadata": {},
     "output_type": "execute_result"
    }
   ],
   "source": [
    "y2 = '\"Very good.\" he says.' # 작은 따옴표를 이용해 큰 따옴표 삽입\n",
    "y2"
   ]
  },
  {
   "cell_type": "code",
   "execution_count": 24,
   "id": "d81ea134",
   "metadata": {},
   "outputs": [
    {
     "data": {
      "text/plain": [
       "str"
      ]
     },
     "execution_count": 24,
     "metadata": {},
     "output_type": "execute_result"
    }
   ],
   "source": [
    "num = \"123\"\n",
    "type(num)"
   ]
  },
  {
   "cell_type": "code",
   "execution_count": 25,
   "id": "431a74a2",
   "metadata": {},
   "outputs": [
    {
     "data": {
      "text/plain": [
       "'Python is fun!'"
      ]
     },
     "execution_count": 25,
     "metadata": {},
     "output_type": "execute_result"
    }
   ],
   "source": [
    "# 문자열 연산하기\n",
    "a = \"Python \" + \"is fun!\"\n",
    "a"
   ]
  },
  {
   "cell_type": "code",
   "execution_count": 26,
   "id": "8e6e8f70",
   "metadata": {},
   "outputs": [
    {
     "data": {
      "text/plain": [
       "'PythonPython'"
      ]
     },
     "execution_count": 26,
     "metadata": {},
     "output_type": "execute_result"
    }
   ],
   "source": [
    "b = \"Python\"*2\n",
    "b"
   ]
  },
  {
   "cell_type": "markdown",
   "id": "a8d9f7a4",
   "metadata": {},
   "source": [
    "문자열 길이 구하기"
   ]
  },
  {
   "cell_type": "code",
   "execution_count": 27,
   "id": "68f0ec6d",
   "metadata": {},
   "outputs": [
    {
     "data": {
      "text/plain": [
       "17"
      ]
     },
     "execution_count": 27,
     "metadata": {},
     "output_type": "execute_result"
    }
   ],
   "source": [
    "c = \"Life is too short\"\n",
    "len(c)"
   ]
  },
  {
   "cell_type": "markdown",
   "id": "06ae259c",
   "metadata": {},
   "source": [
    "**중요** : 문자열 인덱싱과 슬라이싱"
   ]
  },
  {
   "cell_type": "markdown",
   "id": "289eed12",
   "metadata": {},
   "source": [
    "<img src=\"img/ch02/01_string_index.jpg\" width = '300'>"
   ]
  },
  {
   "cell_type": "code",
   "execution_count": 28,
   "id": "416b9c0d",
   "metadata": {},
   "outputs": [],
   "source": [
    "s = \"Katrine\""
   ]
  },
  {
   "cell_type": "code",
   "execution_count": 29,
   "id": "62f1e388",
   "metadata": {},
   "outputs": [
    {
     "name": "stdout",
     "output_type": "stream",
     "text": [
      "s[2] == t\n",
      "s[2:5] == tri\n",
      "s[:-3] == Katr\n",
      "s[2:] == trine\n",
      "s[:] == Katrine\n",
      "s[1:-1:2] == arn\n",
      "s[::-1] == enirtaK\n"
     ]
    }
   ],
   "source": [
    "print(\"s[2] ==\", s[2])\n",
    "print(\"s[2:5] ==\", s[2:5])\n",
    "print(\"s[:-3] ==\", s[:-3])\n",
    "print(\"s[2:] ==\", s[2:])\n",
    "print(\"s[:] ==\", s[:])\n",
    "print(\"s[1:-1:2] ==\", s[1:-1:2])\n",
    "print(\"s[::-1] ==\", s[::-1])"
   ]
  },
  {
   "cell_type": "code",
   "execution_count": 30,
   "id": "40dc236f",
   "metadata": {},
   "outputs": [
    {
     "name": "stdout",
     "output_type": "stream",
     "text": [
      "2019-08-29 (Thu) Sunny\n"
     ]
    }
   ],
   "source": [
    "s = \"20190829ThuSunny\"\n",
    "year = s[0:4]\n",
    "month = s[4:6]\n",
    "day = s[6:8]\n",
    "dayOfWeek = s[8:11]\n",
    "weather = s[11:]\n",
    "\n",
    "print(\"{}-{}-{} ({}) {}\".format(year, month, day, dayOfWeek, weather))"
   ]
  },
  {
   "cell_type": "markdown",
   "id": "9045554e",
   "metadata": {},
   "source": [
    "#### 2.4 List  \n",
    "- 순서가 있는 원소들의 집합으로 수정, 삭제, 추가가 가능하다. \n",
    "- 대괄호`[]`로 묶어주고 `,`로 원소를 구분한다. \n",
    "- 여러 타입이 함께 포함될 수 있고, 인덱스는 0부터 시작한다."
   ]
  },
  {
   "cell_type": "code",
   "execution_count": 31,
   "id": "e80eda6a",
   "metadata": {},
   "outputs": [],
   "source": [
    "a = list()\n",
    "b = []"
   ]
  },
  {
   "cell_type": "code",
   "execution_count": 32,
   "id": "a3b40f24",
   "metadata": {},
   "outputs": [
    {
     "data": {
      "text/plain": [
       "list"
      ]
     },
     "execution_count": 32,
     "metadata": {},
     "output_type": "execute_result"
    }
   ],
   "source": [
    "type(a)"
   ]
  },
  {
   "cell_type": "code",
   "execution_count": 33,
   "id": "20581aae",
   "metadata": {},
   "outputs": [
    {
     "data": {
      "text/plain": [
       "list"
      ]
     },
     "execution_count": 33,
     "metadata": {},
     "output_type": "execute_result"
    }
   ],
   "source": [
    "type(b)"
   ]
  },
  {
   "cell_type": "code",
   "execution_count": 34,
   "id": "07726d4a",
   "metadata": {},
   "outputs": [
    {
     "data": {
      "text/plain": [
       "[1, 2, 3, 4, 5]"
      ]
     },
     "execution_count": 34,
     "metadata": {},
     "output_type": "execute_result"
    }
   ],
   "source": [
    "a = [1, 2, 3, 4, 5]\n",
    "a"
   ]
  },
  {
   "cell_type": "code",
   "execution_count": 35,
   "id": "f8da06d1",
   "metadata": {},
   "outputs": [
    {
     "data": {
      "text/plain": [
       "['a', 2, 5, 'hi', 4]"
      ]
     },
     "execution_count": 35,
     "metadata": {},
     "output_type": "execute_result"
    }
   ],
   "source": [
    "b = ['a', 2, 5, 'hi', 4]\n",
    "b"
   ]
  },
  {
   "cell_type": "code",
   "execution_count": 36,
   "id": "8099d22d",
   "metadata": {},
   "outputs": [
    {
     "data": {
      "text/plain": [
       "5"
      ]
     },
     "execution_count": 36,
     "metadata": {},
     "output_type": "execute_result"
    }
   ],
   "source": [
    "len(a)"
   ]
  },
  {
   "cell_type": "markdown",
   "id": "f7131503",
   "metadata": {},
   "source": [
    "**중요** : 리스트의 인덱싱과 슬라이싱"
   ]
  },
  {
   "cell_type": "code",
   "execution_count": 37,
   "id": "91c2cd0f",
   "metadata": {},
   "outputs": [
    {
     "data": {
      "text/plain": [
       "2"
      ]
     },
     "execution_count": 37,
     "metadata": {},
     "output_type": "execute_result"
    }
   ],
   "source": [
    "a = [1, 2, 3, 4, 5]\n",
    "a[1]"
   ]
  },
  {
   "cell_type": "code",
   "execution_count": 38,
   "id": "087fbafa",
   "metadata": {},
   "outputs": [
    {
     "data": {
      "text/plain": [
       "[1, 2]"
      ]
     },
     "execution_count": 38,
     "metadata": {},
     "output_type": "execute_result"
    }
   ],
   "source": [
    "a[0:2]"
   ]
  },
  {
   "cell_type": "code",
   "execution_count": 39,
   "id": "1eade918",
   "metadata": {},
   "outputs": [
    {
     "data": {
      "text/plain": [
       "4"
      ]
     },
     "execution_count": 39,
     "metadata": {},
     "output_type": "execute_result"
    }
   ],
   "source": [
    "a[0] + a[2]"
   ]
  },
  {
   "cell_type": "markdown",
   "id": "7f8bf3f6",
   "metadata": {},
   "source": [
    "**중요** : 리스트의 연산  \n",
    "- 문자열과 마찬가지로 `+`를 이용해 더할 수 있고, `*`를 이용해 반복할 수 있다."
   ]
  },
  {
   "cell_type": "code",
   "execution_count": 40,
   "id": "80555ffc",
   "metadata": {},
   "outputs": [
    {
     "data": {
      "text/plain": [
       "[1, 2, 3, 4, 5, 6]"
      ]
     },
     "execution_count": 40,
     "metadata": {},
     "output_type": "execute_result"
    }
   ],
   "source": [
    "a = [1, 2, 3]\n",
    "b = [4, 5, 6]\n",
    "a + b"
   ]
  },
  {
   "cell_type": "code",
   "execution_count": 41,
   "id": "b355d15e",
   "metadata": {},
   "outputs": [
    {
     "data": {
      "text/plain": [
       "[1, 2, 3, 1, 2, 3, 1, 2, 3]"
      ]
     },
     "execution_count": 41,
     "metadata": {},
     "output_type": "execute_result"
    }
   ],
   "source": [
    "a * 3"
   ]
  },
  {
   "cell_type": "markdown",
   "id": "3fe3ab16",
   "metadata": {},
   "source": [
    "리스트의 원소 변경하기"
   ]
  },
  {
   "cell_type": "code",
   "execution_count": 42,
   "id": "3063f3f1",
   "metadata": {},
   "outputs": [
    {
     "data": {
      "text/plain": [
       "[1, 2, 3]"
      ]
     },
     "execution_count": 42,
     "metadata": {},
     "output_type": "execute_result"
    }
   ],
   "source": [
    "a"
   ]
  },
  {
   "cell_type": "code",
   "execution_count": 43,
   "id": "f416f7b9",
   "metadata": {},
   "outputs": [
    {
     "data": {
      "text/plain": [
       "[1, 2, 7]"
      ]
     },
     "execution_count": 43,
     "metadata": {},
     "output_type": "execute_result"
    }
   ],
   "source": [
    "a[2]=7\n",
    "a"
   ]
  },
  {
   "cell_type": "code",
   "execution_count": 44,
   "id": "e2d66fbc",
   "metadata": {},
   "outputs": [
    {
     "data": {
      "text/plain": [
       "[1, 2, 7, 9]"
      ]
     },
     "execution_count": 44,
     "metadata": {},
     "output_type": "execute_result"
    }
   ],
   "source": [
    "a.append(9)\n",
    "a"
   ]
  },
  {
   "cell_type": "code",
   "execution_count": 45,
   "id": "8e8d9af6",
   "metadata": {},
   "outputs": [
    {
     "data": {
      "text/plain": [
       "[1, 2, 7]"
      ]
     },
     "execution_count": 45,
     "metadata": {},
     "output_type": "execute_result"
    }
   ],
   "source": [
    "# 맨 마지막 요소 삭제하기\n",
    "a.pop()\n",
    "a"
   ]
  },
  {
   "cell_type": "markdown",
   "id": "01364b96",
   "metadata": {},
   "source": [
    "리스트의 정렬  \n",
    "- `sort()`를 쓰면 리스트가 정렬되면서 리스트 내부의 값들도 변경된다. \n",
    "- `sorted()`를 쓰면 리스트가 정렬되어도 리스트 값들이 변경되지 않는다. 정렬된 값을 따로 저장해야 한다. "
   ]
  },
  {
   "cell_type": "code",
   "execution_count": 46,
   "id": "ac79e62c",
   "metadata": {},
   "outputs": [
    {
     "data": {
      "text/plain": [
       "[1, 2, 4, 8]"
      ]
     },
     "execution_count": 46,
     "metadata": {},
     "output_type": "execute_result"
    }
   ],
   "source": [
    "a = [1, 4, 2, 8]\n",
    "a.sort()\n",
    "a"
   ]
  },
  {
   "cell_type": "code",
   "execution_count": 47,
   "id": "a88b7281",
   "metadata": {},
   "outputs": [
    {
     "name": "stdout",
     "output_type": "stream",
     "text": [
      "[1, 2, 4, 8]\n",
      "[1, 4, 2, 8]\n"
     ]
    }
   ],
   "source": [
    "a = [1, 4, 2, 8]\n",
    "print(sorted(a))\n",
    "print(a)"
   ]
  },
  {
   "cell_type": "code",
   "execution_count": 48,
   "id": "568d560f",
   "metadata": {},
   "outputs": [
    {
     "data": {
      "text/plain": [
       "[1, 2, 4, 8]"
      ]
     },
     "execution_count": 48,
     "metadata": {},
     "output_type": "execute_result"
    }
   ],
   "source": [
    "a = sorted(a)\n",
    "a"
   ]
  },
  {
   "cell_type": "markdown",
   "id": "3f460b5b",
   "metadata": {},
   "source": [
    "#### 2.5 Dictionary\n",
    "- 사전을 펴보면 'people - 사람', 'rainbow - 무지개'처럼 '단어 - 뜻'으로 표현되어 있다.  \n",
    "- 파이썬의 딕셔너리 타입은 이러한 관계를 `key`와 `value`의 한 쌍으로 나타낸다. \n",
    "\n",
    "- 아래의 표를 참고하자.\n",
    "\n",
    "|key|value|\n",
    "|:---|:---|\n",
    "|name|Tom|\n",
    "|phone|01012345678|\n",
    "|birth|900101|"
   ]
  },
  {
   "cell_type": "markdown",
   "id": "be6fd757",
   "metadata": {},
   "source": [
    "- 이 표를 딕셔너리 타입으로 정의해보자. "
   ]
  },
  {
   "cell_type": "code",
   "execution_count": 49,
   "id": "8dd418dd",
   "metadata": {},
   "outputs": [
    {
     "data": {
      "text/plain": [
       "{'name': 'Tom', 'phone': '01012345678', 'birth': '900101'}"
      ]
     },
     "execution_count": 49,
     "metadata": {},
     "output_type": "execute_result"
    }
   ],
   "source": [
    "# 한 줄로 써도 된다.\n",
    "\n",
    "dic = {'name': 'Tom',\n",
    "      'phone': '01012345678', \n",
    "      'birth': '900101'}\n",
    "dic"
   ]
  },
  {
   "cell_type": "code",
   "execution_count": 50,
   "id": "b1cfecad",
   "metadata": {},
   "outputs": [
    {
     "data": {
      "text/plain": [
       "dict"
      ]
     },
     "execution_count": 50,
     "metadata": {},
     "output_type": "execute_result"
    }
   ],
   "source": [
    "type(dic)"
   ]
  },
  {
   "cell_type": "markdown",
   "id": "663ba09f",
   "metadata": {},
   "source": [
    "새로운 데이터 추가하기"
   ]
  },
  {
   "cell_type": "code",
   "execution_count": 51,
   "id": "7bdf98c4",
   "metadata": {},
   "outputs": [
    {
     "data": {
      "text/plain": [
       "{'name': 'Tom', 'phone': '01012345678', 'birth': '900101', 'age': 30}"
      ]
     },
     "execution_count": 51,
     "metadata": {},
     "output_type": "execute_result"
    }
   ],
   "source": [
    "dic['age'] = 30\n",
    "dic"
   ]
  },
  {
   "cell_type": "code",
   "execution_count": 52,
   "id": "27ba348d",
   "metadata": {},
   "outputs": [
    {
     "data": {
      "text/plain": [
       "{'1': 72}"
      ]
     },
     "execution_count": 52,
     "metadata": {},
     "output_type": "execute_result"
    }
   ],
   "source": [
    "# 키가 중복되면 덮어쓴다.\n",
    "dic2 = {'1': 30, '1':72}\n",
    "dic2"
   ]
  },
  {
   "cell_type": "markdown",
   "id": "67fb8aa0",
   "metadata": {},
   "source": [
    "딕셔너리 key와 value 얻기  \n",
    "- 딕셔너리는 따로 인덱스가 없고, value는 key를 통해 얻을 수 있다. "
   ]
  },
  {
   "cell_type": "code",
   "execution_count": 53,
   "id": "3cba415b",
   "metadata": {},
   "outputs": [
    {
     "data": {
      "text/plain": [
       "30"
      ]
     },
     "execution_count": 53,
     "metadata": {},
     "output_type": "execute_result"
    }
   ],
   "source": [
    "dic['age']"
   ]
  },
  {
   "cell_type": "code",
   "execution_count": 54,
   "id": "74f40f27",
   "metadata": {},
   "outputs": [
    {
     "data": {
      "text/plain": [
       "dict_keys(['name', 'phone', 'birth', 'age'])"
      ]
     },
     "execution_count": 54,
     "metadata": {},
     "output_type": "execute_result"
    }
   ],
   "source": [
    "# key 목록 얻어오기\n",
    "dic.keys()"
   ]
  },
  {
   "cell_type": "code",
   "execution_count": 55,
   "id": "82a5f762",
   "metadata": {},
   "outputs": [
    {
     "data": {
      "text/plain": [
       "dict_values(['Tom', '01012345678', '900101', 30])"
      ]
     },
     "execution_count": 55,
     "metadata": {},
     "output_type": "execute_result"
    }
   ],
   "source": [
    "# value 목록 얻어오기\n",
    "dic.values()"
   ]
  },
  {
   "cell_type": "code",
   "execution_count": 56,
   "id": "1922d45f",
   "metadata": {},
   "outputs": [
    {
     "data": {
      "text/plain": [
       "dict_items([('name', 'Tom'), ('phone', '01012345678'), ('birth', '900101'), ('age', 30)])"
      ]
     },
     "execution_count": 56,
     "metadata": {},
     "output_type": "execute_result"
    }
   ],
   "source": [
    "# key와 value 쌍 얻기\n",
    "dic.items()"
   ]
  },
  {
   "cell_type": "code",
   "execution_count": null,
   "id": "d7121cd7",
   "metadata": {},
   "outputs": [],
   "source": []
  },
  {
   "cell_type": "markdown",
   "id": "a21cdfd5",
   "metadata": {},
   "source": [
    "### 3. 조건절 if  \n",
    "---\n",
    "어떤 조건을 판단해 그에 해당하는 상황을 수행하도록 하는 것이 `if문`이다.  \n",
    "if문의 조건은 `if`, `elif`, `else`로 나타낼 수 있고, 기본 구조는 다음과 같다. \n",
    "\n",
    "```(.python)\n",
    "if 조건:\n",
    "    <수행할 내용>\n",
    "elif 조건:\n",
    "    <수행할 내용>\n",
    "else:\n",
    "    <수행할 내용>\n",
    "```\n",
    "\n",
    "수행할 내용은 들여쓰기를 해주어야 하고, `elif`와 `else`는 생략 가능하다."
   ]
  },
  {
   "cell_type": "markdown",
   "id": "6753eb5a",
   "metadata": {},
   "source": [
    "> \"기온이 28도보다 높으면 에어컨을 켜고, 그보다 낮으면 에어컨을 끈다\" \n",
    "\n",
    "위 문장을 if문으로 표현하면 아래와 같다."
   ]
  },
  {
   "cell_type": "code",
   "execution_count": 57,
   "id": "2a8cdc99",
   "metadata": {},
   "outputs": [
    {
     "name": "stdout",
     "output_type": "stream",
     "text": [
      "에어컨을 켠다\n"
     ]
    }
   ],
   "source": [
    "temp = 30\n",
    "\n",
    "if temp > 28:\n",
    "    print(\"에어컨을 켠다\")\n",
    "else:\n",
    "    print(\"에어컨을 끈다\")"
   ]
  },
  {
   "cell_type": "markdown",
   "id": "da49fb00",
   "metadata": {},
   "source": [
    "> \"기온이 30도보다 높으면 아이스크림을 사고, 27도~30도 사이이면 물을 사고, 27도보다 낮으면 그냥 간다\"  \n",
    "\n",
    "위 문장을 if문으로 표현해 보자."
   ]
  },
  {
   "cell_type": "code",
   "execution_count": 58,
   "id": "4edf01a0",
   "metadata": {},
   "outputs": [
    {
     "name": "stdout",
     "output_type": "stream",
     "text": [
      "물\n"
     ]
    }
   ],
   "source": [
    "temp = 28\n",
    "\n",
    "if temp > 30:\n",
    "    print(\"아이스크림\")\n",
    "elif temp>27 and temp<30:\n",
    "    print(\"물\")\n",
    "else:\n",
    "    print(\"빈 손\")"
   ]
  },
  {
   "cell_type": "markdown",
   "id": "20d98687",
   "metadata": {},
   "source": [
    "> \"기온이 28도보다 높으면 에어컨을 켜고, 기온이 높지만 사람이 없으면 에어컨을 끄고, 기온이 28도보다 낮으면 에어컨을 끈다\""
   ]
  },
  {
   "cell_type": "code",
   "execution_count": 59,
   "id": "031db337",
   "metadata": {},
   "outputs": [
    {
     "name": "stdout",
     "output_type": "stream",
     "text": [
      "에어컨을 끈다\n"
     ]
    }
   ],
   "source": [
    "temp = 30\n",
    "someone = False\n",
    "\n",
    "if temp > 28:\n",
    "    if someone:\n",
    "        print(\"에어컨을 켠다\")\n",
    "    else:\n",
    "        print(\"에어컨을 끈다\")\n",
    "else:\n",
    "    print(\"에어컨을 끈다\")"
   ]
  },
  {
   "cell_type": "code",
   "execution_count": null,
   "id": "0b52808d",
   "metadata": {},
   "outputs": [],
   "source": []
  },
  {
   "cell_type": "markdown",
   "id": "e0eeca36",
   "metadata": {},
   "source": [
    "### 4 반복문 for  \n",
    "---\n",
    "- for문의 기본 구조는 다음과 같다. \n",
    "\n",
    "```python\n",
    "for 변수 in 리스트(또는 문자열, 튜플):\n",
    "    <수행할 내용>\n",
    "```\n",
    "\n",
    "- 리스트(또는 문자열, 튜플)의 첫 번째 요소부터 마지막 요소까지 차례대로 변수에 대입되어 \"<수행할 내용>\" 부분이 진행된다. "
   ]
  },
  {
   "cell_type": "code",
   "execution_count": 60,
   "id": "0104ec7f",
   "metadata": {},
   "outputs": [
    {
     "name": "stdout",
     "output_type": "stream",
     "text": [
      "one\n",
      "two\n",
      "three\n"
     ]
    }
   ],
   "source": [
    "lst = ['one', 'two', 'three']\n",
    "\n",
    "for i in lst:\n",
    "    print(i)"
   ]
  },
  {
   "cell_type": "code",
   "execution_count": 61,
   "id": "770ecb4c",
   "metadata": {},
   "outputs": [
    {
     "name": "stdout",
     "output_type": "stream",
     "text": [
      "0\n",
      "1\n",
      "2\n",
      "3\n",
      "4\n",
      "5\n",
      "6\n",
      "7\n",
      "8\n",
      "9\n"
     ]
    }
   ],
   "source": [
    "# range(x, y, z): x부터 y까지 숫자 리스트를 z만큼 증가시키면서 만들어 준다. \n",
    "#                 z를 생략하면 자동으로 1씩 증가한다. \n",
    "\n",
    "for i in range(0, 10): \n",
    "    print(i)"
   ]
  },
  {
   "cell_type": "code",
   "execution_count": 62,
   "id": "015b715a",
   "metadata": {},
   "outputs": [
    {
     "data": {
      "text/plain": [
       "[0, 1, 2, 3, 4, 5, 6, 7, 8, 9]"
      ]
     },
     "execution_count": 62,
     "metadata": {},
     "output_type": "execute_result"
    }
   ],
   "source": [
    "# for 문을 사용하여 리스트의 요소를 자동으로 생성하기\n",
    "lst = [i for i in range(0, 10)]\n",
    "lst"
   ]
  },
  {
   "cell_type": "code",
   "execution_count": 63,
   "id": "312d1fa5",
   "metadata": {},
   "outputs": [
    {
     "data": {
      "text/plain": [
       "[2, 3, 4, 5, 6, 7, 8, 9, 10, 11]"
      ]
     },
     "execution_count": 63,
     "metadata": {},
     "output_type": "execute_result"
    }
   ],
   "source": [
    "lst = [i + 2 for i in range(0, 10)]\n",
    "lst"
   ]
  },
  {
   "cell_type": "code",
   "execution_count": null,
   "id": "8b994311",
   "metadata": {},
   "outputs": [],
   "source": []
  },
  {
   "cell_type": "markdown",
   "id": "82deb65b",
   "metadata": {},
   "source": [
    "### 5. 함수\n",
    "---\n",
    "함수의 구조는 다음과 같다. \"매개변수\"는 이 함수에 입력으로 전달되는 값을 받을 변수이며, 이 변수가 <수행할 내용>에서 사용된다. \n",
    "\n",
    "```python\n",
    "def 함수명(매개변수):\n",
    "    <수행할 내용>\n",
    "```"
   ]
  },
  {
   "cell_type": "code",
   "execution_count": 64,
   "id": "593c60ce",
   "metadata": {},
   "outputs": [],
   "source": [
    "def add(a, b):\n",
    "    return a + b"
   ]
  },
  {
   "cell_type": "code",
   "execution_count": 65,
   "id": "b684b90c",
   "metadata": {},
   "outputs": [
    {
     "data": {
      "text/plain": [
       "4"
      ]
     },
     "execution_count": 65,
     "metadata": {},
     "output_type": "execute_result"
    }
   ],
   "source": [
    "c = add(1, 3)\n",
    "c"
   ]
  },
  {
   "cell_type": "code",
   "execution_count": 66,
   "id": "cdea90b4",
   "metadata": {},
   "outputs": [],
   "source": [
    "def add2(a, b):\n",
    "    a += 1\n",
    "    b += 1\n",
    "    return a + b"
   ]
  },
  {
   "cell_type": "code",
   "execution_count": 67,
   "id": "3fa53a97",
   "metadata": {},
   "outputs": [
    {
     "data": {
      "text/plain": [
       "12"
      ]
     },
     "execution_count": 67,
     "metadata": {},
     "output_type": "execute_result"
    }
   ],
   "source": [
    "c = add2(4, 6)\n",
    "c"
   ]
  }
 ],
 "metadata": {
  "kernelspec": {
   "display_name": "Python 3 (ipykernel)",
   "language": "python",
   "name": "python3"
  },
  "language_info": {
   "codemirror_mode": {
    "name": "ipython",
    "version": 3
   },
   "file_extension": ".py",
   "mimetype": "text/x-python",
   "name": "python",
   "nbconvert_exporter": "python",
   "pygments_lexer": "ipython3",
   "version": "3.11.8"
  }
 },
 "nbformat": 4,
 "nbformat_minor": 5
}
