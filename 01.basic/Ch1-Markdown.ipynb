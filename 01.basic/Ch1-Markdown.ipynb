{
 "cells": [
  {
   "cell_type": "markdown",
   "id": "39d7d2e3",
   "metadata": {},
   "source": [
    "# Data science tutorials  \n",
    "### Chapter1 : Markdown"
   ]
  },
  {
   "cell_type": "markdown",
   "id": "1ceb3d4a",
   "metadata": {},
   "source": [
    "<img style=\"float: right;\" src=\"img/logo.png\" width=\"150\">"
   ]
  },
  {
   "cell_type": "markdown",
   "id": "2dcba9f0",
   "metadata": {},
   "source": [
    "<div style=\"text-align: right\"> Initial issue : 2022.01.22 </div>\n",
    "<div style=\"text-align: right\"> last update : 2022.01.22 </div>"
   ]
  },
  {
   "cell_type": "markdown",
   "id": "2a35244b",
   "metadata": {},
   "source": [
    "### Objectives  \n",
    "- 주피터노트북 사용법을 이해한다.  \n",
    "- 마크다운 문법을 이해한다.  "
   ]
  },
  {
   "cell_type": "markdown",
   "id": "698e90cc",
   "metadata": {},
   "source": [
    "### 1. 주피터 노트북\n",
    "---\n",
    "#### 1.1 주피터노트북의 셀 입력 모드  \n",
    "- **에디트 모드(Edit Mode) :** 마우스로 셀(Cell)을 더블클릭하여 내용입력이 준비된 상태. 셀이 녹색으로 표시됨.  \n",
    "<img src=\"img/ch01/02_edit_mode.jpg\" width = '800'>\n",
    "\n",
    "- **커맨드 모드(Command Mode) :** 에디트 모드에서 `ESC` 또는 `Ctrl + m`를 선택하여 입력 준비가 해제된 상태. 셀이 파란색으로 표시됨.  \n",
    "<img src=\"img/ch01/03_command_mode.jpg\" width = '800'>"
   ]
  },
  {
   "cell_type": "markdown",
   "id": "265ce632",
   "metadata": {},
   "source": [
    "#### 1.2 주피터노트북의 셀 입력 유형  \n",
    "- **Code :** 셀을 선택하고 커맨드 모드로 전환 후, `y`키 입력. 또는 상단에 `Code`탭 선택.  \n",
    "- **Markdown :** 셀을 선택하고 커맨드 모드로 전환 후, `m`키 입력. 또는 상단에 `Markdown`탭 선택   \n",
    "<img src=\"img/ch01/04_cell_input.jpg\" width = '500'>"
   ]
  },
  {
   "cell_type": "markdown",
   "id": "cb412fd8",
   "metadata": {},
   "source": [
    "`code` 모드에서는 cell이 **python 커널**의 명령을 처리한다.  \n",
    "`markdown` 모드에서는 cell이 **마크다운** 문서편집기로 동작한다."
   ]
  },
  {
   "cell_type": "markdown",
   "id": "285661a5",
   "metadata": {},
   "source": [
    "### 2. 마크다운(Markdown) 언어  \n",
    "---\n",
    "간단한 문서 작성을 위해 사용하는 언어  \n",
    "커맨드 모드에서 마크다운 모드로 전환하여 작성(`ESC -> M`, 또는 상단의 `Markdown 탭` 선택) "
   ]
  },
  {
   "cell_type": "markdown",
   "id": "dc764e6d",
   "metadata": {},
   "source": [
    "#### 2.1 헤드라인(Headline)"
   ]
  },
  {
   "cell_type": "markdown",
   "id": "0a421633",
   "metadata": {},
   "source": [
    "# PwC D&A\n",
    "\n",
    "## PwC D&A\n",
    "\n",
    "### PwC D&A"
   ]
  },
  {
   "cell_type": "markdown",
   "id": "907df66a",
   "metadata": {},
   "source": [
    "#### 2.2 강조"
   ]
  },
  {
   "cell_type": "markdown",
   "id": "535d3fa7",
   "metadata": {},
   "source": [
    "*PwC D&A*  \n",
    "**PwC D&A**  \n",
    "***PwC D&A***  \n",
    "~~PwC D&A~~  "
   ]
  },
  {
   "cell_type": "markdown",
   "id": "21f6a3b1",
   "metadata": {},
   "source": [
    "#### 2.3 목록   "
   ]
  },
  {
   "cell_type": "markdown",
   "id": "444c9003",
   "metadata": {},
   "source": [
    "- PwC part1\n",
    "- PwC part2"
   ]
  },
  {
   "cell_type": "markdown",
   "id": "6a09c92d",
   "metadata": {},
   "source": [
    "- PwC part1 \n",
    "    - team A\n",
    "    - team B"
   ]
  },
  {
   "cell_type": "markdown",
   "id": "199db100",
   "metadata": {},
   "source": [
    "#### 2.4 코드 블럭"
   ]
  },
  {
   "cell_type": "markdown",
   "id": "eb9fcdb6",
   "metadata": {},
   "source": [
    "```python\n",
    "    print(\"Hello, world\")\n",
    "```"
   ]
  },
  {
   "cell_type": "markdown",
   "id": "3a83b3ba",
   "metadata": {},
   "source": [
    "#### 2.5 기타  "
   ]
  },
  {
   "cell_type": "markdown",
   "id": "7e1ee966",
   "metadata": {},
   "source": [
    "`마크다운` 사용하기"
   ]
  },
  {
   "cell_type": "markdown",
   "id": "ff0f316f",
   "metadata": {},
   "source": [
    "인용문\n",
    "> 인용<br>\n",
    " 인용하기"
   ]
  },
  {
   "cell_type": "markdown",
   "id": "a4f4d6b2",
   "metadata": {},
   "source": [
    "#### 2.6 참고자료 \n",
    "- [Markdown Cheat Sheet](https://www.markdownguide.org/cheat-sheet/)"
   ]
  }
 ],
 "metadata": {
  "kernelspec": {
   "display_name": "Python 3 (ipykernel)",
   "language": "python",
   "name": "python3"
  },
  "language_info": {
   "codemirror_mode": {
    "name": "ipython",
    "version": 3
   },
   "file_extension": ".py",
   "mimetype": "text/x-python",
   "name": "python",
   "nbconvert_exporter": "python",
   "pygments_lexer": "ipython3",
   "version": "3.8.12"
  }
 },
 "nbformat": 4,
 "nbformat_minor": 5
}
