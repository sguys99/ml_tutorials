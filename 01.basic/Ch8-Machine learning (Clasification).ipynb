{
 "cells": [
  {
   "cell_type": "markdown",
   "id": "da2e6fd3",
   "metadata": {},
   "source": [
    "# Data science tutorials  \n",
    "### Chapter8: Machine learning - Classification"
   ]
  },
  {
   "cell_type": "markdown",
   "id": "b3cf7ead",
   "metadata": {},
   "source": [
    "<img style=\"float: right;\" src=\"img/logo.png\" width=\"150\">"
   ]
  },
  {
   "cell_type": "markdown",
   "id": "98fa606c",
   "metadata": {},
   "source": [
    "<div style=\"text-align: right\"> Initial issue : 2022.02.15 </div>\n",
    "<div style=\"text-align: right\"> last update : 2022.02.15 </div>"
   ]
  },
  {
   "cell_type": "markdown",
   "id": "412e4531",
   "metadata": {},
   "source": [
    "### Objectives  \n",
    "- 지도학습 중에 분류(Classification) 문제를 이해한다.  \n",
    "- 사이킷런(Scikit-learn)을 사용하여 분류 모델을 학습시킨다."
   ]
  },
  {
   "cell_type": "markdown",
   "id": "55d4a94f",
   "metadata": {},
   "source": [
    "### 1. IRIS(붓꽃) 품종 분류 문제\n",
    "---\n",
    "붓꽃의 품종을 분류하는 머신러닝 모델 만들기"
   ]
  },
  {
   "cell_type": "markdown",
   "id": "c119d5db",
   "metadata": {},
   "source": [
    "<img src=\"img/ch08/01_iris.jpg\" width=\"500\">"
   ]
  },
  {
   "cell_type": "markdown",
   "id": "e754c23e",
   "metadata": {},
   "source": [
    "#### 1.1 라이브러리 import"
   ]
  },
  {
   "cell_type": "code",
   "execution_count": 1,
   "id": "0b9840e6",
   "metadata": {},
   "outputs": [],
   "source": [
    "import numpy as np #numpy\n",
    "import pandas as pd #pandas"
   ]
  },
  {
   "cell_type": "markdown",
   "id": "d59a2d17",
   "metadata": {},
   "source": [
    "#### 1.2 데이터 읽어오기 및 기본정보 확인"
   ]
  },
  {
   "cell_type": "markdown",
   "id": "2b3cec55",
   "metadata": {},
   "source": [
    "<img src=\"img/ch08/02_raw_data.jpg\" width=\"800\">"
   ]
  },
  {
   "cell_type": "markdown",
   "id": "39490281",
   "metadata": {},
   "source": [
    "pandas의 read_csv 메서드를 사용하여 데이터 셋을 iris 변수에 저장한다."
   ]
  },
  {
   "cell_type": "code",
   "execution_count": 2,
   "id": "635ca71d",
   "metadata": {},
   "outputs": [],
   "source": [
    "iris = pd.read_csv('data/Iris.csv')"
   ]
  },
  {
   "cell_type": "code",
   "execution_count": 3,
   "id": "cb0a7297",
   "metadata": {},
   "outputs": [
    {
     "data": {
      "text/plain": [
       "pandas.core.frame.DataFrame"
      ]
     },
     "execution_count": 3,
     "metadata": {},
     "output_type": "execute_result"
    }
   ],
   "source": [
    "# 데이터 타입 확인\n",
    "type(iris)"
   ]
  },
  {
   "cell_type": "markdown",
   "id": "36bfb9ac",
   "metadata": {},
   "source": [
    "- 데이터는 DataFrame 형식이다."
   ]
  },
  {
   "cell_type": "markdown",
   "id": "8c2fbb77",
   "metadata": {},
   "source": [
    "head() 메서드로 데이터의 최초 5개 샘플을 확인한다."
   ]
  },
  {
   "cell_type": "code",
   "execution_count": 4,
   "id": "f6e93389",
   "metadata": {},
   "outputs": [
    {
     "data": {
      "text/html": [
       "<div>\n",
       "<style scoped>\n",
       "    .dataframe tbody tr th:only-of-type {\n",
       "        vertical-align: middle;\n",
       "    }\n",
       "\n",
       "    .dataframe tbody tr th {\n",
       "        vertical-align: top;\n",
       "    }\n",
       "\n",
       "    .dataframe thead th {\n",
       "        text-align: right;\n",
       "    }\n",
       "</style>\n",
       "<table border=\"1\" class=\"dataframe\">\n",
       "  <thead>\n",
       "    <tr style=\"text-align: right;\">\n",
       "      <th></th>\n",
       "      <th>SepalLength</th>\n",
       "      <th>SepalWidth</th>\n",
       "      <th>PetalLength</th>\n",
       "      <th>PetalWidth</th>\n",
       "      <th>Species</th>\n",
       "    </tr>\n",
       "  </thead>\n",
       "  <tbody>\n",
       "    <tr>\n",
       "      <th>0</th>\n",
       "      <td>5.1</td>\n",
       "      <td>3.5</td>\n",
       "      <td>1.4</td>\n",
       "      <td>0.2</td>\n",
       "      <td>Iris-setosa</td>\n",
       "    </tr>\n",
       "    <tr>\n",
       "      <th>1</th>\n",
       "      <td>4.9</td>\n",
       "      <td>3.0</td>\n",
       "      <td>1.4</td>\n",
       "      <td>0.2</td>\n",
       "      <td>Iris-setosa</td>\n",
       "    </tr>\n",
       "    <tr>\n",
       "      <th>2</th>\n",
       "      <td>4.7</td>\n",
       "      <td>3.2</td>\n",
       "      <td>1.3</td>\n",
       "      <td>0.2</td>\n",
       "      <td>Iris-setosa</td>\n",
       "    </tr>\n",
       "    <tr>\n",
       "      <th>3</th>\n",
       "      <td>4.6</td>\n",
       "      <td>3.1</td>\n",
       "      <td>1.5</td>\n",
       "      <td>0.2</td>\n",
       "      <td>Iris-setosa</td>\n",
       "    </tr>\n",
       "    <tr>\n",
       "      <th>4</th>\n",
       "      <td>5.0</td>\n",
       "      <td>3.6</td>\n",
       "      <td>1.4</td>\n",
       "      <td>0.2</td>\n",
       "      <td>Iris-setosa</td>\n",
       "    </tr>\n",
       "  </tbody>\n",
       "</table>\n",
       "</div>"
      ],
      "text/plain": [
       "   SepalLength  SepalWidth  PetalLength  PetalWidth      Species\n",
       "0          5.1         3.5          1.4         0.2  Iris-setosa\n",
       "1          4.9         3.0          1.4         0.2  Iris-setosa\n",
       "2          4.7         3.2          1.3         0.2  Iris-setosa\n",
       "3          4.6         3.1          1.5         0.2  Iris-setosa\n",
       "4          5.0         3.6          1.4         0.2  Iris-setosa"
      ]
     },
     "execution_count": 4,
     "metadata": {},
     "output_type": "execute_result"
    }
   ],
   "source": [
    "iris.head()"
   ]
  },
  {
   "cell_type": "markdown",
   "id": "faf51315",
   "metadata": {},
   "source": [
    "타겟 변수(Species) 만 살펴본다.  "
   ]
  },
  {
   "cell_type": "code",
   "execution_count": 5,
   "id": "567a7f9b",
   "metadata": {},
   "outputs": [
    {
     "data": {
      "text/plain": [
       "0    Iris-setosa\n",
       "1    Iris-setosa\n",
       "2    Iris-setosa\n",
       "3    Iris-setosa\n",
       "4    Iris-setosa\n",
       "Name: Species, dtype: object"
      ]
     },
     "execution_count": 5,
     "metadata": {},
     "output_type": "execute_result"
    }
   ],
   "source": [
    "iris['Species'].head()"
   ]
  },
  {
   "cell_type": "code",
   "execution_count": 6,
   "id": "2466dc04",
   "metadata": {},
   "outputs": [
    {
     "data": {
      "text/plain": [
       "pandas.core.series.Series"
      ]
     },
     "execution_count": 6,
     "metadata": {},
     "output_type": "execute_result"
    }
   ],
   "source": [
    "type(iris['Species'])"
   ]
  },
  {
   "cell_type": "markdown",
   "id": "a2306bc3",
   "metadata": {},
   "source": [
    "- 단일 컬럼만 인덱싱 하면 series 타입으로 리턴된다."
   ]
  },
  {
   "cell_type": "markdown",
   "id": "8cd7e447",
   "metadata": {},
   "source": [
    "unique 메서드로 타겟(또는 클래스)의 종류를 확인한다."
   ]
  },
  {
   "cell_type": "code",
   "execution_count": 7,
   "id": "a193d12c",
   "metadata": {},
   "outputs": [
    {
     "data": {
      "text/plain": [
       "array(['Iris-setosa', 'Iris-versicolor', 'Iris-virginica'], dtype=object)"
      ]
     },
     "execution_count": 7,
     "metadata": {},
     "output_type": "execute_result"
    }
   ],
   "source": [
    "iris['Species'].unique()"
   ]
  },
  {
   "cell_type": "markdown",
   "id": "c01a1311",
   "metadata": {},
   "source": [
    "- 타겟의 종류(데이터 상 붓꽃의 품종)는 3가지 이다."
   ]
  },
  {
   "cell_type": "markdown",
   "id": "1bba91f6",
   "metadata": {},
   "source": [
    "데이터 모양을 살펴본다."
   ]
  },
  {
   "cell_type": "code",
   "execution_count": 8,
   "id": "4cc0d16a",
   "metadata": {},
   "outputs": [
    {
     "data": {
      "text/plain": [
       "(150, 5)"
      ]
     },
     "execution_count": 8,
     "metadata": {},
     "output_type": "execute_result"
    }
   ],
   "source": [
    "iris.shape"
   ]
  },
  {
   "cell_type": "markdown",
   "id": "ce2cd8d3",
   "metadata": {},
   "source": [
    "- 150x5, 2차원 데이터 셋이다."
   ]
  },
  {
   "cell_type": "markdown",
   "id": "b3c65a22",
   "metadata": {},
   "source": [
    "#### 1.3 데이터 전처리 "
   ]
  },
  {
   "cell_type": "markdown",
   "id": "abb47f94",
   "metadata": {},
   "source": [
    "<img src=\"img/ch08/03_preprocessing.jpg\" width=\"800\">"
   ]
  },
  {
   "cell_type": "markdown",
   "id": "4cc1e6c5",
   "metadata": {},
   "source": [
    "데이터 셋을 입력(피처, X)과 출력(타겟, y)으로 나눈다."
   ]
  },
  {
   "cell_type": "code",
   "execution_count": 9,
   "id": "ad1ae096",
   "metadata": {},
   "outputs": [],
   "source": [
    "X = iris.iloc[:, 0:3]\n",
    "y = iris.iloc[:, 4]"
   ]
  },
  {
   "cell_type": "markdown",
   "id": "98dc4f01",
   "metadata": {},
   "source": [
    "데이터 셋이 잘 분리되었는지 확인한다."
   ]
  },
  {
   "cell_type": "code",
   "execution_count": 10,
   "id": "c5c750ab",
   "metadata": {},
   "outputs": [
    {
     "data": {
      "text/html": [
       "<div>\n",
       "<style scoped>\n",
       "    .dataframe tbody tr th:only-of-type {\n",
       "        vertical-align: middle;\n",
       "    }\n",
       "\n",
       "    .dataframe tbody tr th {\n",
       "        vertical-align: top;\n",
       "    }\n",
       "\n",
       "    .dataframe thead th {\n",
       "        text-align: right;\n",
       "    }\n",
       "</style>\n",
       "<table border=\"1\" class=\"dataframe\">\n",
       "  <thead>\n",
       "    <tr style=\"text-align: right;\">\n",
       "      <th></th>\n",
       "      <th>SepalLength</th>\n",
       "      <th>SepalWidth</th>\n",
       "      <th>PetalLength</th>\n",
       "    </tr>\n",
       "  </thead>\n",
       "  <tbody>\n",
       "    <tr>\n",
       "      <th>0</th>\n",
       "      <td>5.1</td>\n",
       "      <td>3.5</td>\n",
       "      <td>1.4</td>\n",
       "    </tr>\n",
       "    <tr>\n",
       "      <th>1</th>\n",
       "      <td>4.9</td>\n",
       "      <td>3.0</td>\n",
       "      <td>1.4</td>\n",
       "    </tr>\n",
       "    <tr>\n",
       "      <th>2</th>\n",
       "      <td>4.7</td>\n",
       "      <td>3.2</td>\n",
       "      <td>1.3</td>\n",
       "    </tr>\n",
       "    <tr>\n",
       "      <th>3</th>\n",
       "      <td>4.6</td>\n",
       "      <td>3.1</td>\n",
       "      <td>1.5</td>\n",
       "    </tr>\n",
       "    <tr>\n",
       "      <th>4</th>\n",
       "      <td>5.0</td>\n",
       "      <td>3.6</td>\n",
       "      <td>1.4</td>\n",
       "    </tr>\n",
       "  </tbody>\n",
       "</table>\n",
       "</div>"
      ],
      "text/plain": [
       "   SepalLength  SepalWidth  PetalLength\n",
       "0          5.1         3.5          1.4\n",
       "1          4.9         3.0          1.4\n",
       "2          4.7         3.2          1.3\n",
       "3          4.6         3.1          1.5\n",
       "4          5.0         3.6          1.4"
      ]
     },
     "execution_count": 10,
     "metadata": {},
     "output_type": "execute_result"
    }
   ],
   "source": [
    "X.head()"
   ]
  },
  {
   "cell_type": "code",
   "execution_count": 11,
   "id": "7a2f8e92",
   "metadata": {},
   "outputs": [
    {
     "data": {
      "text/plain": [
       "0    Iris-setosa\n",
       "1    Iris-setosa\n",
       "2    Iris-setosa\n",
       "3    Iris-setosa\n",
       "4    Iris-setosa\n",
       "Name: Species, dtype: object"
      ]
     },
     "execution_count": 11,
     "metadata": {},
     "output_type": "execute_result"
    }
   ],
   "source": [
    "y.head()"
   ]
  },
  {
   "cell_type": "markdown",
   "id": "d6d28487",
   "metadata": {},
   "source": [
    "#### 1.4 모델학습(Trainig, learning)\n",
    "여기서는 로지스틱 회귀(Logistic Regression) 모델을 생성하고, 1.3의 데이터셋으로 학습시킨다.   \n",
    "- 로지스틱 회귀 참고자료  \n",
    "    - [참고1](https://velog.io/@gayeon/%EB%8D%B0%EC%9D%B4%ED%84%B0-%EB%B6%84%EC%84%9D-%EC%B4%88%EB%B3%B4%EC%9E%90%EB%A5%BC-%EC%9C%84%ED%95%9C-Logistic-Regression-with-Scikit-Learn)\n",
    "    - [참고2](https://thebook.io/080227/ch07/04/)"
   ]
  },
  {
   "cell_type": "markdown",
   "id": "62e715da",
   "metadata": {},
   "source": [
    "<img src=\"img/ch08/04_training.jpg\" width=\"800\">"
   ]
  },
  {
   "cell_type": "markdown",
   "id": "b9983c31",
   "metadata": {},
   "source": [
    "사이킷런 로지스틱 회기 모델 불러오기"
   ]
  },
  {
   "cell_type": "code",
   "execution_count": 12,
   "id": "6a1fb653",
   "metadata": {},
   "outputs": [],
   "source": [
    "from sklearn.linear_model import LogisticRegression"
   ]
  },
  {
   "cell_type": "code",
   "execution_count": 13,
   "id": "7fcca60c",
   "metadata": {},
   "outputs": [],
   "source": [
    "logreg = LogisticRegression() # 모델생성"
   ]
  },
  {
   "cell_type": "code",
   "execution_count": 14,
   "id": "13342bf8",
   "metadata": {},
   "outputs": [
    {
     "data": {
      "text/plain": [
       "LogisticRegression()"
      ]
     },
     "execution_count": 14,
     "metadata": {},
     "output_type": "execute_result"
    }
   ],
   "source": [
    "logreg.fit(X, y) # 모델학습"
   ]
  },
  {
   "cell_type": "markdown",
   "id": "c0a59253",
   "metadata": {},
   "source": [
    "#### 1.5 모델 시험, 평가(Test, Evaluation)  "
   ]
  },
  {
   "cell_type": "markdown",
   "id": "d17cfa1d",
   "metadata": {},
   "source": [
    "<img src=\"img/ch08/05_prediction.jpg\" width=\"800\">"
   ]
  },
  {
   "cell_type": "markdown",
   "id": "f6ca583e",
   "metadata": {},
   "source": [
    "피처 데이터만 입력하여 모델의 예측 결과를 저장한다."
   ]
  },
  {
   "cell_type": "code",
   "execution_count": 15,
   "id": "1e009b23",
   "metadata": {},
   "outputs": [],
   "source": [
    "y_pred = logreg.predict(X)"
   ]
  },
  {
   "cell_type": "code",
   "execution_count": 16,
   "id": "6fed2197",
   "metadata": {},
   "outputs": [
    {
     "data": {
      "text/plain": [
       "array(['Iris-setosa', 'Iris-setosa', 'Iris-setosa', 'Iris-setosa',\n",
       "       'Iris-setosa'], dtype=object)"
      ]
     },
     "execution_count": 16,
     "metadata": {},
     "output_type": "execute_result"
    }
   ],
   "source": [
    "y_pred[:5] # 결과 일부 살펴보기"
   ]
  },
  {
   "cell_type": "markdown",
   "id": "6f3156fa",
   "metadata": {},
   "source": [
    "실제 결과와 예측 결과를 비교하여 평균을 계산한다."
   ]
  },
  {
   "cell_type": "code",
   "execution_count": 17,
   "id": "af3b887b",
   "metadata": {},
   "outputs": [
    {
     "data": {
      "text/plain": [
       "0.96"
      ]
     },
     "execution_count": 17,
     "metadata": {},
     "output_type": "execute_result"
    }
   ],
   "source": [
    "np.mean(y_pred==y)"
   ]
  },
  {
   "cell_type": "markdown",
   "id": "02f4d255",
   "metadata": {},
   "source": [
    "모델의 score 메서드를 사용해서 동일한 결과를 얻을수도 있다."
   ]
  },
  {
   "cell_type": "code",
   "execution_count": 18,
   "id": "ab3212e7",
   "metadata": {},
   "outputs": [
    {
     "data": {
      "text/plain": [
       "0.96"
      ]
     },
     "execution_count": 18,
     "metadata": {},
     "output_type": "execute_result"
    }
   ],
   "source": [
    "logreg.score(X, y)"
   ]
  },
  {
   "cell_type": "markdown",
   "id": "eb1af43d",
   "metadata": {},
   "source": [
    "#### 1.6 데이터셋을 분리하여 학습, 평가하기  \n",
    "- 학습에 사용한 데이터를 사용해서 평가하는 것은 적절한 방법이 아니다.  \n",
    "- 학습에 사용하지 않은 데이터로 모델을 평가해본다.  \n",
    "- 이를 위해 원본 데이터를 학습용(Train)과 시험용(Test)으로 분리한다."
   ]
  },
  {
   "cell_type": "markdown",
   "id": "d5d4f059",
   "metadata": {},
   "source": [
    "<img src=\"img/ch08/06_split.jpg\" width=\"500\">"
   ]
  },
  {
   "cell_type": "markdown",
   "id": "fc9bc6fe",
   "metadata": {},
   "source": [
    "데이터를 학습용, 시험용으로 분리하고 모델을 학습, 평가해보자."
   ]
  },
  {
   "cell_type": "markdown",
   "id": "446db201",
   "metadata": {},
   "source": [
    "1) 데이터 읽기"
   ]
  },
  {
   "cell_type": "code",
   "execution_count": 19,
   "id": "4b8d6d87",
   "metadata": {},
   "outputs": [],
   "source": [
    "iris = pd.read_csv('data/Iris.csv')"
   ]
  },
  {
   "cell_type": "markdown",
   "id": "967056cc",
   "metadata": {},
   "source": [
    "2) 데이터 전처리 : 데이터 셋을 입력(피처)과 출력(타겟)으로 나눈다."
   ]
  },
  {
   "cell_type": "code",
   "execution_count": 20,
   "id": "89d80b25",
   "metadata": {},
   "outputs": [],
   "source": [
    "X = iris.iloc[:, 0:3]\n",
    "y = iris.iloc[:, 4]"
   ]
  },
  {
   "cell_type": "markdown",
   "id": "992e9c35",
   "metadata": {},
   "source": [
    "**3) 학습/ 시험 데이터 나누기**  "
   ]
  },
  {
   "cell_type": "markdown",
   "id": "a6735497",
   "metadata": {},
   "source": [
    "사이킷런의 `train_test_split` 라이브러리를 사용하여 학습, 시험 데이터로 분리한다."
   ]
  },
  {
   "cell_type": "code",
   "execution_count": 21,
   "id": "a234e32c",
   "metadata": {},
   "outputs": [],
   "source": [
    "from sklearn.model_selection import train_test_split"
   ]
  },
  {
   "cell_type": "code",
   "execution_count": 22,
   "id": "8735dba1",
   "metadata": {},
   "outputs": [],
   "source": [
    "X_train, X_test, y_train, y_test = train_test_split(X, y, \n",
    "                                    stratify = y, random_state = 7,test_size = 0.3)\n",
    "# stratify : 타겟 클래스의 비율대로 학습, 시험 데이터를 분리\n",
    "# test_size : 전체 데이터에서 시험데이터의 비율"
   ]
  },
  {
   "cell_type": "code",
   "execution_count": 23,
   "id": "bd4482f5",
   "metadata": {},
   "outputs": [
    {
     "name": "stdout",
     "output_type": "stream",
     "text": [
      "X_train : (105, 3)\n",
      "y_train : (105,)\n",
      "X_test : (45, 3)\n",
      "y_test : (45,)\n"
     ]
    }
   ],
   "source": [
    "print('X_train :',X_train.shape)\n",
    "print('y_train :',y_train.shape)\n",
    "print('X_test :',X_test.shape)\n",
    "print('y_test :',y_test.shape)"
   ]
  },
  {
   "cell_type": "markdown",
   "id": "2aef843f",
   "metadata": {},
   "source": [
    "4) 모델학습\n",
    "- 학습용 데이터(X_train, y_train)로 모델을 학습시킨다."
   ]
  },
  {
   "cell_type": "code",
   "execution_count": 24,
   "id": "68bae89d",
   "metadata": {},
   "outputs": [],
   "source": [
    "from sklearn.linear_model import LogisticRegression"
   ]
  },
  {
   "cell_type": "code",
   "execution_count": 25,
   "id": "4b00ecaf",
   "metadata": {},
   "outputs": [
    {
     "data": {
      "text/plain": [
       "LogisticRegression(random_state=7)"
      ]
     },
     "execution_count": 25,
     "metadata": {},
     "output_type": "execute_result"
    }
   ],
   "source": [
    "logreg = LogisticRegression(random_state=7)\n",
    "logreg.fit(X_train, y_train)"
   ]
  },
  {
   "cell_type": "markdown",
   "id": "66fe64b0",
   "metadata": {},
   "source": [
    "5) 모델 시험, 평가"
   ]
  },
  {
   "cell_type": "code",
   "execution_count": 26,
   "id": "529906d1",
   "metadata": {},
   "outputs": [
    {
     "data": {
      "text/plain": [
       "0.9714285714285714"
      ]
     },
     "execution_count": 26,
     "metadata": {},
     "output_type": "execute_result"
    }
   ],
   "source": [
    "# 학습용 데이터로 평가\n",
    "logreg.score(X_train, y_train)"
   ]
  },
  {
   "cell_type": "code",
   "execution_count": 27,
   "id": "ca7c79d3",
   "metadata": {},
   "outputs": [
    {
     "data": {
      "text/plain": [
       "0.9111111111111111"
      ]
     },
     "execution_count": 27,
     "metadata": {},
     "output_type": "execute_result"
    }
   ],
   "source": [
    "# 시험용 데이터로 평가\n",
    "logreg.score(X_test, y_test)"
   ]
  },
  {
   "cell_type": "markdown",
   "id": "5f264ed0",
   "metadata": {},
   "source": [
    "- 학습용 데이터 성능평가 결과 : 97.14%\n",
    "- 시험용 데이터 성능평가 결과 : 91.11%"
   ]
  },
  {
   "cell_type": "markdown",
   "id": "ab96de4f",
   "metadata": {},
   "source": [
    "- 시험 용 데이터는 모델이 경험하지 못한 데이터이기 때문에 예측 성능이 상대적으로 낮다.  \n",
    "- 모델의 일반화 성능 평가를 위해서는 학습에 사용하지 않은 시험용 데이터로 평가하는 것이 타당하다."
   ]
  },
  {
   "cell_type": "markdown",
   "id": "4c5e86f7",
   "metadata": {},
   "source": [
    "또 다른 기능 : predict_proba 메서드를 사용하면 각 클래스의 예측확률을 확인할 수 있다."
   ]
  },
  {
   "cell_type": "code",
   "execution_count": 28,
   "id": "8243c397",
   "metadata": {
    "scrolled": true
   },
   "outputs": [
    {
     "data": {
      "text/plain": [
       "array([[3.03816311e-01, 6.95216886e-01, 9.66803116e-04],\n",
       "       [2.92875476e-02, 9.34217901e-01, 3.64945514e-02],\n",
       "       [1.77238493e-05, 5.75484494e-02, 9.42433827e-01],\n",
       "       [9.80400960e-01, 1.95988894e-02, 1.50493512e-07],\n",
       "       [2.02799310e-01, 7.93982799e-01, 3.21789088e-03],\n",
       "       [9.79472764e-01, 2.05270032e-02, 2.33164992e-07],\n",
       "       [3.44099484e-03, 6.12959462e-01, 3.83599543e-01],\n",
       "       [1.27051008e-04, 1.31288756e-01, 8.68584193e-01],\n",
       "       [1.98767939e-03, 5.43676983e-01, 4.54335338e-01],\n",
       "       [9.82612174e-01, 1.73877647e-02, 6.13375652e-08],\n",
       "       [9.43956609e-01, 5.60423095e-02, 1.08099422e-06],\n",
       "       [5.65636302e-04, 2.03370776e-01, 7.96063588e-01],\n",
       "       [9.54986715e-01, 4.50112110e-02, 2.07398237e-06],\n",
       "       [8.85576821e-03, 7.38724330e-01, 2.52419902e-01],\n",
       "       [2.05738959e-02, 7.63105157e-01, 2.16320947e-01],\n",
       "       [3.66452929e-03, 7.07615525e-01, 2.88719945e-01],\n",
       "       [1.00362533e-04, 8.79133355e-02, 9.11986302e-01],\n",
       "       [4.23502582e-02, 9.30816899e-01, 2.68328424e-02],\n",
       "       [1.97112795e-05, 5.55860280e-02, 9.44394261e-01],\n",
       "       [1.81914919e-03, 4.33852002e-01, 5.64328849e-01],\n",
       "       [9.62773887e-01, 3.72255750e-02, 5.37724125e-07],\n",
       "       [1.55379261e-02, 8.84923876e-01, 9.95381983e-02],\n",
       "       [1.16056942e-03, 3.53715628e-01, 6.45123803e-01],\n",
       "       [1.13880291e-02, 7.97906745e-01, 1.90705225e-01],\n",
       "       [3.45902505e-02, 9.09300978e-01, 5.61087719e-02],\n",
       "       [9.66314383e-01, 3.36852832e-02, 3.33806672e-07],\n",
       "       [9.67074206e-01, 3.29253021e-02, 4.92117287e-07],\n",
       "       [2.13953222e-04, 1.75519654e-01, 8.24266392e-01],\n",
       "       [9.71805236e-01, 2.81944709e-02, 2.93378098e-07],\n",
       "       [8.46300046e-04, 3.78040781e-01, 6.21112919e-01],\n",
       "       [8.43345904e-02, 9.09360773e-01, 6.30463692e-03],\n",
       "       [4.28153846e-03, 6.97621039e-01, 2.98097423e-01],\n",
       "       [2.70333734e-02, 8.95151802e-01, 7.78148251e-02],\n",
       "       [9.39571607e-01, 6.04276310e-02, 7.61501375e-07],\n",
       "       [9.78112331e-01, 2.18875056e-02, 1.63194764e-07],\n",
       "       [4.04817228e-03, 4.87518507e-01, 5.08433320e-01],\n",
       "       [1.95337093e-02, 7.66042281e-01, 2.14424009e-01],\n",
       "       [9.73816671e-01, 2.61831435e-02, 1.85918585e-07],\n",
       "       [5.19688152e-03, 6.84684993e-01, 3.10118125e-01],\n",
       "       [9.69818075e-01, 3.01816167e-02, 3.08651466e-07],\n",
       "       [1.36592197e-03, 3.41510946e-01, 6.57123132e-01],\n",
       "       [1.72237015e-03, 3.24613064e-01, 6.73664566e-01],\n",
       "       [1.86644882e-05, 3.36326742e-02, 9.66348661e-01],\n",
       "       [9.69528765e-01, 3.04710279e-02, 2.07146986e-07],\n",
       "       [9.71552860e-01, 2.84469428e-02, 1.97178553e-07]])"
      ]
     },
     "execution_count": 28,
     "metadata": {},
     "output_type": "execute_result"
    }
   ],
   "source": [
    "proba = logreg.predict_proba(X_test)\n",
    "proba"
   ]
  },
  {
   "cell_type": "markdown",
   "id": "9db8db01",
   "metadata": {},
   "source": [
    "### 2. 와인 등급 분류 문제\n",
    "---\n",
    "와인의 성분 정보로 등급(Class label)을 분류하는 머신러닝 모델 만들기"
   ]
  },
  {
   "cell_type": "markdown",
   "id": "9de59afb",
   "metadata": {},
   "source": [
    "<img src=\"img/ch08/07_wine.jpg\" width=\"400\">"
   ]
  },
  {
   "cell_type": "markdown",
   "id": "d975758e",
   "metadata": {},
   "source": [
    "#### 2.1 라이브러리 import"
   ]
  },
  {
   "cell_type": "code",
   "execution_count": 29,
   "id": "947f1c60",
   "metadata": {},
   "outputs": [],
   "source": [
    "import numpy as np #numpy\n",
    "import pandas as pd #pandas\n",
    "\n",
    "from sklearn.model_selection import train_test_split"
   ]
  },
  {
   "cell_type": "markdown",
   "id": "8751af6f",
   "metadata": {},
   "source": [
    "#### 2.2 데이터 읽기 및 기본정보 확인"
   ]
  },
  {
   "cell_type": "markdown",
   "id": "78c3dbca",
   "metadata": {},
   "source": [
    "pandas의 read_csv 메서드를 사용하여 데이터 셋을 wine 변수에 저장"
   ]
  },
  {
   "cell_type": "code",
   "execution_count": 30,
   "id": "46ae6a5b",
   "metadata": {},
   "outputs": [],
   "source": [
    "wine = pd.read_csv('data/wine.data')"
   ]
  },
  {
   "cell_type": "markdown",
   "id": "c31998ad",
   "metadata": {},
   "source": [
    "5개 샘플만 확인하기"
   ]
  },
  {
   "cell_type": "code",
   "execution_count": 31,
   "id": "4ceeeff2",
   "metadata": {},
   "outputs": [
    {
     "data": {
      "text/html": [
       "<div>\n",
       "<style scoped>\n",
       "    .dataframe tbody tr th:only-of-type {\n",
       "        vertical-align: middle;\n",
       "    }\n",
       "\n",
       "    .dataframe tbody tr th {\n",
       "        vertical-align: top;\n",
       "    }\n",
       "\n",
       "    .dataframe thead th {\n",
       "        text-align: right;\n",
       "    }\n",
       "</style>\n",
       "<table border=\"1\" class=\"dataframe\">\n",
       "  <thead>\n",
       "    <tr style=\"text-align: right;\">\n",
       "      <th></th>\n",
       "      <th>Class label</th>\n",
       "      <th>Alcohol</th>\n",
       "      <th>Malic acid</th>\n",
       "      <th>Ash</th>\n",
       "      <th>Alcalinity of ash</th>\n",
       "      <th>Magnesium</th>\n",
       "      <th>Total phenols</th>\n",
       "      <th>Flavanoids</th>\n",
       "      <th>Nonflavnoid phenols</th>\n",
       "      <th>Proanthocyanins</th>\n",
       "      <th>Color intensity</th>\n",
       "      <th>Hue</th>\n",
       "      <th>OD280/OD315 of diluted wines</th>\n",
       "      <th>Proline</th>\n",
       "    </tr>\n",
       "  </thead>\n",
       "  <tbody>\n",
       "    <tr>\n",
       "      <th>0</th>\n",
       "      <td>1</td>\n",
       "      <td>14.23</td>\n",
       "      <td>1.71</td>\n",
       "      <td>2.43</td>\n",
       "      <td>15.6</td>\n",
       "      <td>127</td>\n",
       "      <td>2.80</td>\n",
       "      <td>3.06</td>\n",
       "      <td>0.28</td>\n",
       "      <td>2.29</td>\n",
       "      <td>5.64</td>\n",
       "      <td>1.04</td>\n",
       "      <td>3.92</td>\n",
       "      <td>1065</td>\n",
       "    </tr>\n",
       "    <tr>\n",
       "      <th>1</th>\n",
       "      <td>1</td>\n",
       "      <td>13.20</td>\n",
       "      <td>1.78</td>\n",
       "      <td>2.14</td>\n",
       "      <td>11.2</td>\n",
       "      <td>100</td>\n",
       "      <td>2.65</td>\n",
       "      <td>2.76</td>\n",
       "      <td>0.26</td>\n",
       "      <td>1.28</td>\n",
       "      <td>4.38</td>\n",
       "      <td>1.05</td>\n",
       "      <td>3.40</td>\n",
       "      <td>1050</td>\n",
       "    </tr>\n",
       "    <tr>\n",
       "      <th>2</th>\n",
       "      <td>1</td>\n",
       "      <td>13.16</td>\n",
       "      <td>2.36</td>\n",
       "      <td>2.67</td>\n",
       "      <td>18.6</td>\n",
       "      <td>101</td>\n",
       "      <td>2.80</td>\n",
       "      <td>3.24</td>\n",
       "      <td>0.30</td>\n",
       "      <td>2.81</td>\n",
       "      <td>5.68</td>\n",
       "      <td>1.03</td>\n",
       "      <td>3.17</td>\n",
       "      <td>1185</td>\n",
       "    </tr>\n",
       "    <tr>\n",
       "      <th>3</th>\n",
       "      <td>1</td>\n",
       "      <td>14.37</td>\n",
       "      <td>1.95</td>\n",
       "      <td>2.50</td>\n",
       "      <td>16.8</td>\n",
       "      <td>113</td>\n",
       "      <td>3.85</td>\n",
       "      <td>3.49</td>\n",
       "      <td>0.24</td>\n",
       "      <td>2.18</td>\n",
       "      <td>7.80</td>\n",
       "      <td>0.86</td>\n",
       "      <td>3.45</td>\n",
       "      <td>1480</td>\n",
       "    </tr>\n",
       "    <tr>\n",
       "      <th>4</th>\n",
       "      <td>1</td>\n",
       "      <td>13.24</td>\n",
       "      <td>2.59</td>\n",
       "      <td>2.87</td>\n",
       "      <td>21.0</td>\n",
       "      <td>118</td>\n",
       "      <td>2.80</td>\n",
       "      <td>2.69</td>\n",
       "      <td>0.39</td>\n",
       "      <td>1.82</td>\n",
       "      <td>4.32</td>\n",
       "      <td>1.04</td>\n",
       "      <td>2.93</td>\n",
       "      <td>735</td>\n",
       "    </tr>\n",
       "  </tbody>\n",
       "</table>\n",
       "</div>"
      ],
      "text/plain": [
       "   Class label  Alcohol  Malic acid   Ash  Alcalinity of ash  Magnesium  \\\n",
       "0            1    14.23        1.71  2.43               15.6        127   \n",
       "1            1    13.20        1.78  2.14               11.2        100   \n",
       "2            1    13.16        2.36  2.67               18.6        101   \n",
       "3            1    14.37        1.95  2.50               16.8        113   \n",
       "4            1    13.24        2.59  2.87               21.0        118   \n",
       "\n",
       "   Total phenols  Flavanoids  Nonflavnoid phenols  Proanthocyanins  \\\n",
       "0           2.80        3.06                 0.28             2.29   \n",
       "1           2.65        2.76                 0.26             1.28   \n",
       "2           2.80        3.24                 0.30             2.81   \n",
       "3           3.85        3.49                 0.24             2.18   \n",
       "4           2.80        2.69                 0.39             1.82   \n",
       "\n",
       "   Color intensity   Hue  OD280/OD315 of diluted wines  Proline  \n",
       "0             5.64  1.04                          3.92     1065  \n",
       "1             4.38  1.05                          3.40     1050  \n",
       "2             5.68  1.03                          3.17     1185  \n",
       "3             7.80  0.86                          3.45     1480  \n",
       "4             4.32  1.04                          2.93      735  "
      ]
     },
     "execution_count": 31,
     "metadata": {},
     "output_type": "execute_result"
    }
   ],
   "source": [
    "wine.head()"
   ]
  },
  {
   "cell_type": "markdown",
   "id": "c7d7d07f",
   "metadata": {},
   "source": [
    "<img src=\"img/ch08/08_wine_data.jpg\" width=\"800\">"
   ]
  },
  {
   "cell_type": "markdown",
   "id": "1218545a",
   "metadata": {},
   "source": [
    "타겟 컬럼은 `Class label`이다.  \n",
    "타겟의 종류를 확인해본다."
   ]
  },
  {
   "cell_type": "code",
   "execution_count": 32,
   "id": "6b917104",
   "metadata": {},
   "outputs": [
    {
     "data": {
      "text/plain": [
       "array([1, 2, 3], dtype=int64)"
      ]
     },
     "execution_count": 32,
     "metadata": {},
     "output_type": "execute_result"
    }
   ],
   "source": [
    "wine['Class label'].unique()"
   ]
  },
  {
   "cell_type": "markdown",
   "id": "5371f8ff",
   "metadata": {},
   "source": [
    "- 타겟의 종류는 3가지 이다."
   ]
  },
  {
   "cell_type": "markdown",
   "id": "c460fd55",
   "metadata": {},
   "source": [
    "데이터 모양을 살펴본다."
   ]
  },
  {
   "cell_type": "code",
   "execution_count": 33,
   "id": "3abda062",
   "metadata": {},
   "outputs": [
    {
     "data": {
      "text/plain": [
       "(178, 14)"
      ]
     },
     "execution_count": 33,
     "metadata": {},
     "output_type": "execute_result"
    }
   ],
   "source": [
    "wine.shape"
   ]
  },
  {
   "cell_type": "markdown",
   "id": "1539e8ee",
   "metadata": {},
   "source": [
    "- 178x14, 2차원 데이터 셋이다."
   ]
  },
  {
   "cell_type": "markdown",
   "id": "34577edd",
   "metadata": {},
   "source": [
    "#### 2.3 데이터 전처리 및 학습/ 시험 데이터 나누기"
   ]
  },
  {
   "cell_type": "markdown",
   "id": "bd7855bd",
   "metadata": {},
   "source": [
    "데이터 셋을 입력(피처)과 출력(타겟)으로 나눈다."
   ]
  },
  {
   "cell_type": "code",
   "execution_count": 34,
   "id": "482654cb",
   "metadata": {},
   "outputs": [],
   "source": [
    "X = wine.iloc[:, 1:14]\n",
    "y = wine.iloc[:, 0]"
   ]
  },
  {
   "cell_type": "code",
   "execution_count": 35,
   "id": "5268ce4b",
   "metadata": {},
   "outputs": [
    {
     "data": {
      "text/html": [
       "<div>\n",
       "<style scoped>\n",
       "    .dataframe tbody tr th:only-of-type {\n",
       "        vertical-align: middle;\n",
       "    }\n",
       "\n",
       "    .dataframe tbody tr th {\n",
       "        vertical-align: top;\n",
       "    }\n",
       "\n",
       "    .dataframe thead th {\n",
       "        text-align: right;\n",
       "    }\n",
       "</style>\n",
       "<table border=\"1\" class=\"dataframe\">\n",
       "  <thead>\n",
       "    <tr style=\"text-align: right;\">\n",
       "      <th></th>\n",
       "      <th>Alcohol</th>\n",
       "      <th>Malic acid</th>\n",
       "      <th>Ash</th>\n",
       "      <th>Alcalinity of ash</th>\n",
       "      <th>Magnesium</th>\n",
       "      <th>Total phenols</th>\n",
       "      <th>Flavanoids</th>\n",
       "      <th>Nonflavnoid phenols</th>\n",
       "      <th>Proanthocyanins</th>\n",
       "      <th>Color intensity</th>\n",
       "      <th>Hue</th>\n",
       "      <th>OD280/OD315 of diluted wines</th>\n",
       "      <th>Proline</th>\n",
       "    </tr>\n",
       "  </thead>\n",
       "  <tbody>\n",
       "    <tr>\n",
       "      <th>0</th>\n",
       "      <td>14.23</td>\n",
       "      <td>1.71</td>\n",
       "      <td>2.43</td>\n",
       "      <td>15.6</td>\n",
       "      <td>127</td>\n",
       "      <td>2.80</td>\n",
       "      <td>3.06</td>\n",
       "      <td>0.28</td>\n",
       "      <td>2.29</td>\n",
       "      <td>5.64</td>\n",
       "      <td>1.04</td>\n",
       "      <td>3.92</td>\n",
       "      <td>1065</td>\n",
       "    </tr>\n",
       "    <tr>\n",
       "      <th>1</th>\n",
       "      <td>13.20</td>\n",
       "      <td>1.78</td>\n",
       "      <td>2.14</td>\n",
       "      <td>11.2</td>\n",
       "      <td>100</td>\n",
       "      <td>2.65</td>\n",
       "      <td>2.76</td>\n",
       "      <td>0.26</td>\n",
       "      <td>1.28</td>\n",
       "      <td>4.38</td>\n",
       "      <td>1.05</td>\n",
       "      <td>3.40</td>\n",
       "      <td>1050</td>\n",
       "    </tr>\n",
       "    <tr>\n",
       "      <th>2</th>\n",
       "      <td>13.16</td>\n",
       "      <td>2.36</td>\n",
       "      <td>2.67</td>\n",
       "      <td>18.6</td>\n",
       "      <td>101</td>\n",
       "      <td>2.80</td>\n",
       "      <td>3.24</td>\n",
       "      <td>0.30</td>\n",
       "      <td>2.81</td>\n",
       "      <td>5.68</td>\n",
       "      <td>1.03</td>\n",
       "      <td>3.17</td>\n",
       "      <td>1185</td>\n",
       "    </tr>\n",
       "    <tr>\n",
       "      <th>3</th>\n",
       "      <td>14.37</td>\n",
       "      <td>1.95</td>\n",
       "      <td>2.50</td>\n",
       "      <td>16.8</td>\n",
       "      <td>113</td>\n",
       "      <td>3.85</td>\n",
       "      <td>3.49</td>\n",
       "      <td>0.24</td>\n",
       "      <td>2.18</td>\n",
       "      <td>7.80</td>\n",
       "      <td>0.86</td>\n",
       "      <td>3.45</td>\n",
       "      <td>1480</td>\n",
       "    </tr>\n",
       "    <tr>\n",
       "      <th>4</th>\n",
       "      <td>13.24</td>\n",
       "      <td>2.59</td>\n",
       "      <td>2.87</td>\n",
       "      <td>21.0</td>\n",
       "      <td>118</td>\n",
       "      <td>2.80</td>\n",
       "      <td>2.69</td>\n",
       "      <td>0.39</td>\n",
       "      <td>1.82</td>\n",
       "      <td>4.32</td>\n",
       "      <td>1.04</td>\n",
       "      <td>2.93</td>\n",
       "      <td>735</td>\n",
       "    </tr>\n",
       "  </tbody>\n",
       "</table>\n",
       "</div>"
      ],
      "text/plain": [
       "   Alcohol  Malic acid   Ash  Alcalinity of ash  Magnesium  Total phenols  \\\n",
       "0    14.23        1.71  2.43               15.6        127           2.80   \n",
       "1    13.20        1.78  2.14               11.2        100           2.65   \n",
       "2    13.16        2.36  2.67               18.6        101           2.80   \n",
       "3    14.37        1.95  2.50               16.8        113           3.85   \n",
       "4    13.24        2.59  2.87               21.0        118           2.80   \n",
       "\n",
       "   Flavanoids  Nonflavnoid phenols  Proanthocyanins  Color intensity   Hue  \\\n",
       "0        3.06                 0.28             2.29             5.64  1.04   \n",
       "1        2.76                 0.26             1.28             4.38  1.05   \n",
       "2        3.24                 0.30             2.81             5.68  1.03   \n",
       "3        3.49                 0.24             2.18             7.80  0.86   \n",
       "4        2.69                 0.39             1.82             4.32  1.04   \n",
       "\n",
       "   OD280/OD315 of diluted wines  Proline  \n",
       "0                          3.92     1065  \n",
       "1                          3.40     1050  \n",
       "2                          3.17     1185  \n",
       "3                          3.45     1480  \n",
       "4                          2.93      735  "
      ]
     },
     "execution_count": 35,
     "metadata": {},
     "output_type": "execute_result"
    }
   ],
   "source": [
    "X.head()"
   ]
  },
  {
   "cell_type": "code",
   "execution_count": 36,
   "id": "e6bca0c2",
   "metadata": {},
   "outputs": [
    {
     "data": {
      "text/plain": [
       "0    1\n",
       "1    1\n",
       "2    1\n",
       "3    1\n",
       "4    1\n",
       "Name: Class label, dtype: int64"
      ]
     },
     "execution_count": 36,
     "metadata": {},
     "output_type": "execute_result"
    }
   ],
   "source": [
    "y.head()"
   ]
  },
  {
   "cell_type": "markdown",
   "id": "1af7d1d9",
   "metadata": {},
   "source": [
    "학습 데이터와 시험 데이터로 분리한다."
   ]
  },
  {
   "cell_type": "code",
   "execution_count": 37,
   "id": "2a21189a",
   "metadata": {},
   "outputs": [],
   "source": [
    "X_train, X_test, y_train, y_test = train_test_split(X, y, \n",
    "                                    stratify = y, random_state = 7,test_size = 0.3)"
   ]
  },
  {
   "cell_type": "markdown",
   "id": "f70ebb16",
   "metadata": {},
   "source": [
    "#### 2.4 모델학습  \n",
    "- 결정트리(Decision tree) 모델을 사용한다.   \n",
    "- 결정트리 참고자료  \n",
    "    - [참고1](https://tensorflow.blog/%ED%8C%8C%EC%9D%B4%EC%8D%AC-%EB%A8%B8%EC%8B%A0%EB%9F%AC%EB%8B%9D/2-3-5-%EA%B2%B0%EC%A0%95-%ED%8A%B8%EB%A6%AC/)\n",
    "    - [참고2](https://heeya-stupidbutstudying.tistory.com/m/41)"
   ]
  },
  {
   "cell_type": "markdown",
   "id": "592c89cc",
   "metadata": {},
   "source": [
    "<img src=\"img/ch08/09_decision_tree.jpg\" width=\"800\">"
   ]
  },
  {
   "cell_type": "markdown",
   "id": "d0714bed",
   "metadata": {},
   "source": [
    "결정트리 분류 모델 라이브러리 import"
   ]
  },
  {
   "cell_type": "code",
   "execution_count": 38,
   "id": "694163fd",
   "metadata": {},
   "outputs": [],
   "source": [
    "from sklearn.tree import DecisionTreeClassifier"
   ]
  },
  {
   "cell_type": "markdown",
   "id": "8f90cd80",
   "metadata": {},
   "source": [
    "모델 생성 및 학습"
   ]
  },
  {
   "cell_type": "code",
   "execution_count": 39,
   "id": "914fcedf",
   "metadata": {},
   "outputs": [
    {
     "data": {
      "text/plain": [
       "DecisionTreeClassifier(random_state=7)"
      ]
     },
     "execution_count": 39,
     "metadata": {},
     "output_type": "execute_result"
    }
   ],
   "source": [
    "tree = DecisionTreeClassifier(random_state=7)\n",
    "tree.fit(X_train, y_train)"
   ]
  },
  {
   "cell_type": "markdown",
   "id": "6b458e50",
   "metadata": {},
   "source": [
    "#### 2.5 모델 시험, 평가  "
   ]
  },
  {
   "cell_type": "code",
   "execution_count": 40,
   "id": "3ff1fa48",
   "metadata": {},
   "outputs": [
    {
     "data": {
      "text/plain": [
       "1.0"
      ]
     },
     "execution_count": 40,
     "metadata": {},
     "output_type": "execute_result"
    }
   ],
   "source": [
    "tree.score(X_train, y_train)"
   ]
  },
  {
   "cell_type": "code",
   "execution_count": 41,
   "id": "445e3628",
   "metadata": {},
   "outputs": [
    {
     "data": {
      "text/plain": [
       "0.9444444444444444"
      ]
     },
     "execution_count": 41,
     "metadata": {},
     "output_type": "execute_result"
    }
   ],
   "source": [
    "tree.score(X_test, y_test)"
   ]
  },
  {
   "cell_type": "code",
   "execution_count": null,
   "id": "1377ab7e",
   "metadata": {},
   "outputs": [],
   "source": []
  }
 ],
 "metadata": {
  "kernelspec": {
   "display_name": "Python 3",
   "language": "python",
   "name": "python3"
  },
  "language_info": {
   "codemirror_mode": {
    "name": "ipython",
    "version": 3
   },
   "file_extension": ".py",
   "mimetype": "text/x-python",
   "name": "python",
   "nbconvert_exporter": "python",
   "pygments_lexer": "ipython3",
   "version": "3.8.8"
  }
 },
 "nbformat": 4,
 "nbformat_minor": 5
}
