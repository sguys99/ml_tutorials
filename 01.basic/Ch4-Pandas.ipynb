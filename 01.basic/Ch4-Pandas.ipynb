{
 "cells": [
  {
   "cell_type": "markdown",
   "id": "56d563f2",
   "metadata": {},
   "source": [
    "# Data science tutorials  \n",
    "### Chapter2 : Numpy and Pandas"
   ]
  },
  {
   "cell_type": "markdown",
   "id": "4c8e0dce",
   "metadata": {},
   "source": [
    "<img style=\"float: right;\" src=\"img/logo.png\" width=\"150\">"
   ]
  },
  {
   "cell_type": "markdown",
   "id": "e16f9f00",
   "metadata": {},
   "source": [
    "<div style=\"text-align: right\"> <b>Author : Kwang-myung Yu</b></div>"
   ]
  },
  {
   "cell_type": "markdown",
   "id": "bad0da3a",
   "metadata": {},
   "source": [
    "<div style=\"text-align: right\"> Initial issue : 2022.01.22 </div>\n",
    "<div style=\"text-align: right\"> last update : 2022.01.22 </div>"
   ]
  },
  {
   "cell_type": "markdown",
   "id": "5f53ee9b",
   "metadata": {},
   "source": [
    "### References\n",
    "- https://compmath.korea.ac.kr/appmath/NumpyBasics.html\n",
    "- https://numpy.org/doc/stable/user/quickstart.html\n",
    "- https://compmath.korea.ac.kr/appmath/GettingStartPandas.html\n",
    "- https://pandas.pydata.org/docs/user_guide/10min.html#"
   ]
  },
  {
   "cell_type": "markdown",
   "id": "81c0424f",
   "metadata": {},
   "source": [
    "### Objectives  \n",
    "- Numpy와 Pandas 라이브러리 기본 사용법을 익힌다."
   ]
  },
  {
   "cell_type": "markdown",
   "id": "f08874a0",
   "metadata": {},
   "source": [
    "Pandas는 데이터의 정제, 전처리 및 분석을 쉽게 하도록 지원하는 자료구조와 라이브러리 들을 포함하고 있다.  \n",
    "Pandas의 기본 자료구조에는 `Series`와 `DataFrame`이 있다."
   ]
  },
  {
   "cell_type": "code",
   "execution_count": 1,
   "id": "50c17a02",
   "metadata": {},
   "outputs": [],
   "source": [
    "import numpy as np\n",
    "import pandas as pd # 라이브러리 사용을 위한 추가"
   ]
  },
  {
   "cell_type": "markdown",
   "id": "dd3b15f9",
   "metadata": {},
   "source": [
    "### 1. Series \n",
    "---\n",
    "- Series : 1차원 배열과 인덱스(index)로 구성되는 데이터 객체"
   ]
  },
  {
   "cell_type": "markdown",
   "id": "b4b0cb12",
   "metadata": {},
   "source": [
    "#### 1.1 Series 생성"
   ]
  },
  {
   "cell_type": "code",
   "execution_count": 2,
   "id": "b9d416c0",
   "metadata": {},
   "outputs": [
    {
     "data": {
      "text/plain": [
       "array([1, 2, 3, 4, 5])"
      ]
     },
     "execution_count": 2,
     "metadata": {},
     "output_type": "execute_result"
    }
   ],
   "source": [
    "arr = np.arange(1, 6)\n",
    "arr"
   ]
  },
  {
   "cell_type": "code",
   "execution_count": 3,
   "id": "0d10ac53",
   "metadata": {},
   "outputs": [],
   "source": [
    "series = pd.Series(arr)"
   ]
  },
  {
   "cell_type": "code",
   "execution_count": 4,
   "id": "21603fae",
   "metadata": {},
   "outputs": [
    {
     "data": {
      "text/plain": [
       "0    1\n",
       "1    2\n",
       "2    3\n",
       "3    4\n",
       "4    5\n",
       "dtype: int32"
      ]
     },
     "execution_count": 4,
     "metadata": {},
     "output_type": "execute_result"
    }
   ],
   "source": [
    "series"
   ]
  },
  {
   "cell_type": "markdown",
   "id": "c3bf532d",
   "metadata": {},
   "source": [
    "#### 1.2 Series의 인덱싱, 슬라이싱"
   ]
  },
  {
   "cell_type": "code",
   "execution_count": 5,
   "id": "668daf99",
   "metadata": {},
   "outputs": [
    {
     "data": {
      "text/plain": [
       "0     True\n",
       "1     True\n",
       "2    False\n",
       "3    False\n",
       "4    False\n",
       "dtype: bool"
      ]
     },
     "execution_count": 5,
     "metadata": {},
     "output_type": "execute_result"
    }
   ],
   "source": [
    "series < 3"
   ]
  },
  {
   "cell_type": "code",
   "execution_count": 6,
   "id": "046dc751",
   "metadata": {},
   "outputs": [
    {
     "data": {
      "text/plain": [
       "0    1\n",
       "1    2\n",
       "dtype: int32"
      ]
     },
     "execution_count": 6,
     "metadata": {},
     "output_type": "execute_result"
    }
   ],
   "source": [
    "series[series < 3]"
   ]
  },
  {
   "cell_type": "code",
   "execution_count": 7,
   "id": "ad96a013",
   "metadata": {},
   "outputs": [
    {
     "data": {
      "text/plain": [
       "0   -1\n",
       "1   -1\n",
       "2    3\n",
       "3    4\n",
       "4    5\n",
       "dtype: int32"
      ]
     },
     "execution_count": 7,
     "metadata": {},
     "output_type": "execute_result"
    }
   ],
   "source": [
    "# 3보다 작은 원소에 -1 대입\n",
    "series[series < 3] = -1\n",
    "series"
   ]
  },
  {
   "cell_type": "markdown",
   "id": "3e8dc322",
   "metadata": {},
   "source": [
    "#### 1.3 인덱스를 지정하여 Series 생성하기"
   ]
  },
  {
   "cell_type": "code",
   "execution_count": 8,
   "id": "a0f647a9",
   "metadata": {},
   "outputs": [
    {
     "data": {
      "text/plain": [
       "a    1\n",
       "b    2\n",
       "c    3\n",
       "d    4\n",
       "e    5\n",
       "dtype: int64"
      ]
     },
     "execution_count": 8,
     "metadata": {},
     "output_type": "execute_result"
    }
   ],
   "source": [
    "data = [1, 2, 3, 4, 5]\n",
    "index = ['a', 'b', 'c', 'd', 'e']\n",
    "\n",
    "series2 = pd.Series(data=data,index = index)\n",
    "series2"
   ]
  },
  {
   "cell_type": "markdown",
   "id": "4428b96d",
   "metadata": {},
   "source": [
    "#### 1.4 딕셔너리로 Series 생성하기"
   ]
  },
  {
   "cell_type": "code",
   "execution_count": 9,
   "id": "b24bd741",
   "metadata": {},
   "outputs": [
    {
     "data": {
      "text/plain": [
       "영수    60\n",
       "철수    75\n",
       "정수    80\n",
       "정순    88\n",
       "민희    99\n",
       "dtype: int64"
      ]
     },
     "execution_count": 9,
     "metadata": {},
     "output_type": "execute_result"
    }
   ],
   "source": [
    "score = {'영수': 60, '철수': 75, '정수' : 80, '정순': 88, '민희' : 99}\n",
    "series_sc = pd.Series(score)\n",
    "series_sc"
   ]
  },
  {
   "cell_type": "markdown",
   "id": "99fa13c5",
   "metadata": {},
   "source": [
    "- key 값이 인덱스로 자동지정 됨"
   ]
  },
  {
   "cell_type": "markdown",
   "id": "b52f4ef1",
   "metadata": {},
   "source": [
    "### 2. DataFrame\n",
    "---\n",
    "- DataFrame : 같은 타입의 컬럼(Column) 데이터로 구성된 2차원 자료형 "
   ]
  },
  {
   "cell_type": "markdown",
   "id": "75461f16",
   "metadata": {},
   "source": [
    "#### 2.1 DataFrame 생성하기   "
   ]
  },
  {
   "cell_type": "code",
   "execution_count": 10,
   "id": "7d779582",
   "metadata": {},
   "outputs": [
    {
     "data": {
      "text/html": [
       "<div>\n",
       "<style scoped>\n",
       "    .dataframe tbody tr th:only-of-type {\n",
       "        vertical-align: middle;\n",
       "    }\n",
       "\n",
       "    .dataframe tbody tr th {\n",
       "        vertical-align: top;\n",
       "    }\n",
       "\n",
       "    .dataframe thead th {\n",
       "        text-align: right;\n",
       "    }\n",
       "</style>\n",
       "<table border=\"1\" class=\"dataframe\">\n",
       "  <thead>\n",
       "    <tr style=\"text-align: right;\">\n",
       "      <th></th>\n",
       "      <th>소속</th>\n",
       "      <th>나이</th>\n",
       "      <th>점수</th>\n",
       "    </tr>\n",
       "  </thead>\n",
       "  <tbody>\n",
       "    <tr>\n",
       "      <th>0</th>\n",
       "      <td>pat1</td>\n",
       "      <td>36</td>\n",
       "      <td>78.40</td>\n",
       "    </tr>\n",
       "    <tr>\n",
       "      <th>1</th>\n",
       "      <td>part2</td>\n",
       "      <td>54</td>\n",
       "      <td>87.45</td>\n",
       "    </tr>\n",
       "    <tr>\n",
       "      <th>2</th>\n",
       "      <td>part1</td>\n",
       "      <td>44</td>\n",
       "      <td>67.90</td>\n",
       "    </tr>\n",
       "    <tr>\n",
       "      <th>3</th>\n",
       "      <td>part3</td>\n",
       "      <td>29</td>\n",
       "      <td>90.00</td>\n",
       "    </tr>\n",
       "    <tr>\n",
       "      <th>4</th>\n",
       "      <td>part3</td>\n",
       "      <td>29</td>\n",
       "      <td>75.00</td>\n",
       "    </tr>\n",
       "    <tr>\n",
       "      <th>5</th>\n",
       "      <td>part2</td>\n",
       "      <td>37</td>\n",
       "      <td>77.90</td>\n",
       "    </tr>\n",
       "  </tbody>\n",
       "</table>\n",
       "</div>"
      ],
      "text/plain": [
       "      소속  나이     점수\n",
       "0   pat1  36  78.40\n",
       "1  part2  54  87.45\n",
       "2  part1  44  67.90\n",
       "3  part3  29  90.00\n",
       "4  part3  29  75.00\n",
       "5  part2  37  77.90"
      ]
     },
     "execution_count": 10,
     "metadata": {},
     "output_type": "execute_result"
    }
   ],
   "source": [
    "employee = {'소속': ['pat1', 'part2', 'part1', 'part3', 'part3', 'part2'],\n",
    "            '나이': [36, 54, 44, 29, 29, 37],\n",
    "            '점수': [78.4, 87.45, 67.9, 90, 75, 77.9]}\n",
    "\n",
    "df_emp = pd.DataFrame(employee)\n",
    "df_emp"
   ]
  },
  {
   "cell_type": "code",
   "execution_count": 11,
   "id": "665643c6",
   "metadata": {},
   "outputs": [
    {
     "data": {
      "text/html": [
       "<div>\n",
       "<style scoped>\n",
       "    .dataframe tbody tr th:only-of-type {\n",
       "        vertical-align: middle;\n",
       "    }\n",
       "\n",
       "    .dataframe tbody tr th {\n",
       "        vertical-align: top;\n",
       "    }\n",
       "\n",
       "    .dataframe thead th {\n",
       "        text-align: right;\n",
       "    }\n",
       "</style>\n",
       "<table border=\"1\" class=\"dataframe\">\n",
       "  <thead>\n",
       "    <tr style=\"text-align: right;\">\n",
       "      <th></th>\n",
       "      <th>소속</th>\n",
       "      <th>나이</th>\n",
       "      <th>점수</th>\n",
       "    </tr>\n",
       "  </thead>\n",
       "  <tbody>\n",
       "    <tr>\n",
       "      <th>0</th>\n",
       "      <td>pat1</td>\n",
       "      <td>36</td>\n",
       "      <td>78.40</td>\n",
       "    </tr>\n",
       "    <tr>\n",
       "      <th>1</th>\n",
       "      <td>part2</td>\n",
       "      <td>54</td>\n",
       "      <td>87.45</td>\n",
       "    </tr>\n",
       "    <tr>\n",
       "      <th>2</th>\n",
       "      <td>part1</td>\n",
       "      <td>44</td>\n",
       "      <td>67.90</td>\n",
       "    </tr>\n",
       "    <tr>\n",
       "      <th>3</th>\n",
       "      <td>part3</td>\n",
       "      <td>29</td>\n",
       "      <td>90.00</td>\n",
       "    </tr>\n",
       "    <tr>\n",
       "      <th>4</th>\n",
       "      <td>part3</td>\n",
       "      <td>29</td>\n",
       "      <td>75.00</td>\n",
       "    </tr>\n",
       "    <tr>\n",
       "      <th>5</th>\n",
       "      <td>part2</td>\n",
       "      <td>37</td>\n",
       "      <td>77.90</td>\n",
       "    </tr>\n",
       "  </tbody>\n",
       "</table>\n",
       "</div>"
      ],
      "text/plain": [
       "      소속  나이     점수\n",
       "0   pat1  36  78.40\n",
       "1  part2  54  87.45\n",
       "2  part1  44  67.90\n",
       "3  part3  29  90.00\n",
       "4  part3  29  75.00\n",
       "5  part2  37  77.90"
      ]
     },
     "execution_count": 11,
     "metadata": {},
     "output_type": "execute_result"
    }
   ],
   "source": [
    " # 또다른 방법  \n",
    "df_emp = pd.DataFrame(employee, columns=employee.keys())\n",
    "df_emp"
   ]
  },
  {
   "cell_type": "markdown",
   "id": "94d3dbd7",
   "metadata": {},
   "source": [
    "ndarray 데이터로 DataFrame 생성하기"
   ]
  },
  {
   "cell_type": "code",
   "execution_count": 12,
   "id": "1698db64",
   "metadata": {},
   "outputs": [
    {
     "data": {
      "text/html": [
       "<div>\n",
       "<style scoped>\n",
       "    .dataframe tbody tr th:only-of-type {\n",
       "        vertical-align: middle;\n",
       "    }\n",
       "\n",
       "    .dataframe tbody tr th {\n",
       "        vertical-align: top;\n",
       "    }\n",
       "\n",
       "    .dataframe thead th {\n",
       "        text-align: right;\n",
       "    }\n",
       "</style>\n",
       "<table border=\"1\" class=\"dataframe\">\n",
       "  <thead>\n",
       "    <tr style=\"text-align: right;\">\n",
       "      <th></th>\n",
       "      <th>0</th>\n",
       "      <th>1</th>\n",
       "      <th>2</th>\n",
       "    </tr>\n",
       "  </thead>\n",
       "  <tbody>\n",
       "    <tr>\n",
       "      <th>0</th>\n",
       "      <td>1</td>\n",
       "      <td>1</td>\n",
       "      <td>1</td>\n",
       "    </tr>\n",
       "    <tr>\n",
       "      <th>1</th>\n",
       "      <td>2</td>\n",
       "      <td>2</td>\n",
       "      <td>2</td>\n",
       "    </tr>\n",
       "    <tr>\n",
       "      <th>2</th>\n",
       "      <td>3</td>\n",
       "      <td>3</td>\n",
       "      <td>3</td>\n",
       "    </tr>\n",
       "  </tbody>\n",
       "</table>\n",
       "</div>"
      ],
      "text/plain": [
       "   0  1  2\n",
       "0  1  1  1\n",
       "1  2  2  2\n",
       "2  3  3  3"
      ]
     },
     "execution_count": 12,
     "metadata": {},
     "output_type": "execute_result"
    }
   ],
   "source": [
    "arr2d = np.array([[1, 1, 1], [2, 2, 2], [3, 3, 3]])\n",
    "df_arr = pd.DataFrame(arr2d)\n",
    "df_arr"
   ]
  },
  {
   "cell_type": "markdown",
   "id": "0ee1e129",
   "metadata": {},
   "source": [
    "#### 2.2 DataFrame 수정"
   ]
  },
  {
   "cell_type": "markdown",
   "id": "d2e92a99",
   "metadata": {},
   "source": [
    "컬럼명 변경하기"
   ]
  },
  {
   "cell_type": "code",
   "execution_count": 13,
   "id": "58a56172",
   "metadata": {},
   "outputs": [
    {
     "data": {
      "text/html": [
       "<div>\n",
       "<style scoped>\n",
       "    .dataframe tbody tr th:only-of-type {\n",
       "        vertical-align: middle;\n",
       "    }\n",
       "\n",
       "    .dataframe tbody tr th {\n",
       "        vertical-align: top;\n",
       "    }\n",
       "\n",
       "    .dataframe thead th {\n",
       "        text-align: right;\n",
       "    }\n",
       "</style>\n",
       "<table border=\"1\" class=\"dataframe\">\n",
       "  <thead>\n",
       "    <tr style=\"text-align: right;\">\n",
       "      <th></th>\n",
       "      <th>col1</th>\n",
       "      <th>col2</th>\n",
       "      <th>col3</th>\n",
       "    </tr>\n",
       "  </thead>\n",
       "  <tbody>\n",
       "    <tr>\n",
       "      <th>0</th>\n",
       "      <td>1</td>\n",
       "      <td>1</td>\n",
       "      <td>1</td>\n",
       "    </tr>\n",
       "    <tr>\n",
       "      <th>1</th>\n",
       "      <td>2</td>\n",
       "      <td>2</td>\n",
       "      <td>2</td>\n",
       "    </tr>\n",
       "    <tr>\n",
       "      <th>2</th>\n",
       "      <td>3</td>\n",
       "      <td>3</td>\n",
       "      <td>3</td>\n",
       "    </tr>\n",
       "  </tbody>\n",
       "</table>\n",
       "</div>"
      ],
      "text/plain": [
       "   col1  col2  col3\n",
       "0     1     1     1\n",
       "1     2     2     2\n",
       "2     3     3     3"
      ]
     },
     "execution_count": 13,
     "metadata": {},
     "output_type": "execute_result"
    }
   ],
   "source": [
    "df_arr.columns = ['col1', 'col2', 'col3']\n",
    "df_arr"
   ]
  },
  {
   "cell_type": "markdown",
   "id": "2eeb3e0a",
   "metadata": {},
   "source": [
    "인덱스 변경하기"
   ]
  },
  {
   "cell_type": "code",
   "execution_count": 14,
   "id": "28f25311",
   "metadata": {},
   "outputs": [
    {
     "data": {
      "text/html": [
       "<div>\n",
       "<style scoped>\n",
       "    .dataframe tbody tr th:only-of-type {\n",
       "        vertical-align: middle;\n",
       "    }\n",
       "\n",
       "    .dataframe tbody tr th {\n",
       "        vertical-align: top;\n",
       "    }\n",
       "\n",
       "    .dataframe thead th {\n",
       "        text-align: right;\n",
       "    }\n",
       "</style>\n",
       "<table border=\"1\" class=\"dataframe\">\n",
       "  <thead>\n",
       "    <tr style=\"text-align: right;\">\n",
       "      <th></th>\n",
       "      <th>col1</th>\n",
       "      <th>col2</th>\n",
       "      <th>col3</th>\n",
       "    </tr>\n",
       "  </thead>\n",
       "  <tbody>\n",
       "    <tr>\n",
       "      <th>row1</th>\n",
       "      <td>1</td>\n",
       "      <td>1</td>\n",
       "      <td>1</td>\n",
       "    </tr>\n",
       "    <tr>\n",
       "      <th>row2</th>\n",
       "      <td>2</td>\n",
       "      <td>2</td>\n",
       "      <td>2</td>\n",
       "    </tr>\n",
       "    <tr>\n",
       "      <th>row3</th>\n",
       "      <td>3</td>\n",
       "      <td>3</td>\n",
       "      <td>3</td>\n",
       "    </tr>\n",
       "  </tbody>\n",
       "</table>\n",
       "</div>"
      ],
      "text/plain": [
       "      col1  col2  col3\n",
       "row1     1     1     1\n",
       "row2     2     2     2\n",
       "row3     3     3     3"
      ]
     },
     "execution_count": 14,
     "metadata": {},
     "output_type": "execute_result"
    }
   ],
   "source": [
    "df_arr.index = ['row1', 'row2', 'row3']\n",
    "df_arr"
   ]
  },
  {
   "cell_type": "markdown",
   "id": "0cf0da82",
   "metadata": {},
   "source": [
    "DataFrame 생성할 때 인덱스와 컬럼명을 지정할 수도 있다."
   ]
  },
  {
   "cell_type": "code",
   "execution_count": 15,
   "id": "b6b3495b",
   "metadata": {},
   "outputs": [
    {
     "data": {
      "text/html": [
       "<div>\n",
       "<style scoped>\n",
       "    .dataframe tbody tr th:only-of-type {\n",
       "        vertical-align: middle;\n",
       "    }\n",
       "\n",
       "    .dataframe tbody tr th {\n",
       "        vertical-align: top;\n",
       "    }\n",
       "\n",
       "    .dataframe thead th {\n",
       "        text-align: right;\n",
       "    }\n",
       "</style>\n",
       "<table border=\"1\" class=\"dataframe\">\n",
       "  <thead>\n",
       "    <tr style=\"text-align: right;\">\n",
       "      <th></th>\n",
       "      <th>col1</th>\n",
       "      <th>col2</th>\n",
       "      <th>col3</th>\n",
       "    </tr>\n",
       "  </thead>\n",
       "  <tbody>\n",
       "    <tr>\n",
       "      <th>row1</th>\n",
       "      <td>1</td>\n",
       "      <td>1</td>\n",
       "      <td>1</td>\n",
       "    </tr>\n",
       "    <tr>\n",
       "      <th>row2</th>\n",
       "      <td>2</td>\n",
       "      <td>2</td>\n",
       "      <td>2</td>\n",
       "    </tr>\n",
       "    <tr>\n",
       "      <th>row3</th>\n",
       "      <td>3</td>\n",
       "      <td>3</td>\n",
       "      <td>3</td>\n",
       "    </tr>\n",
       "  </tbody>\n",
       "</table>\n",
       "</div>"
      ],
      "text/plain": [
       "      col1  col2  col3\n",
       "row1     1     1     1\n",
       "row2     2     2     2\n",
       "row3     3     3     3"
      ]
     },
     "execution_count": 15,
     "metadata": {},
     "output_type": "execute_result"
    }
   ],
   "source": [
    "arr2d = np.array([[1, 1, 1], [2, 2, 2], [3, 3, 3]])\n",
    "df_arr2 = pd.DataFrame(data=arr2d, index=['row1', 'row2', 'row3'], columns=['col1', 'col2', 'col3'])\n",
    "df_arr2"
   ]
  },
  {
   "cell_type": "markdown",
   "id": "5325eb7c",
   "metadata": {},
   "source": [
    "#### 2.3 DataFrame 의 주요 속성과 메서드"
   ]
  },
  {
   "cell_type": "code",
   "execution_count": 16,
   "id": "68e4d32b",
   "metadata": {},
   "outputs": [
    {
     "data": {
      "text/html": [
       "<div>\n",
       "<style scoped>\n",
       "    .dataframe tbody tr th:only-of-type {\n",
       "        vertical-align: middle;\n",
       "    }\n",
       "\n",
       "    .dataframe tbody tr th {\n",
       "        vertical-align: top;\n",
       "    }\n",
       "\n",
       "    .dataframe thead th {\n",
       "        text-align: right;\n",
       "    }\n",
       "</style>\n",
       "<table border=\"1\" class=\"dataframe\">\n",
       "  <thead>\n",
       "    <tr style=\"text-align: right;\">\n",
       "      <th></th>\n",
       "      <th>소속</th>\n",
       "      <th>나이</th>\n",
       "      <th>점수</th>\n",
       "    </tr>\n",
       "  </thead>\n",
       "  <tbody>\n",
       "  </tbody>\n",
       "</table>\n",
       "</div>"
      ],
      "text/plain": [
       "Empty DataFrame\n",
       "Columns: [소속, 나이, 점수]\n",
       "Index: []"
      ]
     },
     "execution_count": 16,
     "metadata": {},
     "output_type": "execute_result"
    }
   ],
   "source": [
    "# DataFrame 생성\n",
    "depart = ['pat1', 'part2', 'part1', 'part3', 'part3', 'part2', 'part1', 'part2', 'part3']\n",
    "age = [36, 54, 44, 29, 29, 37, 55, 43, 46]\n",
    "score = [78.4, 87.45, 67.9, 90, 75, 77.9, 99, 87.2, 82.3]\n",
    "\n",
    "df_emp2 = pd.DataFrame(columns=['소속', '나이', '점수'])\n",
    "df_emp2"
   ]
  },
  {
   "cell_type": "code",
   "execution_count": 17,
   "id": "40593a93",
   "metadata": {},
   "outputs": [
    {
     "data": {
      "text/html": [
       "<div>\n",
       "<style scoped>\n",
       "    .dataframe tbody tr th:only-of-type {\n",
       "        vertical-align: middle;\n",
       "    }\n",
       "\n",
       "    .dataframe tbody tr th {\n",
       "        vertical-align: top;\n",
       "    }\n",
       "\n",
       "    .dataframe thead th {\n",
       "        text-align: right;\n",
       "    }\n",
       "</style>\n",
       "<table border=\"1\" class=\"dataframe\">\n",
       "  <thead>\n",
       "    <tr style=\"text-align: right;\">\n",
       "      <th></th>\n",
       "      <th>소속</th>\n",
       "      <th>나이</th>\n",
       "      <th>점수</th>\n",
       "    </tr>\n",
       "  </thead>\n",
       "  <tbody>\n",
       "    <tr>\n",
       "      <th>0</th>\n",
       "      <td>pat1</td>\n",
       "      <td>36</td>\n",
       "      <td>78.40</td>\n",
       "    </tr>\n",
       "    <tr>\n",
       "      <th>1</th>\n",
       "      <td>part2</td>\n",
       "      <td>54</td>\n",
       "      <td>87.45</td>\n",
       "    </tr>\n",
       "    <tr>\n",
       "      <th>2</th>\n",
       "      <td>part1</td>\n",
       "      <td>44</td>\n",
       "      <td>67.90</td>\n",
       "    </tr>\n",
       "    <tr>\n",
       "      <th>3</th>\n",
       "      <td>part3</td>\n",
       "      <td>29</td>\n",
       "      <td>90.00</td>\n",
       "    </tr>\n",
       "    <tr>\n",
       "      <th>4</th>\n",
       "      <td>part3</td>\n",
       "      <td>29</td>\n",
       "      <td>75.00</td>\n",
       "    </tr>\n",
       "    <tr>\n",
       "      <th>5</th>\n",
       "      <td>part2</td>\n",
       "      <td>37</td>\n",
       "      <td>77.90</td>\n",
       "    </tr>\n",
       "    <tr>\n",
       "      <th>6</th>\n",
       "      <td>part1</td>\n",
       "      <td>55</td>\n",
       "      <td>99.00</td>\n",
       "    </tr>\n",
       "    <tr>\n",
       "      <th>7</th>\n",
       "      <td>part2</td>\n",
       "      <td>43</td>\n",
       "      <td>87.20</td>\n",
       "    </tr>\n",
       "    <tr>\n",
       "      <th>8</th>\n",
       "      <td>part3</td>\n",
       "      <td>46</td>\n",
       "      <td>82.30</td>\n",
       "    </tr>\n",
       "  </tbody>\n",
       "</table>\n",
       "</div>"
      ],
      "text/plain": [
       "      소속  나이     점수\n",
       "0   pat1  36  78.40\n",
       "1  part2  54  87.45\n",
       "2  part1  44  67.90\n",
       "3  part3  29  90.00\n",
       "4  part3  29  75.00\n",
       "5  part2  37  77.90\n",
       "6  part1  55  99.00\n",
       "7  part2  43  87.20\n",
       "8  part3  46  82.30"
      ]
     },
     "execution_count": 17,
     "metadata": {},
     "output_type": "execute_result"
    }
   ],
   "source": [
    "df_emp2['소속'] = depart\n",
    "df_emp2['나이'] = age\n",
    "df_emp2['점수'] = score\n",
    "df_emp2"
   ]
  },
  {
   "cell_type": "markdown",
   "id": "8e456548",
   "metadata": {},
   "source": [
    "1) info() : 데이터프레임 컬럼의 기본정보 출력"
   ]
  },
  {
   "cell_type": "code",
   "execution_count": 18,
   "id": "915a4b84",
   "metadata": {},
   "outputs": [
    {
     "name": "stdout",
     "output_type": "stream",
     "text": [
      "<class 'pandas.core.frame.DataFrame'>\n",
      "RangeIndex: 9 entries, 0 to 8\n",
      "Data columns (total 3 columns):\n",
      " #   Column  Non-Null Count  Dtype  \n",
      "---  ------  --------------  -----  \n",
      " 0   소속      9 non-null      object \n",
      " 1   나이      9 non-null      int64  \n",
      " 2   점수      9 non-null      float64\n",
      "dtypes: float64(1), int64(1), object(1)\n",
      "memory usage: 348.0+ bytes\n"
     ]
    }
   ],
   "source": [
    "df_emp2.info()"
   ]
  },
  {
   "cell_type": "markdown",
   "id": "51c9b214",
   "metadata": {},
   "source": [
    "2) describe() : 수치형 데이터 컬럼의 기본정보 제공"
   ]
  },
  {
   "cell_type": "code",
   "execution_count": 19,
   "id": "b0215dac",
   "metadata": {},
   "outputs": [
    {
     "data": {
      "text/html": [
       "<div>\n",
       "<style scoped>\n",
       "    .dataframe tbody tr th:only-of-type {\n",
       "        vertical-align: middle;\n",
       "    }\n",
       "\n",
       "    .dataframe tbody tr th {\n",
       "        vertical-align: top;\n",
       "    }\n",
       "\n",
       "    .dataframe thead th {\n",
       "        text-align: right;\n",
       "    }\n",
       "</style>\n",
       "<table border=\"1\" class=\"dataframe\">\n",
       "  <thead>\n",
       "    <tr style=\"text-align: right;\">\n",
       "      <th></th>\n",
       "      <th>나이</th>\n",
       "      <th>점수</th>\n",
       "    </tr>\n",
       "  </thead>\n",
       "  <tbody>\n",
       "    <tr>\n",
       "      <th>count</th>\n",
       "      <td>9.000000</td>\n",
       "      <td>9.000000</td>\n",
       "    </tr>\n",
       "    <tr>\n",
       "      <th>mean</th>\n",
       "      <td>41.444444</td>\n",
       "      <td>82.794444</td>\n",
       "    </tr>\n",
       "    <tr>\n",
       "      <th>std</th>\n",
       "      <td>9.553940</td>\n",
       "      <td>9.231280</td>\n",
       "    </tr>\n",
       "    <tr>\n",
       "      <th>min</th>\n",
       "      <td>29.000000</td>\n",
       "      <td>67.900000</td>\n",
       "    </tr>\n",
       "    <tr>\n",
       "      <th>25%</th>\n",
       "      <td>36.000000</td>\n",
       "      <td>77.900000</td>\n",
       "    </tr>\n",
       "    <tr>\n",
       "      <th>50%</th>\n",
       "      <td>43.000000</td>\n",
       "      <td>82.300000</td>\n",
       "    </tr>\n",
       "    <tr>\n",
       "      <th>75%</th>\n",
       "      <td>46.000000</td>\n",
       "      <td>87.450000</td>\n",
       "    </tr>\n",
       "    <tr>\n",
       "      <th>max</th>\n",
       "      <td>55.000000</td>\n",
       "      <td>99.000000</td>\n",
       "    </tr>\n",
       "  </tbody>\n",
       "</table>\n",
       "</div>"
      ],
      "text/plain": [
       "              나이         점수\n",
       "count   9.000000   9.000000\n",
       "mean   41.444444  82.794444\n",
       "std     9.553940   9.231280\n",
       "min    29.000000  67.900000\n",
       "25%    36.000000  77.900000\n",
       "50%    43.000000  82.300000\n",
       "75%    46.000000  87.450000\n",
       "max    55.000000  99.000000"
      ]
     },
     "execution_count": 19,
     "metadata": {},
     "output_type": "execute_result"
    }
   ],
   "source": [
    "df_emp2.describe()"
   ]
  },
  {
   "cell_type": "markdown",
   "id": "88084a53",
   "metadata": {},
   "source": [
    "3) dtypes : 컬럼의 데이터 타입"
   ]
  },
  {
   "cell_type": "code",
   "execution_count": 20,
   "id": "0bcdc043",
   "metadata": {},
   "outputs": [
    {
     "data": {
      "text/plain": [
       "소속     object\n",
       "나이      int64\n",
       "점수    float64\n",
       "dtype: object"
      ]
     },
     "execution_count": 20,
     "metadata": {},
     "output_type": "execute_result"
    }
   ],
   "source": [
    "df_emp2.dtypes"
   ]
  },
  {
   "cell_type": "markdown",
   "id": "140ec730",
   "metadata": {},
   "source": [
    "4) head() : 상위 5개 자료 출력\n",
    "- 데이터 형태를 간단하게 살펴볼 때 유용함"
   ]
  },
  {
   "cell_type": "code",
   "execution_count": 21,
   "id": "dbd1eb1e",
   "metadata": {},
   "outputs": [
    {
     "data": {
      "text/html": [
       "<div>\n",
       "<style scoped>\n",
       "    .dataframe tbody tr th:only-of-type {\n",
       "        vertical-align: middle;\n",
       "    }\n",
       "\n",
       "    .dataframe tbody tr th {\n",
       "        vertical-align: top;\n",
       "    }\n",
       "\n",
       "    .dataframe thead th {\n",
       "        text-align: right;\n",
       "    }\n",
       "</style>\n",
       "<table border=\"1\" class=\"dataframe\">\n",
       "  <thead>\n",
       "    <tr style=\"text-align: right;\">\n",
       "      <th></th>\n",
       "      <th>소속</th>\n",
       "      <th>나이</th>\n",
       "      <th>점수</th>\n",
       "    </tr>\n",
       "  </thead>\n",
       "  <tbody>\n",
       "    <tr>\n",
       "      <th>0</th>\n",
       "      <td>pat1</td>\n",
       "      <td>36</td>\n",
       "      <td>78.40</td>\n",
       "    </tr>\n",
       "    <tr>\n",
       "      <th>1</th>\n",
       "      <td>part2</td>\n",
       "      <td>54</td>\n",
       "      <td>87.45</td>\n",
       "    </tr>\n",
       "    <tr>\n",
       "      <th>2</th>\n",
       "      <td>part1</td>\n",
       "      <td>44</td>\n",
       "      <td>67.90</td>\n",
       "    </tr>\n",
       "    <tr>\n",
       "      <th>3</th>\n",
       "      <td>part3</td>\n",
       "      <td>29</td>\n",
       "      <td>90.00</td>\n",
       "    </tr>\n",
       "    <tr>\n",
       "      <th>4</th>\n",
       "      <td>part3</td>\n",
       "      <td>29</td>\n",
       "      <td>75.00</td>\n",
       "    </tr>\n",
       "  </tbody>\n",
       "</table>\n",
       "</div>"
      ],
      "text/plain": [
       "      소속  나이     점수\n",
       "0   pat1  36  78.40\n",
       "1  part2  54  87.45\n",
       "2  part1  44  67.90\n",
       "3  part3  29  90.00\n",
       "4  part3  29  75.00"
      ]
     },
     "execution_count": 21,
     "metadata": {},
     "output_type": "execute_result"
    }
   ],
   "source": [
    "df_emp2.head()"
   ]
  },
  {
   "cell_type": "markdown",
   "id": "bfb6afce",
   "metadata": {},
   "source": [
    "5) tail() : 하위 5개 자료 출력  "
   ]
  },
  {
   "cell_type": "code",
   "execution_count": 22,
   "id": "fdc2ebe1",
   "metadata": {},
   "outputs": [
    {
     "data": {
      "text/html": [
       "<div>\n",
       "<style scoped>\n",
       "    .dataframe tbody tr th:only-of-type {\n",
       "        vertical-align: middle;\n",
       "    }\n",
       "\n",
       "    .dataframe tbody tr th {\n",
       "        vertical-align: top;\n",
       "    }\n",
       "\n",
       "    .dataframe thead th {\n",
       "        text-align: right;\n",
       "    }\n",
       "</style>\n",
       "<table border=\"1\" class=\"dataframe\">\n",
       "  <thead>\n",
       "    <tr style=\"text-align: right;\">\n",
       "      <th></th>\n",
       "      <th>소속</th>\n",
       "      <th>나이</th>\n",
       "      <th>점수</th>\n",
       "    </tr>\n",
       "  </thead>\n",
       "  <tbody>\n",
       "    <tr>\n",
       "      <th>4</th>\n",
       "      <td>part3</td>\n",
       "      <td>29</td>\n",
       "      <td>75.0</td>\n",
       "    </tr>\n",
       "    <tr>\n",
       "      <th>5</th>\n",
       "      <td>part2</td>\n",
       "      <td>37</td>\n",
       "      <td>77.9</td>\n",
       "    </tr>\n",
       "    <tr>\n",
       "      <th>6</th>\n",
       "      <td>part1</td>\n",
       "      <td>55</td>\n",
       "      <td>99.0</td>\n",
       "    </tr>\n",
       "    <tr>\n",
       "      <th>7</th>\n",
       "      <td>part2</td>\n",
       "      <td>43</td>\n",
       "      <td>87.2</td>\n",
       "    </tr>\n",
       "    <tr>\n",
       "      <th>8</th>\n",
       "      <td>part3</td>\n",
       "      <td>46</td>\n",
       "      <td>82.3</td>\n",
       "    </tr>\n",
       "  </tbody>\n",
       "</table>\n",
       "</div>"
      ],
      "text/plain": [
       "      소속  나이    점수\n",
       "4  part3  29  75.0\n",
       "5  part2  37  77.9\n",
       "6  part1  55  99.0\n",
       "7  part2  43  87.2\n",
       "8  part3  46  82.3"
      ]
     },
     "execution_count": 22,
     "metadata": {},
     "output_type": "execute_result"
    }
   ],
   "source": [
    "df_emp2.tail()"
   ]
  },
  {
   "cell_type": "markdown",
   "id": "92d52b4a",
   "metadata": {},
   "source": [
    "6) shape : 데이터의 사이즈 출력(rows x columns)"
   ]
  },
  {
   "cell_type": "code",
   "execution_count": 23,
   "id": "53664cdc",
   "metadata": {},
   "outputs": [
    {
     "data": {
      "text/plain": [
       "(9, 3)"
      ]
     },
     "execution_count": 23,
     "metadata": {},
     "output_type": "execute_result"
    }
   ],
   "source": [
    "df_emp2.shape"
   ]
  },
  {
   "cell_type": "markdown",
   "id": "af1d3688",
   "metadata": {},
   "source": [
    "7) sum()"
   ]
  },
  {
   "cell_type": "code",
   "execution_count": 24,
   "id": "4b85dfb7",
   "metadata": {},
   "outputs": [
    {
     "data": {
      "text/plain": [
       "745.15"
      ]
     },
     "execution_count": 24,
     "metadata": {},
     "output_type": "execute_result"
    }
   ],
   "source": [
    "df_emp2['점수'].sum()"
   ]
  },
  {
   "cell_type": "code",
   "execution_count": 25,
   "id": "8dd8a3ad",
   "metadata": {},
   "outputs": [
    {
     "data": {
      "text/plain": [
       "745.15"
      ]
     },
     "execution_count": 25,
     "metadata": {},
     "output_type": "execute_result"
    }
   ],
   "source": [
    "# row 방향으로 연산\n",
    "df_emp2['점수'].sum(axis=0)"
   ]
  },
  {
   "cell_type": "code",
   "execution_count": 26,
   "id": "35543da4",
   "metadata": {},
   "outputs": [
    {
     "data": {
      "text/plain": [
       "0    114.40\n",
       "1    141.45\n",
       "2    111.90\n",
       "3    119.00\n",
       "4    104.00\n",
       "5    114.90\n",
       "6    154.00\n",
       "7    130.20\n",
       "8    128.30\n",
       "dtype: float64"
      ]
     },
     "execution_count": 26,
     "metadata": {},
     "output_type": "execute_result"
    }
   ],
   "source": [
    "# column 방향으로 연산 : 나이 + 점수\n",
    "df_emp2[['나이', '점수']].sum(axis=1)"
   ]
  },
  {
   "cell_type": "markdown",
   "id": "29ad5efa",
   "metadata": {},
   "source": [
    "8) mean()"
   ]
  },
  {
   "cell_type": "code",
   "execution_count": 27,
   "id": "b33c864f",
   "metadata": {},
   "outputs": [
    {
     "data": {
      "text/plain": [
       "41.44444444444444"
      ]
     },
     "execution_count": 27,
     "metadata": {},
     "output_type": "execute_result"
    }
   ],
   "source": [
    "# row 방향으로 연산\n",
    "df_emp2['나이'].mean(axis=0)"
   ]
  },
  {
   "cell_type": "markdown",
   "id": "10a952f4",
   "metadata": {},
   "source": [
    "9) values : DataFrame의 데이터를 ndarray 자료형으로 리턴 "
   ]
  },
  {
   "cell_type": "code",
   "execution_count": 28,
   "id": "18f986c8",
   "metadata": {},
   "outputs": [
    {
     "data": {
      "text/plain": [
       "array([['pat1', 36, 78.4],\n",
       "       ['part2', 54, 87.45],\n",
       "       ['part1', 44, 67.9],\n",
       "       ['part3', 29, 90.0],\n",
       "       ['part3', 29, 75.0],\n",
       "       ['part2', 37, 77.9],\n",
       "       ['part1', 55, 99.0],\n",
       "       ['part2', 43, 87.2],\n",
       "       ['part3', 46, 82.3]], dtype=object)"
      ]
     },
     "execution_count": 28,
     "metadata": {},
     "output_type": "execute_result"
    }
   ],
   "source": [
    "data = df_emp2.values\n",
    "data"
   ]
  },
  {
   "cell_type": "markdown",
   "id": "4cb52fbe",
   "metadata": {},
   "source": [
    "#### 2.4 DataFrame의 인덱싱, 슬라이싱"
   ]
  },
  {
   "cell_type": "markdown",
   "id": "ef28655c",
   "metadata": {},
   "source": [
    "컬럼 데이터 접근1 : 딕셔너리 키를 통한 접근 방식과 유사함"
   ]
  },
  {
   "cell_type": "code",
   "execution_count": 29,
   "id": "c4a742ad",
   "metadata": {},
   "outputs": [
    {
     "data": {
      "text/plain": [
       "0     pat1\n",
       "1    part2\n",
       "2    part1\n",
       "3    part3\n",
       "4    part3\n",
       "5    part2\n",
       "6    part1\n",
       "7    part2\n",
       "8    part3\n",
       "Name: 소속, dtype: object"
      ]
     },
     "execution_count": 29,
     "metadata": {},
     "output_type": "execute_result"
    }
   ],
   "source": [
    "df_emp2['소속']"
   ]
  },
  {
   "cell_type": "markdown",
   "id": "b5ff4d19",
   "metadata": {},
   "source": [
    "- Series 타입으로 결과를 리턴한다."
   ]
  },
  {
   "cell_type": "markdown",
   "id": "b9787b03",
   "metadata": {},
   "source": [
    "컬럼 데이터 접근2 : 속성(attribute)을 통한 접근"
   ]
  },
  {
   "cell_type": "code",
   "execution_count": 30,
   "id": "1a431b9e",
   "metadata": {},
   "outputs": [
    {
     "data": {
      "text/plain": [
       "0    78.40\n",
       "1    87.45\n",
       "2    67.90\n",
       "3    90.00\n",
       "4    75.00\n",
       "5    77.90\n",
       "6    99.00\n",
       "7    87.20\n",
       "8    82.30\n",
       "Name: 점수, dtype: float64"
      ]
     },
     "execution_count": 30,
     "metadata": {},
     "output_type": "execute_result"
    }
   ],
   "source": [
    "df_emp2.점수"
   ]
  },
  {
   "cell_type": "markdown",
   "id": "c88f16a1",
   "metadata": {},
   "source": [
    "`iloc`을 이용한 인덱싱  \n",
    "- rows와 columns의 인덱스 번호 사용"
   ]
  },
  {
   "cell_type": "code",
   "execution_count": 31,
   "id": "d3bd7ddd",
   "metadata": {},
   "outputs": [
    {
     "data": {
      "text/html": [
       "<div>\n",
       "<style scoped>\n",
       "    .dataframe tbody tr th:only-of-type {\n",
       "        vertical-align: middle;\n",
       "    }\n",
       "\n",
       "    .dataframe tbody tr th {\n",
       "        vertical-align: top;\n",
       "    }\n",
       "\n",
       "    .dataframe thead th {\n",
       "        text-align: right;\n",
       "    }\n",
       "</style>\n",
       "<table border=\"1\" class=\"dataframe\">\n",
       "  <thead>\n",
       "    <tr style=\"text-align: right;\">\n",
       "      <th></th>\n",
       "      <th>소속</th>\n",
       "      <th>나이</th>\n",
       "    </tr>\n",
       "  </thead>\n",
       "  <tbody>\n",
       "    <tr>\n",
       "      <th>0</th>\n",
       "      <td>pat1</td>\n",
       "      <td>36</td>\n",
       "    </tr>\n",
       "    <tr>\n",
       "      <th>1</th>\n",
       "      <td>part2</td>\n",
       "      <td>54</td>\n",
       "    </tr>\n",
       "    <tr>\n",
       "      <th>2</th>\n",
       "      <td>part1</td>\n",
       "      <td>44</td>\n",
       "    </tr>\n",
       "    <tr>\n",
       "      <th>3</th>\n",
       "      <td>part3</td>\n",
       "      <td>29</td>\n",
       "    </tr>\n",
       "    <tr>\n",
       "      <th>4</th>\n",
       "      <td>part3</td>\n",
       "      <td>29</td>\n",
       "    </tr>\n",
       "  </tbody>\n",
       "</table>\n",
       "</div>"
      ],
      "text/plain": [
       "      소속  나이\n",
       "0   pat1  36\n",
       "1  part2  54\n",
       "2  part1  44\n",
       "3  part3  29\n",
       "4  part3  29"
      ]
     },
     "execution_count": 31,
     "metadata": {},
     "output_type": "execute_result"
    }
   ],
   "source": [
    "# 상위 다섯번째 까지의 샘플의 소속과 나이  \n",
    "df_emp2.iloc[:5, :2]"
   ]
  },
  {
   "cell_type": "markdown",
   "id": "125e90d3",
   "metadata": {},
   "source": [
    "`loc`을 이용한 인덱싱  \n",
    "- rows와 columns의 이름 사용"
   ]
  },
  {
   "cell_type": "code",
   "execution_count": 32,
   "id": "ed0cdde8",
   "metadata": {},
   "outputs": [
    {
     "data": {
      "text/html": [
       "<div>\n",
       "<style scoped>\n",
       "    .dataframe tbody tr th:only-of-type {\n",
       "        vertical-align: middle;\n",
       "    }\n",
       "\n",
       "    .dataframe tbody tr th {\n",
       "        vertical-align: top;\n",
       "    }\n",
       "\n",
       "    .dataframe thead th {\n",
       "        text-align: right;\n",
       "    }\n",
       "</style>\n",
       "<table border=\"1\" class=\"dataframe\">\n",
       "  <thead>\n",
       "    <tr style=\"text-align: right;\">\n",
       "      <th></th>\n",
       "      <th>소속</th>\n",
       "      <th>나이</th>\n",
       "    </tr>\n",
       "  </thead>\n",
       "  <tbody>\n",
       "    <tr>\n",
       "      <th>0</th>\n",
       "      <td>pat1</td>\n",
       "      <td>36</td>\n",
       "    </tr>\n",
       "    <tr>\n",
       "      <th>1</th>\n",
       "      <td>part2</td>\n",
       "      <td>54</td>\n",
       "    </tr>\n",
       "    <tr>\n",
       "      <th>2</th>\n",
       "      <td>part1</td>\n",
       "      <td>44</td>\n",
       "    </tr>\n",
       "    <tr>\n",
       "      <th>3</th>\n",
       "      <td>part3</td>\n",
       "      <td>29</td>\n",
       "    </tr>\n",
       "    <tr>\n",
       "      <th>4</th>\n",
       "      <td>part3</td>\n",
       "      <td>29</td>\n",
       "    </tr>\n",
       "    <tr>\n",
       "      <th>5</th>\n",
       "      <td>part2</td>\n",
       "      <td>37</td>\n",
       "    </tr>\n",
       "  </tbody>\n",
       "</table>\n",
       "</div>"
      ],
      "text/plain": [
       "      소속  나이\n",
       "0   pat1  36\n",
       "1  part2  54\n",
       "2  part1  44\n",
       "3  part3  29\n",
       "4  part3  29\n",
       "5  part2  37"
      ]
     },
     "execution_count": 32,
     "metadata": {},
     "output_type": "execute_result"
    }
   ],
   "source": [
    "df_emp2.loc[:5, ['소속', '나이']]"
   ]
  },
  {
   "cell_type": "markdown",
   "id": "ef7a5467",
   "metadata": {},
   "source": [
    "- 위 예에서 rows의 이름은 index 번호와 동일하므로 그대로 사용"
   ]
  },
  {
   "cell_type": "markdown",
   "id": "9e87f619",
   "metadata": {},
   "source": [
    "또 다른 인덱싱 방법 "
   ]
  },
  {
   "cell_type": "code",
   "execution_count": 33,
   "id": "ce5a502b",
   "metadata": {},
   "outputs": [
    {
     "data": {
      "text/html": [
       "<div>\n",
       "<style scoped>\n",
       "    .dataframe tbody tr th:only-of-type {\n",
       "        vertical-align: middle;\n",
       "    }\n",
       "\n",
       "    .dataframe tbody tr th {\n",
       "        vertical-align: top;\n",
       "    }\n",
       "\n",
       "    .dataframe thead th {\n",
       "        text-align: right;\n",
       "    }\n",
       "</style>\n",
       "<table border=\"1\" class=\"dataframe\">\n",
       "  <thead>\n",
       "    <tr style=\"text-align: right;\">\n",
       "      <th></th>\n",
       "      <th>소속</th>\n",
       "      <th>나이</th>\n",
       "    </tr>\n",
       "  </thead>\n",
       "  <tbody>\n",
       "    <tr>\n",
       "      <th>0</th>\n",
       "      <td>pat1</td>\n",
       "      <td>36</td>\n",
       "    </tr>\n",
       "    <tr>\n",
       "      <th>1</th>\n",
       "      <td>part2</td>\n",
       "      <td>54</td>\n",
       "    </tr>\n",
       "    <tr>\n",
       "      <th>2</th>\n",
       "      <td>part1</td>\n",
       "      <td>44</td>\n",
       "    </tr>\n",
       "    <tr>\n",
       "      <th>3</th>\n",
       "      <td>part3</td>\n",
       "      <td>29</td>\n",
       "    </tr>\n",
       "    <tr>\n",
       "      <th>4</th>\n",
       "      <td>part3</td>\n",
       "      <td>29</td>\n",
       "    </tr>\n",
       "  </tbody>\n",
       "</table>\n",
       "</div>"
      ],
      "text/plain": [
       "      소속  나이\n",
       "0   pat1  36\n",
       "1  part2  54\n",
       "2  part1  44\n",
       "3  part3  29\n",
       "4  part3  29"
      ]
     },
     "execution_count": 33,
     "metadata": {},
     "output_type": "execute_result"
    }
   ],
   "source": [
    "df_emp2[['소속', '나이']][:5]"
   ]
  },
  {
   "cell_type": "markdown",
   "id": "a5ff315f",
   "metadata": {},
   "source": [
    "조건절을 사용한 인덱싱"
   ]
  },
  {
   "cell_type": "code",
   "execution_count": 34,
   "id": "815c529b",
   "metadata": {},
   "outputs": [
    {
     "data": {
      "text/html": [
       "<div>\n",
       "<style scoped>\n",
       "    .dataframe tbody tr th:only-of-type {\n",
       "        vertical-align: middle;\n",
       "    }\n",
       "\n",
       "    .dataframe tbody tr th {\n",
       "        vertical-align: top;\n",
       "    }\n",
       "\n",
       "    .dataframe thead th {\n",
       "        text-align: right;\n",
       "    }\n",
       "</style>\n",
       "<table border=\"1\" class=\"dataframe\">\n",
       "  <thead>\n",
       "    <tr style=\"text-align: right;\">\n",
       "      <th></th>\n",
       "      <th>소속</th>\n",
       "      <th>나이</th>\n",
       "      <th>점수</th>\n",
       "    </tr>\n",
       "  </thead>\n",
       "  <tbody>\n",
       "    <tr>\n",
       "      <th>0</th>\n",
       "      <td>pat1</td>\n",
       "      <td>36</td>\n",
       "      <td>78.4</td>\n",
       "    </tr>\n",
       "    <tr>\n",
       "      <th>2</th>\n",
       "      <td>part1</td>\n",
       "      <td>44</td>\n",
       "      <td>67.9</td>\n",
       "    </tr>\n",
       "    <tr>\n",
       "      <th>3</th>\n",
       "      <td>part3</td>\n",
       "      <td>29</td>\n",
       "      <td>90.0</td>\n",
       "    </tr>\n",
       "    <tr>\n",
       "      <th>4</th>\n",
       "      <td>part3</td>\n",
       "      <td>29</td>\n",
       "      <td>75.0</td>\n",
       "    </tr>\n",
       "    <tr>\n",
       "      <th>5</th>\n",
       "      <td>part2</td>\n",
       "      <td>37</td>\n",
       "      <td>77.9</td>\n",
       "    </tr>\n",
       "    <tr>\n",
       "      <th>7</th>\n",
       "      <td>part2</td>\n",
       "      <td>43</td>\n",
       "      <td>87.2</td>\n",
       "    </tr>\n",
       "  </tbody>\n",
       "</table>\n",
       "</div>"
      ],
      "text/plain": [
       "      소속  나이    점수\n",
       "0   pat1  36  78.4\n",
       "2  part1  44  67.9\n",
       "3  part3  29  90.0\n",
       "4  part3  29  75.0\n",
       "5  part2  37  77.9\n",
       "7  part2  43  87.2"
      ]
     },
     "execution_count": 34,
     "metadata": {},
     "output_type": "execute_result"
    }
   ],
   "source": [
    "# 나이가 45세 이하인 직원의 정보 \n",
    "df_emp2.loc[df_emp2['나이'] <= 45, :]"
   ]
  },
  {
   "cell_type": "code",
   "execution_count": 35,
   "id": "9ed28e04",
   "metadata": {},
   "outputs": [
    {
     "data": {
      "text/html": [
       "<div>\n",
       "<style scoped>\n",
       "    .dataframe tbody tr th:only-of-type {\n",
       "        vertical-align: middle;\n",
       "    }\n",
       "\n",
       "    .dataframe tbody tr th {\n",
       "        vertical-align: top;\n",
       "    }\n",
       "\n",
       "    .dataframe thead th {\n",
       "        text-align: right;\n",
       "    }\n",
       "</style>\n",
       "<table border=\"1\" class=\"dataframe\">\n",
       "  <thead>\n",
       "    <tr style=\"text-align: right;\">\n",
       "      <th></th>\n",
       "      <th>소속</th>\n",
       "      <th>나이</th>\n",
       "      <th>점수</th>\n",
       "    </tr>\n",
       "  </thead>\n",
       "  <tbody>\n",
       "    <tr>\n",
       "      <th>0</th>\n",
       "      <td>pat1</td>\n",
       "      <td>36</td>\n",
       "      <td>78.4</td>\n",
       "    </tr>\n",
       "    <tr>\n",
       "      <th>2</th>\n",
       "      <td>part1</td>\n",
       "      <td>44</td>\n",
       "      <td>67.9</td>\n",
       "    </tr>\n",
       "    <tr>\n",
       "      <th>3</th>\n",
       "      <td>part3</td>\n",
       "      <td>29</td>\n",
       "      <td>90.0</td>\n",
       "    </tr>\n",
       "    <tr>\n",
       "      <th>4</th>\n",
       "      <td>part3</td>\n",
       "      <td>29</td>\n",
       "      <td>75.0</td>\n",
       "    </tr>\n",
       "    <tr>\n",
       "      <th>5</th>\n",
       "      <td>part2</td>\n",
       "      <td>37</td>\n",
       "      <td>77.9</td>\n",
       "    </tr>\n",
       "    <tr>\n",
       "      <th>7</th>\n",
       "      <td>part2</td>\n",
       "      <td>43</td>\n",
       "      <td>87.2</td>\n",
       "    </tr>\n",
       "  </tbody>\n",
       "</table>\n",
       "</div>"
      ],
      "text/plain": [
       "      소속  나이    점수\n",
       "0   pat1  36  78.4\n",
       "2  part1  44  67.9\n",
       "3  part3  29  90.0\n",
       "4  part3  29  75.0\n",
       "5  part2  37  77.9\n",
       "7  part2  43  87.2"
      ]
     },
     "execution_count": 35,
     "metadata": {},
     "output_type": "execute_result"
    }
   ],
   "source": [
    "# 나이가 45세 이하인 직원의 정보 \n",
    "df_emp2[df_emp2['나이'] <= 45]"
   ]
  },
  {
   "cell_type": "markdown",
   "id": "a290b8a3",
   "metadata": {},
   "source": [
    "값 변경하기"
   ]
  },
  {
   "cell_type": "code",
   "execution_count": 36,
   "id": "283da1c7",
   "metadata": {},
   "outputs": [
    {
     "data": {
      "text/html": [
       "<div>\n",
       "<style scoped>\n",
       "    .dataframe tbody tr th:only-of-type {\n",
       "        vertical-align: middle;\n",
       "    }\n",
       "\n",
       "    .dataframe tbody tr th {\n",
       "        vertical-align: top;\n",
       "    }\n",
       "\n",
       "    .dataframe thead th {\n",
       "        text-align: right;\n",
       "    }\n",
       "</style>\n",
       "<table border=\"1\" class=\"dataframe\">\n",
       "  <thead>\n",
       "    <tr style=\"text-align: right;\">\n",
       "      <th></th>\n",
       "      <th>소속</th>\n",
       "      <th>나이</th>\n",
       "      <th>점수</th>\n",
       "    </tr>\n",
       "  </thead>\n",
       "  <tbody>\n",
       "    <tr>\n",
       "      <th>0</th>\n",
       "      <td>pat1</td>\n",
       "      <td>36</td>\n",
       "      <td>78.4</td>\n",
       "    </tr>\n",
       "    <tr>\n",
       "      <th>1</th>\n",
       "      <td>part2</td>\n",
       "      <td>54</td>\n",
       "      <td>NaN</td>\n",
       "    </tr>\n",
       "    <tr>\n",
       "      <th>2</th>\n",
       "      <td>part1</td>\n",
       "      <td>44</td>\n",
       "      <td>67.9</td>\n",
       "    </tr>\n",
       "    <tr>\n",
       "      <th>3</th>\n",
       "      <td>part3</td>\n",
       "      <td>29</td>\n",
       "      <td>90.0</td>\n",
       "    </tr>\n",
       "    <tr>\n",
       "      <th>4</th>\n",
       "      <td>part3</td>\n",
       "      <td>29</td>\n",
       "      <td>75.0</td>\n",
       "    </tr>\n",
       "    <tr>\n",
       "      <th>5</th>\n",
       "      <td>part2</td>\n",
       "      <td>37</td>\n",
       "      <td>77.9</td>\n",
       "    </tr>\n",
       "    <tr>\n",
       "      <th>6</th>\n",
       "      <td>part1</td>\n",
       "      <td>55</td>\n",
       "      <td>NaN</td>\n",
       "    </tr>\n",
       "    <tr>\n",
       "      <th>7</th>\n",
       "      <td>part2</td>\n",
       "      <td>43</td>\n",
       "      <td>87.2</td>\n",
       "    </tr>\n",
       "    <tr>\n",
       "      <th>8</th>\n",
       "      <td>part3</td>\n",
       "      <td>46</td>\n",
       "      <td>NaN</td>\n",
       "    </tr>\n",
       "  </tbody>\n",
       "</table>\n",
       "</div>"
      ],
      "text/plain": [
       "      소속  나이    점수\n",
       "0   pat1  36  78.4\n",
       "1  part2  54   NaN\n",
       "2  part1  44  67.9\n",
       "3  part3  29  90.0\n",
       "4  part3  29  75.0\n",
       "5  part2  37  77.9\n",
       "6  part1  55   NaN\n",
       "7  part2  43  87.2\n",
       "8  part3  46   NaN"
      ]
     },
     "execution_count": 36,
     "metadata": {},
     "output_type": "execute_result"
    }
   ],
   "source": [
    "# 나이가 45세 이상인 직원의 점수를 Null로 대체\n",
    "df_emp2.loc[df_emp2['나이'] >= 45, '점수'] = None\n",
    "df_emp2"
   ]
  },
  {
   "cell_type": "markdown",
   "id": "c9b4b29a",
   "metadata": {},
   "source": [
    "결측치(missing values) 찾기"
   ]
  },
  {
   "cell_type": "code",
   "execution_count": 37,
   "id": "53bb6dc9",
   "metadata": {},
   "outputs": [
    {
     "data": {
      "text/html": [
       "<div>\n",
       "<style scoped>\n",
       "    .dataframe tbody tr th:only-of-type {\n",
       "        vertical-align: middle;\n",
       "    }\n",
       "\n",
       "    .dataframe tbody tr th {\n",
       "        vertical-align: top;\n",
       "    }\n",
       "\n",
       "    .dataframe thead th {\n",
       "        text-align: right;\n",
       "    }\n",
       "</style>\n",
       "<table border=\"1\" class=\"dataframe\">\n",
       "  <thead>\n",
       "    <tr style=\"text-align: right;\">\n",
       "      <th></th>\n",
       "      <th>소속</th>\n",
       "      <th>나이</th>\n",
       "      <th>점수</th>\n",
       "    </tr>\n",
       "  </thead>\n",
       "  <tbody>\n",
       "    <tr>\n",
       "      <th>0</th>\n",
       "      <td>False</td>\n",
       "      <td>False</td>\n",
       "      <td>False</td>\n",
       "    </tr>\n",
       "    <tr>\n",
       "      <th>1</th>\n",
       "      <td>False</td>\n",
       "      <td>False</td>\n",
       "      <td>True</td>\n",
       "    </tr>\n",
       "    <tr>\n",
       "      <th>2</th>\n",
       "      <td>False</td>\n",
       "      <td>False</td>\n",
       "      <td>False</td>\n",
       "    </tr>\n",
       "    <tr>\n",
       "      <th>3</th>\n",
       "      <td>False</td>\n",
       "      <td>False</td>\n",
       "      <td>False</td>\n",
       "    </tr>\n",
       "    <tr>\n",
       "      <th>4</th>\n",
       "      <td>False</td>\n",
       "      <td>False</td>\n",
       "      <td>False</td>\n",
       "    </tr>\n",
       "    <tr>\n",
       "      <th>5</th>\n",
       "      <td>False</td>\n",
       "      <td>False</td>\n",
       "      <td>False</td>\n",
       "    </tr>\n",
       "    <tr>\n",
       "      <th>6</th>\n",
       "      <td>False</td>\n",
       "      <td>False</td>\n",
       "      <td>True</td>\n",
       "    </tr>\n",
       "    <tr>\n",
       "      <th>7</th>\n",
       "      <td>False</td>\n",
       "      <td>False</td>\n",
       "      <td>False</td>\n",
       "    </tr>\n",
       "    <tr>\n",
       "      <th>8</th>\n",
       "      <td>False</td>\n",
       "      <td>False</td>\n",
       "      <td>True</td>\n",
       "    </tr>\n",
       "  </tbody>\n",
       "</table>\n",
       "</div>"
      ],
      "text/plain": [
       "      소속     나이     점수\n",
       "0  False  False  False\n",
       "1  False  False   True\n",
       "2  False  False  False\n",
       "3  False  False  False\n",
       "4  False  False  False\n",
       "5  False  False  False\n",
       "6  False  False   True\n",
       "7  False  False  False\n",
       "8  False  False   True"
      ]
     },
     "execution_count": 37,
     "metadata": {},
     "output_type": "execute_result"
    }
   ],
   "source": [
    "df_emp2.isnull()"
   ]
  },
  {
   "cell_type": "code",
   "execution_count": 38,
   "id": "cdb1f4f5",
   "metadata": {},
   "outputs": [
    {
     "data": {
      "text/html": [
       "<div>\n",
       "<style scoped>\n",
       "    .dataframe tbody tr th:only-of-type {\n",
       "        vertical-align: middle;\n",
       "    }\n",
       "\n",
       "    .dataframe tbody tr th {\n",
       "        vertical-align: top;\n",
       "    }\n",
       "\n",
       "    .dataframe thead th {\n",
       "        text-align: right;\n",
       "    }\n",
       "</style>\n",
       "<table border=\"1\" class=\"dataframe\">\n",
       "  <thead>\n",
       "    <tr style=\"text-align: right;\">\n",
       "      <th></th>\n",
       "      <th>소속</th>\n",
       "      <th>나이</th>\n",
       "      <th>점수</th>\n",
       "    </tr>\n",
       "  </thead>\n",
       "  <tbody>\n",
       "    <tr>\n",
       "      <th>1</th>\n",
       "      <td>part2</td>\n",
       "      <td>54</td>\n",
       "      <td>NaN</td>\n",
       "    </tr>\n",
       "    <tr>\n",
       "      <th>6</th>\n",
       "      <td>part1</td>\n",
       "      <td>55</td>\n",
       "      <td>NaN</td>\n",
       "    </tr>\n",
       "    <tr>\n",
       "      <th>8</th>\n",
       "      <td>part3</td>\n",
       "      <td>46</td>\n",
       "      <td>NaN</td>\n",
       "    </tr>\n",
       "  </tbody>\n",
       "</table>\n",
       "</div>"
      ],
      "text/plain": [
       "      소속  나이  점수\n",
       "1  part2  54 NaN\n",
       "6  part1  55 NaN\n",
       "8  part3  46 NaN"
      ]
     },
     "execution_count": 38,
     "metadata": {},
     "output_type": "execute_result"
    }
   ],
   "source": [
    "df_emp2[df_emp2['점수'].isnull()]"
   ]
  }
 ],
 "metadata": {
  "kernelspec": {
   "display_name": "Python 3 (ipykernel)",
   "language": "python",
   "name": "python3"
  },
  "language_info": {
   "codemirror_mode": {
    "name": "ipython",
    "version": 3
   },
   "file_extension": ".py",
   "mimetype": "text/x-python",
   "name": "python",
   "nbconvert_exporter": "python",
   "pygments_lexer": "ipython3",
   "version": "3.11.8"
  }
 },
 "nbformat": 4,
 "nbformat_minor": 5
}
