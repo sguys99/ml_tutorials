{
 "cells": [
  {
   "cell_type": "markdown",
   "id": "da2e6fd3",
   "metadata": {},
   "source": [
    "# Data science tutorials  \n",
    "### Chapter7: Machine learning - 기본이론"
   ]
  },
  {
   "cell_type": "markdown",
   "id": "b3cf7ead",
   "metadata": {},
   "source": [
    "<img style=\"float: right;\" src=\"img/logo.png\" width=\"150\">"
   ]
  },
  {
   "cell_type": "markdown",
   "id": "98fa606c",
   "metadata": {},
   "source": [
    "<div style=\"text-align: right\"> Initial issue : 2022.02.15 </div>\n",
    "<div style=\"text-align: right\"> last update : 2022.02.15 </div>"
   ]
  },
  {
   "cell_type": "markdown",
   "id": "412e4531",
   "metadata": {},
   "source": [
    "### Objectives  \n",
    "- 머신러닝의 지도학습과 비지도학습의 개념을 이해한다.  \n",
    "- 분류와 회귀 문제의 차이를 이해한다."
   ]
  },
  {
   "cell_type": "markdown",
   "id": "55d4a94f",
   "metadata": {},
   "source": [
    "### 1. 머신러닝\n",
    "---\n",
    "- 인공지능의 한 분야로 컴퓨터가 학습할 수 있도록하는 알고리즘과 기술을 개발하는 분야 \n",
    "- 모델을 학습시키기 위한 데이터가 필요함"
   ]
  },
  {
   "cell_type": "markdown",
   "id": "79c3ebe5",
   "metadata": {},
   "source": [
    "<img src=\"img/ch07/01_machine_learning.jpg\" width=\"600\">"
   ]
  },
  {
   "cell_type": "markdown",
   "id": "36ad49bd",
   "metadata": {},
   "source": [
    "#### 1.1 머신러닝의 종류 - 학습용 데이터 레이블(Label) 유무에 따른 구분  "
   ]
  },
  {
   "cell_type": "markdown",
   "id": "1f3ac907",
   "metadata": {},
   "source": [
    "- 지도학습(Supervised learning)  \n",
    "- 비지도학습(Unsupervised learning)"
   ]
  },
  {
   "cell_type": "markdown",
   "id": "2161e43a",
   "metadata": {},
   "source": [
    "<img src=\"img/ch07/02_label.jpg\" width=\"400\">"
   ]
  },
  {
   "cell_type": "markdown",
   "id": "32903364",
   "metadata": {},
   "source": [
    "#### 1.2 머신러닝의 종류 - 레이블 유형에 따른 구분  "
   ]
  },
  {
   "cell_type": "markdown",
   "id": "12c49425",
   "metadata": {},
   "source": [
    "- 회 귀(Regression, 연속형 레이블)\n",
    "- 분 류(Classification, 범주형 레이블)"
   ]
  },
  {
   "cell_type": "markdown",
   "id": "53b21cb3",
   "metadata": {},
   "source": [
    "### 2. 지도학습 vs 비지도학습\n",
    "---\n",
    "- 지도학습 : 데이터로부터 피처(Input)와 레이블(Output)과의 관계를 함수로 유추하는 방법\n",
    "- 비지도학습 : 데이터에 레이블이 없을 때 데이터의 관계를 추론하는 방법"
   ]
  },
  {
   "cell_type": "markdown",
   "id": "d96fb0fe",
   "metadata": {},
   "source": [
    "<img src=\"img/ch07/03_sv_usv.jpg\" width=\"800\">"
   ]
  },
  {
   "cell_type": "markdown",
   "id": "4149755f",
   "metadata": {},
   "source": [
    "### 3. 분류 vs 회귀\n",
    "---"
   ]
  },
  {
   "cell_type": "markdown",
   "id": "fab937d7",
   "metadata": {},
   "source": [
    "#### 3.1 분류(Classification) : 미리 정의된, 가능성 있는 여러 클래스 레이블 중 하나를 예측\n",
    "\n",
    "- 이진분류(Binary classification), 다중분류(Multiclass classification)\n",
    "- 예) 유방암 진단, 신용카드 사기 예측, 기계설비 이상진단, 스펨메일 분류"
   ]
  },
  {
   "cell_type": "markdown",
   "id": "54bec7e4",
   "metadata": {},
   "source": [
    "<img src=\"img/ch07/04_classification.jpg\" width=\"400\">"
   ]
  },
  {
   "cell_type": "markdown",
   "id": "74472ee2",
   "metadata": {},
   "source": [
    "#### 3.2 회귀(Regression) : 연속적인 숫자(실수)를 예측\n",
    "- 학업 성취도 예측, 부동산 가격 예측, 주식가격 예측"
   ]
  },
  {
   "cell_type": "markdown",
   "id": "97b67e89",
   "metadata": {},
   "source": [
    "<img src=\"img/ch07/05_regression.jpg\" width=\"400\">"
   ]
  },
  {
   "cell_type": "markdown",
   "id": "d5c68dcd",
   "metadata": {},
   "source": [
    "### 4. 머신러닝 모델 개발 절차\n",
    "---"
   ]
  },
  {
   "cell_type": "markdown",
   "id": "ab00cbfa",
   "metadata": {},
   "source": [
    "<img src=\"img/ch07/06_process.jpg\" width=\"600\">"
   ]
  },
  {
   "cell_type": "markdown",
   "id": "22e7427f",
   "metadata": {},
   "source": [
    "### 5. 파이썬 머신러닝\n",
    "---\n",
    "파이썬이 데이터분석, 머신러닝에 널리 사용되는 이유\n",
    "- 오픈소스(Open source)\n",
    "- NumPy, Pandas, Scikit-learn, Tensorflow 등 다양한 수치해석 및 분석 라이브러리를 보유\n",
    "- 범용 언어로서 독립 실행 어플리케이션이나 웹 서버 개발이 쉽고 다른 언어와 연동이 쉬움"
   ]
  },
  {
   "cell_type": "markdown",
   "id": "3deedc7c",
   "metadata": {},
   "source": [
    "<img src=\"img/ch07/07_python_library.jpg\" width=\"600\">"
   ]
  }
 ],
 "metadata": {
  "kernelspec": {
   "display_name": "Python 3",
   "language": "python",
   "name": "python3"
  },
  "language_info": {
   "codemirror_mode": {
    "name": "ipython",
    "version": 3
   },
   "file_extension": ".py",
   "mimetype": "text/x-python",
   "name": "python",
   "nbconvert_exporter": "python",
   "pygments_lexer": "ipython3",
   "version": "3.8.8"
  }
 },
 "nbformat": 4,
 "nbformat_minor": 5
}
