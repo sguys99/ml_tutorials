{
 "cells": [
  {
   "cell_type": "markdown",
   "id": "56d563f2",
   "metadata": {},
   "source": [
    "# Data science tutorials  \n",
    "### Chapter3 : Numpy"
   ]
  },
  {
   "cell_type": "markdown",
   "id": "4c8e0dce",
   "metadata": {},
   "source": [
    "<img style=\"float: right;\" src=\"img/logo.png\" width=\"150\">"
   ]
  },
  {
   "cell_type": "markdown",
   "id": "bad0da3a",
   "metadata": {},
   "source": [
    "<div style=\"text-align: right\"> Initial issue : 2022.01.22 </div>\n",
    "<div style=\"text-align: right\"> last update : 2022.01.22 </div>"
   ]
  },
  {
   "cell_type": "markdown",
   "id": "5f53ee9b",
   "metadata": {},
   "source": [
    "### References\n",
    "- https://compmath.korea.ac.kr/appmath/NumpyBasics.html\n",
    "- https://numpy.org/doc/stable/user/quickstart.html"
   ]
  },
  {
   "cell_type": "markdown",
   "id": "81c0424f",
   "metadata": {},
   "source": [
    "### Objectives  \n",
    "- Numpy 라이브러리 기본 사용법을 익힌다."
   ]
  },
  {
   "cell_type": "markdown",
   "id": "f08874a0",
   "metadata": {},
   "source": [
    "파이썬 언어로 다차원 배열이나 다양한 형태의 데이터를 다루기 위해 수치계산, 데이터분석용 라이브러리를 사용한다.  \n",
    "Numpy는 벡터 또는 행렬과 같은 다차원 배열의 연산을 쉽게 처리하도록 지원하는 라이브러리이다."
   ]
  },
  {
   "cell_type": "code",
   "execution_count": 1,
   "id": "3fe324b4",
   "metadata": {},
   "outputs": [],
   "source": [
    "import numpy as np # 라이브러리 사용을 위한 추가"
   ]
  },
  {
   "cell_type": "markdown",
   "id": "84576970",
   "metadata": {},
   "source": [
    "### 1. list vs array  \n",
    "---\n",
    "- list : python 기본 자료형  \n",
    "- ndarray : numpy에서 사용하는 자료형, 벡터, 행렬 연산에 특화됨"
   ]
  },
  {
   "cell_type": "markdown",
   "id": "2b8ed583",
   "metadata": {},
   "source": [
    "#### 1.1 list"
   ]
  },
  {
   "cell_type": "code",
   "execution_count": 2,
   "id": "ef473183",
   "metadata": {},
   "outputs": [
    {
     "data": {
      "text/plain": [
       "[0, 1, 2, 3, 4]"
      ]
     },
     "execution_count": 2,
     "metadata": {},
     "output_type": "execute_result"
    }
   ],
   "source": [
    "# 리스트 생성\n",
    "data_list = list(range(5))\n",
    "data_list"
   ]
  },
  {
   "cell_type": "markdown",
   "id": "6b546a54",
   "metadata": {},
   "source": [
    "리스트로 타입의 데이터의 각 요소에 2 곱하기 "
   ]
  },
  {
   "cell_type": "code",
   "execution_count": 3,
   "id": "fd80cbed",
   "metadata": {},
   "outputs": [
    {
     "data": {
      "text/plain": [
       "[0, 1, 2, 3, 4, 0, 1, 2, 3, 4]"
      ]
     },
     "execution_count": 3,
     "metadata": {},
     "output_type": "execute_result"
    }
   ],
   "source": [
    "data_list*2"
   ]
  },
  {
   "cell_type": "markdown",
   "id": "8dbf168d",
   "metadata": {},
   "source": [
    "- 요소가 두배로 늘어난다.  "
   ]
  },
  {
   "cell_type": "markdown",
   "id": "f5c7c191",
   "metadata": {},
   "source": [
    "리스트 데이터의 각 요소를 정수배 하려면, for loop를 사용해야한다.(불편)"
   ]
  },
  {
   "cell_type": "code",
   "execution_count": 4,
   "id": "bf42b202",
   "metadata": {},
   "outputs": [
    {
     "data": {
      "text/plain": [
       "[0, 2, 4, 6, 8]"
      ]
     },
     "execution_count": 4,
     "metadata": {},
     "output_type": "execute_result"
    }
   ],
   "source": [
    "# for loop를 사용\n",
    "[n*2 for n in data_list]"
   ]
  },
  {
   "cell_type": "markdown",
   "id": "d6807dd2",
   "metadata": {},
   "source": [
    "#### 1.2 numpy의 `ndarray` 객체 사용하기"
   ]
  },
  {
   "cell_type": "code",
   "execution_count": 5,
   "id": "27fcf6ca",
   "metadata": {},
   "outputs": [],
   "source": [
    "data_array = np.array(data_list)"
   ]
  },
  {
   "cell_type": "code",
   "execution_count": 6,
   "id": "58de5529",
   "metadata": {},
   "outputs": [
    {
     "data": {
      "text/plain": [
       "array([0, 1, 2, 3, 4])"
      ]
     },
     "execution_count": 6,
     "metadata": {},
     "output_type": "execute_result"
    }
   ],
   "source": [
    "data_array"
   ]
  },
  {
   "cell_type": "code",
   "execution_count": 7,
   "id": "7e708c6a",
   "metadata": {},
   "outputs": [
    {
     "data": {
      "text/plain": [
       "numpy.ndarray"
      ]
     },
     "execution_count": 7,
     "metadata": {},
     "output_type": "execute_result"
    }
   ],
   "source": [
    "type(data_array)"
   ]
  },
  {
   "cell_type": "code",
   "execution_count": 8,
   "id": "73f430cd",
   "metadata": {},
   "outputs": [
    {
     "data": {
      "text/plain": [
       "dtype('int32')"
      ]
     },
     "execution_count": 8,
     "metadata": {},
     "output_type": "execute_result"
    }
   ],
   "source": [
    "# 내부 요소의 데이터 타입\n",
    "data_array.dtype"
   ]
  },
  {
   "cell_type": "code",
   "execution_count": 9,
   "id": "3f367806",
   "metadata": {},
   "outputs": [
    {
     "data": {
      "text/plain": [
       "(5,)"
      ]
     },
     "execution_count": 9,
     "metadata": {},
     "output_type": "execute_result"
    }
   ],
   "source": [
    "# 데이터 형태\n",
    "data_array.shape"
   ]
  },
  {
   "cell_type": "markdown",
   "id": "e495fcfc",
   "metadata": {},
   "source": [
    "ndarray 타입의 데이터의 각 요소에 2 곱하기\n",
    "- ndarray를 사용하면 벡터 연산에 용이하다."
   ]
  },
  {
   "cell_type": "code",
   "execution_count": 10,
   "id": "1abc11c4",
   "metadata": {},
   "outputs": [
    {
     "data": {
      "text/plain": [
       "array([0, 2, 4, 6, 8])"
      ]
     },
     "execution_count": 10,
     "metadata": {},
     "output_type": "execute_result"
    }
   ],
   "source": [
    "data_array*2"
   ]
  },
  {
   "cell_type": "markdown",
   "id": "d0be4384",
   "metadata": {},
   "source": [
    "### 2. 다차원 배열 만들기"
   ]
  },
  {
   "cell_type": "code",
   "execution_count": 11,
   "id": "aa9a278d",
   "metadata": {},
   "outputs": [
    {
     "data": {
      "text/plain": [
       "array([[1, 2, 3, 4],\n",
       "       [5, 6, 7, 8]])"
      ]
     },
     "execution_count": 11,
     "metadata": {},
     "output_type": "execute_result"
    }
   ],
   "source": [
    "data = [[1, 2, 3, 4], [5, 6, 7, 8]]\n",
    "\n",
    "arr = np.array(data)\n",
    "arr"
   ]
  },
  {
   "cell_type": "code",
   "execution_count": 12,
   "id": "07202dd4",
   "metadata": {},
   "outputs": [
    {
     "data": {
      "text/plain": [
       "2"
      ]
     },
     "execution_count": 12,
     "metadata": {},
     "output_type": "execute_result"
    }
   ],
   "source": [
    "# 배열의 차원\n",
    "arr.ndim"
   ]
  },
  {
   "cell_type": "code",
   "execution_count": 13,
   "id": "91abc417",
   "metadata": {},
   "outputs": [
    {
     "data": {
      "text/plain": [
       "(2, 4)"
      ]
     },
     "execution_count": 13,
     "metadata": {},
     "output_type": "execute_result"
    }
   ],
   "source": [
    "# 배열의 형태\n",
    "arr.shape"
   ]
  },
  {
   "cell_type": "markdown",
   "id": "4c4fb996",
   "metadata": {},
   "source": [
    "### 3. 배열 원소의 자료형"
   ]
  },
  {
   "cell_type": "code",
   "execution_count": 14,
   "id": "2996a575",
   "metadata": {},
   "outputs": [],
   "source": [
    "arr1 = np.array([1, 2, 3], dtype=np.float64)\n",
    "arr2 = np.array([1, 2, 3], dtype=np.int64)"
   ]
  },
  {
   "cell_type": "code",
   "execution_count": 15,
   "id": "2bc99698",
   "metadata": {},
   "outputs": [
    {
     "name": "stdout",
     "output_type": "stream",
     "text": [
      "float64\n",
      "int64\n"
     ]
    }
   ],
   "source": [
    "print(arr1.dtype)\n",
    "print(arr2.dtype)"
   ]
  },
  {
   "cell_type": "markdown",
   "id": "fbfe22d3",
   "metadata": {},
   "source": [
    "### 4. 배열 연산"
   ]
  },
  {
   "cell_type": "code",
   "execution_count": 16,
   "id": "0e030d9f",
   "metadata": {},
   "outputs": [],
   "source": [
    "A = np.array( [[1,1],\n",
    "               [0,1]] )\n",
    "B = np.array( [[2,0],\n",
    "               [3,4]] )"
   ]
  },
  {
   "cell_type": "code",
   "execution_count": 17,
   "id": "a8ae4037",
   "metadata": {},
   "outputs": [
    {
     "data": {
      "text/plain": [
       "array([[3, 1],\n",
       "       [3, 5]])"
      ]
     },
     "execution_count": 17,
     "metadata": {},
     "output_type": "execute_result"
    }
   ],
   "source": [
    "A+B"
   ]
  },
  {
   "cell_type": "code",
   "execution_count": 18,
   "id": "eea0f23c",
   "metadata": {},
   "outputs": [
    {
     "data": {
      "text/plain": [
       "array([[-1,  1],\n",
       "       [-3, -3]])"
      ]
     },
     "execution_count": 18,
     "metadata": {},
     "output_type": "execute_result"
    }
   ],
   "source": [
    "A-B"
   ]
  },
  {
   "cell_type": "code",
   "execution_count": 19,
   "id": "34b23c40",
   "metadata": {},
   "outputs": [
    {
     "data": {
      "text/plain": [
       "array([[2, 0],\n",
       "       [0, 4]])"
      ]
     },
     "execution_count": 19,
     "metadata": {},
     "output_type": "execute_result"
    }
   ],
   "source": [
    "A*B # 행렬 원소 곱셈(elementwise product)"
   ]
  },
  {
   "cell_type": "code",
   "execution_count": 20,
   "id": "cb8c1275",
   "metadata": {},
   "outputs": [
    {
     "data": {
      "text/plain": [
       "array([[5, 4],\n",
       "       [3, 4]])"
      ]
     },
     "execution_count": 20,
     "metadata": {},
     "output_type": "execute_result"
    }
   ],
   "source": [
    "A.dot(B) # 행렬 내적(dot product)"
   ]
  },
  {
   "cell_type": "code",
   "execution_count": 21,
   "id": "84b93267",
   "metadata": {},
   "outputs": [
    {
     "data": {
      "text/plain": [
       "array([[5, 4],\n",
       "       [3, 4]])"
      ]
     },
     "execution_count": 21,
     "metadata": {},
     "output_type": "execute_result"
    }
   ],
   "source": [
    "np.dot(A, B) # 행렬 내적(dot product)"
   ]
  },
  {
   "cell_type": "markdown",
   "id": "dfcb339a",
   "metadata": {},
   "source": [
    "### 5. 인덱싱, 슬라이싱"
   ]
  },
  {
   "cell_type": "code",
   "execution_count": 22,
   "id": "f4b01276",
   "metadata": {},
   "outputs": [
    {
     "data": {
      "text/plain": [
       "array([0, 1, 2, 3, 4, 5, 6, 7, 8, 9])"
      ]
     },
     "execution_count": 22,
     "metadata": {},
     "output_type": "execute_result"
    }
   ],
   "source": [
    "arr = np.arange(10)\n",
    "arr"
   ]
  },
  {
   "cell_type": "code",
   "execution_count": 23,
   "id": "ab176ee4",
   "metadata": {},
   "outputs": [
    {
     "data": {
      "text/plain": [
       "5"
      ]
     },
     "execution_count": 23,
     "metadata": {},
     "output_type": "execute_result"
    }
   ],
   "source": [
    "arr[5]"
   ]
  },
  {
   "cell_type": "code",
   "execution_count": 24,
   "id": "bbc87721",
   "metadata": {},
   "outputs": [
    {
     "data": {
      "text/plain": [
       "array([5, 6, 7])"
      ]
     },
     "execution_count": 24,
     "metadata": {},
     "output_type": "execute_result"
    }
   ],
   "source": [
    "arr[5:8]"
   ]
  },
  {
   "cell_type": "markdown",
   "id": "5f0fe504",
   "metadata": {},
   "source": [
    "원소 변경하기"
   ]
  },
  {
   "cell_type": "code",
   "execution_count": 25,
   "id": "2d38350b",
   "metadata": {},
   "outputs": [
    {
     "data": {
      "text/plain": [
       "array([ 0,  1,  2,  3,  4, 10, 10, 10,  8,  9])"
      ]
     },
     "execution_count": 25,
     "metadata": {},
     "output_type": "execute_result"
    }
   ],
   "source": [
    "arr[5:8] = 10\n",
    "arr"
   ]
  },
  {
   "cell_type": "markdown",
   "id": "7ba16ca7",
   "metadata": {},
   "source": [
    "다차원 배열의 인덱싱과 슬라이싱"
   ]
  },
  {
   "cell_type": "code",
   "execution_count": 26,
   "id": "fdf3946e",
   "metadata": {},
   "outputs": [
    {
     "data": {
      "text/plain": [
       "array([[1, 2, 3],\n",
       "       [4, 5, 6],\n",
       "       [7, 8, 9]])"
      ]
     },
     "execution_count": 26,
     "metadata": {},
     "output_type": "execute_result"
    }
   ],
   "source": [
    "arr2d = np.array([[1, 2, 3], [4, 5, 6], [7, 8, 9]])\n",
    "arr2d"
   ]
  },
  {
   "cell_type": "code",
   "execution_count": 27,
   "id": "bdb9f347",
   "metadata": {},
   "outputs": [
    {
     "data": {
      "text/plain": [
       "array([[1, 2, 3],\n",
       "       [4, 5, 6]])"
      ]
     },
     "execution_count": 27,
     "metadata": {},
     "output_type": "execute_result"
    }
   ],
   "source": [
    "arr2d[:2] # row 범위 선택"
   ]
  },
  {
   "cell_type": "code",
   "execution_count": 28,
   "id": "154bc8b0",
   "metadata": {},
   "outputs": [
    {
     "data": {
      "text/plain": [
       "array([[2, 3],\n",
       "       [5, 6]])"
      ]
     },
     "execution_count": 28,
     "metadata": {},
     "output_type": "execute_result"
    }
   ],
   "source": [
    "arr2d[:2, 1:] # row, column 범위 선택"
   ]
  },
  {
   "cell_type": "markdown",
   "id": "569b757a",
   "metadata": {},
   "source": [
    "원소 변경하기"
   ]
  },
  {
   "cell_type": "code",
   "execution_count": 29,
   "id": "e4bdc728",
   "metadata": {},
   "outputs": [
    {
     "data": {
      "text/plain": [
       "array([[ 1, -1, -1],\n",
       "       [ 4, -1, -1],\n",
       "       [ 7,  8,  9]])"
      ]
     },
     "execution_count": 29,
     "metadata": {},
     "output_type": "execute_result"
    }
   ],
   "source": [
    "arr2d[:2, 1:] = -1\n",
    "arr2d"
   ]
  },
  {
   "cell_type": "markdown",
   "id": "8f4d7b90",
   "metadata": {},
   "source": [
    "논리 인덱싱"
   ]
  },
  {
   "cell_type": "code",
   "execution_count": 30,
   "id": "4a0e9775",
   "metadata": {},
   "outputs": [
    {
     "data": {
      "text/plain": [
       "array([[1, 2, 3],\n",
       "       [4, 5, 6],\n",
       "       [7, 8, 9]])"
      ]
     },
     "execution_count": 30,
     "metadata": {},
     "output_type": "execute_result"
    }
   ],
   "source": [
    "arr2d = np.array([[1, 2, 3], [4, 5, 6], [7, 8, 9]])\n",
    "arr2d"
   ]
  },
  {
   "cell_type": "code",
   "execution_count": 31,
   "id": "7a055903",
   "metadata": {},
   "outputs": [
    {
     "data": {
      "text/plain": [
       "array([[ True,  True, False],\n",
       "       [False, False, False],\n",
       "       [False, False, False]])"
      ]
     },
     "execution_count": 31,
     "metadata": {},
     "output_type": "execute_result"
    }
   ],
   "source": [
    "# 3보다 작은 원소 찾기\n",
    "arr2d < 3"
   ]
  },
  {
   "cell_type": "code",
   "execution_count": 32,
   "id": "095e35a7",
   "metadata": {},
   "outputs": [
    {
     "data": {
      "text/plain": [
       "array([1, 2])"
      ]
     },
     "execution_count": 32,
     "metadata": {},
     "output_type": "execute_result"
    }
   ],
   "source": [
    "arr2d[arr2d < 3]"
   ]
  },
  {
   "cell_type": "code",
   "execution_count": 33,
   "id": "3ada55fb",
   "metadata": {},
   "outputs": [
    {
     "data": {
      "text/plain": [
       "array([[-1, -1,  3],\n",
       "       [ 4,  5,  6],\n",
       "       [ 7,  8,  9]])"
      ]
     },
     "execution_count": 33,
     "metadata": {},
     "output_type": "execute_result"
    }
   ],
   "source": [
    "# 3보다 작은 원소에 -1 대입\n",
    "arr2d[arr2d < 3] = -1\n",
    "arr2d"
   ]
  },
  {
   "cell_type": "markdown",
   "id": "2b68d8f2",
   "metadata": {},
   "source": [
    "### 6. 정렬  \n",
    "---\n",
    "파이썬의 리스트와 유사하게 정렬 메서드 사용가능"
   ]
  },
  {
   "cell_type": "code",
   "execution_count": 34,
   "id": "f1b259d1",
   "metadata": {},
   "outputs": [
    {
     "data": {
      "text/plain": [
       "array([3, 2, 4, 1, 5])"
      ]
     },
     "execution_count": 34,
     "metadata": {},
     "output_type": "execute_result"
    }
   ],
   "source": [
    "arr = np.array([3, 2, 4, 1, 5])\n",
    "arr"
   ]
  },
  {
   "cell_type": "code",
   "execution_count": 35,
   "id": "fcf61fb6",
   "metadata": {},
   "outputs": [
    {
     "data": {
      "text/plain": [
       "array([1, 2, 3, 4, 5])"
      ]
     },
     "execution_count": 35,
     "metadata": {},
     "output_type": "execute_result"
    }
   ],
   "source": [
    "arr.sort()\n",
    "arr"
   ]
  }
 ],
 "metadata": {
  "kernelspec": {
   "display_name": "Python 3 (ipykernel)",
   "language": "python",
   "name": "python3"
  },
  "language_info": {
   "codemirror_mode": {
    "name": "ipython",
    "version": 3
   },
   "file_extension": ".py",
   "mimetype": "text/x-python",
   "name": "python",
   "nbconvert_exporter": "python",
   "pygments_lexer": "ipython3",
   "version": "3.8.12"
  }
 },
 "nbformat": 4,
 "nbformat_minor": 5
}
