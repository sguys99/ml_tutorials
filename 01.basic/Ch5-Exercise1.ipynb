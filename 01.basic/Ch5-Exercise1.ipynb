{
 "cells": [
  {
   "cell_type": "markdown",
   "id": "56d563f2",
   "metadata": {},
   "source": [
    "## Data science tutorials  \n",
    "### Chapter5 : Exercise1"
   ]
  },
  {
   "cell_type": "markdown",
   "id": "4c8e0dce",
   "metadata": {},
   "source": [
    "<img style=\"float: right;\" src=\"img/logo.png\" width=\"150\">"
   ]
  },
  {
   "cell_type": "markdown",
   "id": "bad0da3a",
   "metadata": {},
   "source": [
    "<div style=\"text-align: right\"> Initial issue : 2022.01.22 </div>\n",
    "<div style=\"text-align: right\"> last update : 2022.01.22 </div>"
   ]
  },
  {
   "cell_type": "markdown",
   "id": "81c0424f",
   "metadata": {},
   "source": [
    "### Objectives  \n",
    "- Chapter 1 ~ 4의 내용을 바탕으로 실습을 진행한다."
   ]
  },
  {
   "cell_type": "markdown",
   "id": "b08e12b4",
   "metadata": {},
   "source": [
    "### 실습 1 : MCP Neuron(McCulloch-Pitts) 구현하기[[참고]](http://www.aistudy.co.kr/neural/McCulloch_Pitts.htm)\n",
    "---\n",
    "간단한 신경망 회로로 AND, OR, NAND 논리회로 만들기"
   ]
  },
  {
   "cell_type": "markdown",
   "id": "34f08893",
   "metadata": {},
   "source": [
    "<img src=\"img/ch05/01_mcp_neuron.jpg\" width=\"400\">"
   ]
  },
  {
   "cell_type": "code",
   "execution_count": 1,
   "id": "3fe324b4",
   "metadata": {},
   "outputs": [],
   "source": [
    "import numpy as np # 라이브러리 사용을 위한 추가"
   ]
  },
  {
   "cell_type": "markdown",
   "id": "398ffa24",
   "metadata": {},
   "source": [
    "#### 1.1 AND 게이트"
   ]
  },
  {
   "cell_type": "code",
   "execution_count": 2,
   "id": "3431823d",
   "metadata": {},
   "outputs": [],
   "source": [
    "# AND 게이트 함수\n",
    "def AND(x1, x2): # w, b 설정에 따라 AND게이트로 동작\n",
    "    x = np.array([x1, x2])\n",
    "    w = np.array([0.5, 0.5])\n",
    "    b = -0.7\n",
    "    z = np.dot(x, w) + b # 행렬곰셈 연산 XW + b\n",
    "    \n",
    "    y = 1 if z > 0 else 0\n",
    "    return y"
   ]
  },
  {
   "cell_type": "code",
   "execution_count": 3,
   "id": "43d8a781",
   "metadata": {},
   "outputs": [],
   "source": [
    "# 테스트 함수\n",
    "def test(logic):\n",
    "    for x1, x2 in [(0, 0), (0, 1), (1, 0), (1, 1)]:\n",
    "        y = logic(x1, x2)\n",
    "        print(x1, x2, '|', y)"
   ]
  },
  {
   "cell_type": "code",
   "execution_count": 4,
   "id": "b837c70c",
   "metadata": {},
   "outputs": [
    {
     "name": "stdout",
     "output_type": "stream",
     "text": [
      "0 0 | 0\n",
      "0 1 | 0\n",
      "1 0 | 0\n",
      "1 1 | 1\n"
     ]
    }
   ],
   "source": [
    "test(AND)"
   ]
  },
  {
   "cell_type": "markdown",
   "id": "3236c38a",
   "metadata": {},
   "source": [
    "#### 1.2 OR 게이트"
   ]
  },
  {
   "cell_type": "code",
   "execution_count": 5,
   "id": "156bce80",
   "metadata": {},
   "outputs": [],
   "source": [
    "def OR(x1, x2): #  AND 함수에서 w, b 만 수정\n",
    "    x = np.array([x1, x2])\n",
    "    w = np.array([0.5, 0.5])\n",
    "    b = -0.2\n",
    "    z = np.dot(x, w) + b\n",
    "\n",
    "    y = 1 if z > 0 else 0\n",
    "    return y"
   ]
  },
  {
   "cell_type": "code",
   "execution_count": 6,
   "id": "53217818",
   "metadata": {},
   "outputs": [
    {
     "name": "stdout",
     "output_type": "stream",
     "text": [
      "0 0 | 0\n",
      "0 1 | 1\n",
      "1 0 | 1\n",
      "1 1 | 1\n"
     ]
    }
   ],
   "source": [
    "test(OR)"
   ]
  },
  {
   "cell_type": "markdown",
   "id": "969afe48",
   "metadata": {},
   "source": [
    "#### 1.3 NAND 게이트"
   ]
  },
  {
   "cell_type": "code",
   "execution_count": 7,
   "id": "ae2620d2",
   "metadata": {},
   "outputs": [],
   "source": [
    "def NAND(x1, x2):\n",
    "    x = np.array([x1, x2])\n",
    "    w = np.array([-0.5, -0.5])\n",
    "    b = 0.7\n",
    "    z = np.dot(x, w) + b\n",
    "\n",
    "    y = 1 if z > 0 else 0\n",
    "    return y"
   ]
  },
  {
   "cell_type": "code",
   "execution_count": 8,
   "id": "c9b46ef3",
   "metadata": {},
   "outputs": [
    {
     "name": "stdout",
     "output_type": "stream",
     "text": [
      "0 0 | 1\n",
      "0 1 | 1\n",
      "1 0 | 1\n",
      "1 1 | 0\n"
     ]
    }
   ],
   "source": [
    "test(NAND)"
   ]
  },
  {
   "cell_type": "markdown",
   "id": "7732ee19",
   "metadata": {},
   "source": [
    "#### 1.4 클래스 형태로 구현하기"
   ]
  },
  {
   "cell_type": "code",
   "execution_count": 9,
   "id": "31779d45",
   "metadata": {},
   "outputs": [],
   "source": [
    "class MCP_neuron :\n",
    "    def net_input(self, x):\n",
    "        z = np.dot(x, self.w) + self.b\n",
    "        return z\n",
    "    \n",
    "    def activate(self, z):\n",
    "        if z > 0:\n",
    "            return 1\n",
    "        else :\n",
    "            return 0\n",
    "    \n",
    "    def predict(self, x):\n",
    "        z = self.net_input(x)\n",
    "        y = self.activate(z)\n",
    "        return y"
   ]
  },
  {
   "cell_type": "markdown",
   "id": "f8a35b54",
   "metadata": {},
   "source": [
    "AND 게이트 구현하기"
   ]
  },
  {
   "cell_type": "code",
   "execution_count": 10,
   "id": "7e7c2ec4",
   "metadata": {},
   "outputs": [],
   "source": [
    "# 객체 생성\n",
    "AND = MCP_neuron()\n",
    "AND.w = np.array([0.5, 0.5])\n",
    "AND.b = -0.7"
   ]
  },
  {
   "cell_type": "code",
   "execution_count": 11,
   "id": "5924bcd4",
   "metadata": {},
   "outputs": [
    {
     "name": "stdout",
     "output_type": "stream",
     "text": [
      "0 0 | 0\n",
      "0 1 | 0\n",
      "1 0 | 0\n",
      "1 1 | 1\n"
     ]
    }
   ],
   "source": [
    "test(lambda x1, x2 : AND.predict(np.array([x1, x2])))"
   ]
  },
  {
   "cell_type": "markdown",
   "id": "537bf984",
   "metadata": {},
   "source": [
    "### 실습 2 : Perceptron 구현하기[[참고]](http://www.aistudy.com/neural/perceptron.htm)\n",
    "---\n",
    "데이터로 뉴런을 학습하여 AND, OR, NAND 논리회로 만들기  \n",
    "(앞의 MCP Neuron은 학습 기능이 없음)"
   ]
  },
  {
   "cell_type": "markdown",
   "id": "5e266ae8",
   "metadata": {},
   "source": [
    "<img src=\"img/ch05/02_perceptron.jpg\" width=\"400\">"
   ]
  },
  {
   "cell_type": "markdown",
   "id": "d5f661bb",
   "metadata": {},
   "source": [
    "#### 2.1 Perceptron 클래스 구현"
   ]
  },
  {
   "cell_type": "code",
   "execution_count": 12,
   "id": "8749d7cb",
   "metadata": {},
   "outputs": [],
   "source": [
    "class perceptron(MCP_neuron): #MCP_neuron 클래스를 상속하고 학습(fit) 기능만 구현\n",
    "    def fit(self, X, y, learning_rate = 0.1, iterations = 10):\n",
    "        self.w = np.zeros(X.shape[1])\n",
    "        self.b = 0.\n",
    "        error_history = []\n",
    "        for n in range(iterations):\n",
    "            squared_err_sum = 0\n",
    "            for xi, yi in zip(X, y):\n",
    "                yi_pred = self.predict(xi)\n",
    "                error = yi - yi_pred\n",
    "                squared_err_sum += error**2\n",
    "                update = error * learning_rate\n",
    "                self.w += update*xi\n",
    "                self.b += update\n",
    "            error_history.append(squared_err_sum)\n",
    "        \n",
    "        return error_history"
   ]
  },
  {
   "cell_type": "markdown",
   "id": "e8e21b33",
   "metadata": {},
   "source": [
    "#### 2.2 AND 게이트"
   ]
  },
  {
   "cell_type": "code",
   "execution_count": 13,
   "id": "0c8f698c",
   "metadata": {},
   "outputs": [],
   "source": [
    "# AND 회로 학습을 위한 데이터\n",
    "X = np.array([[0, 0], [0, 1],\n",
    "              [1, 0], [1, 1]])\n",
    "y = np.array([0, 0, 0, 1])"
   ]
  },
  {
   "cell_type": "code",
   "execution_count": 14,
   "id": "ab4e9b58",
   "metadata": {},
   "outputs": [],
   "source": [
    "AND = perceptron() #퍼셉트론 생성"
   ]
  },
  {
   "cell_type": "code",
   "execution_count": 15,
   "id": "fca51f9f",
   "metadata": {},
   "outputs": [
    {
     "data": {
      "text/plain": [
       "[1, 3, 3, 2, 1, 0, 0, 0, 0, 0]"
      ]
     },
     "execution_count": 15,
     "metadata": {},
     "output_type": "execute_result"
    }
   ],
   "source": [
    "AND.fit(X, y) # 학습"
   ]
  },
  {
   "cell_type": "code",
   "execution_count": 16,
   "id": "a986d4eb",
   "metadata": {},
   "outputs": [
    {
     "name": "stdout",
     "output_type": "stream",
     "text": [
      "0 0 | 0\n",
      "0 1 | 0\n",
      "1 0 | 0\n",
      "1 1 | 1\n"
     ]
    }
   ],
   "source": [
    "# 시험\n",
    "test(lambda x1, x2 : AND.predict(np.array([x1, x2])))"
   ]
  },
  {
   "cell_type": "code",
   "execution_count": null,
   "id": "37edd459",
   "metadata": {},
   "outputs": [],
   "source": []
  }
 ],
 "metadata": {
  "kernelspec": {
   "display_name": "Python 3 (ipykernel)",
   "language": "python",
   "name": "python3"
  },
  "language_info": {
   "codemirror_mode": {
    "name": "ipython",
    "version": 3
   },
   "file_extension": ".py",
   "mimetype": "text/x-python",
   "name": "python",
   "nbconvert_exporter": "python",
   "pygments_lexer": "ipython3",
   "version": "3.8.12"
  }
 },
 "nbformat": 4,
 "nbformat_minor": 5
}
