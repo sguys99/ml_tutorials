{
 "cells": [
  {
   "cell_type": "markdown",
   "id": "da2e6fd3",
   "metadata": {},
   "source": [
    "# Data science tutorials  \n",
    "### Chapter8: Machine learning - Regression"
   ]
  },
  {
   "cell_type": "markdown",
   "id": "b3cf7ead",
   "metadata": {},
   "source": [
    "<img style=\"float: right;\" src=\"img/logo.png\" width=\"150\">"
   ]
  },
  {
   "cell_type": "markdown",
   "id": "98fa606c",
   "metadata": {},
   "source": [
    "<div style=\"text-align: right\"> Initial issue : 2022.02.15 </div>\n",
    "<div style=\"text-align: right\"> last update : 2022.02.15 </div>"
   ]
  },
  {
   "cell_type": "markdown",
   "id": "412e4531",
   "metadata": {},
   "source": [
    "### Objectives  \n",
    "- 지도학습 중에 회귀(Regression) 문제를 이해한다.  \n",
    "- 사이킷런(Scikit-learn)을 사용하여 회귀 모델을 학습시킨다."
   ]
  },
  {
   "cell_type": "markdown",
   "id": "55d4a94f",
   "metadata": {},
   "source": [
    "### 1. Boston housing 문제\n",
    "---\n",
    "보스턴 지역의 주택정보 데이터를 바탕으로 주택 가격을 예측하는 모델 만들기"
   ]
  },
  {
   "cell_type": "markdown",
   "id": "c0d269ef",
   "metadata": {},
   "source": [
    "<img src=\"img/ch09/01_boston.jpg\" width=\"800\">"
   ]
  },
  {
   "cell_type": "markdown",
   "id": "ba45a80b",
   "metadata": {},
   "source": [
    "#### 1.1 라이브러리 import"
   ]
  },
  {
   "cell_type": "code",
   "execution_count": 1,
   "id": "3685c028",
   "metadata": {},
   "outputs": [],
   "source": [
    "import numpy as np #numpy\n",
    "import pandas as pd #pandas\n",
    "\n",
    "from sklearn.model_selection import train_test_split"
   ]
  },
  {
   "cell_type": "markdown",
   "id": "45abedb9",
   "metadata": {},
   "source": [
    "#### 1.2 데이터 읽어오기 및 기본정보 확인"
   ]
  },
  {
   "cell_type": "markdown",
   "id": "4c07c523",
   "metadata": {},
   "source": [
    "데이터셋 읽어오기"
   ]
  },
  {
   "cell_type": "code",
   "execution_count": 2,
   "id": "2c1b3b5c",
   "metadata": {},
   "outputs": [],
   "source": [
    "boston = pd.read_csv('data/housing.csv')"
   ]
  },
  {
   "cell_type": "markdown",
   "id": "d9830ee7",
   "metadata": {},
   "source": [
    "5개 샘플만 확인하기"
   ]
  },
  {
   "cell_type": "code",
   "execution_count": 3,
   "id": "7da675da",
   "metadata": {},
   "outputs": [
    {
     "data": {
      "text/html": [
       "<div>\n",
       "<style scoped>\n",
       "    .dataframe tbody tr th:only-of-type {\n",
       "        vertical-align: middle;\n",
       "    }\n",
       "\n",
       "    .dataframe tbody tr th {\n",
       "        vertical-align: top;\n",
       "    }\n",
       "\n",
       "    .dataframe thead th {\n",
       "        text-align: right;\n",
       "    }\n",
       "</style>\n",
       "<table border=\"1\" class=\"dataframe\">\n",
       "  <thead>\n",
       "    <tr style=\"text-align: right;\">\n",
       "      <th></th>\n",
       "      <th>CRIM</th>\n",
       "      <th>ZN</th>\n",
       "      <th>INDUS</th>\n",
       "      <th>CHAS</th>\n",
       "      <th>NOX</th>\n",
       "      <th>RM</th>\n",
       "      <th>AGE</th>\n",
       "      <th>DIS</th>\n",
       "      <th>RAD</th>\n",
       "      <th>TAX</th>\n",
       "      <th>PTRATIO</th>\n",
       "      <th>B</th>\n",
       "      <th>LSTAT</th>\n",
       "      <th>MEDV</th>\n",
       "    </tr>\n",
       "  </thead>\n",
       "  <tbody>\n",
       "    <tr>\n",
       "      <th>0</th>\n",
       "      <td>0.00632</td>\n",
       "      <td>18.0</td>\n",
       "      <td>2.31</td>\n",
       "      <td>0</td>\n",
       "      <td>0.538</td>\n",
       "      <td>6.575</td>\n",
       "      <td>65.2</td>\n",
       "      <td>4.0900</td>\n",
       "      <td>1</td>\n",
       "      <td>296.0</td>\n",
       "      <td>15.3</td>\n",
       "      <td>396.90</td>\n",
       "      <td>4.98</td>\n",
       "      <td>24.0</td>\n",
       "    </tr>\n",
       "    <tr>\n",
       "      <th>1</th>\n",
       "      <td>0.02731</td>\n",
       "      <td>0.0</td>\n",
       "      <td>7.07</td>\n",
       "      <td>0</td>\n",
       "      <td>0.469</td>\n",
       "      <td>6.421</td>\n",
       "      <td>78.9</td>\n",
       "      <td>4.9671</td>\n",
       "      <td>2</td>\n",
       "      <td>242.0</td>\n",
       "      <td>17.8</td>\n",
       "      <td>396.90</td>\n",
       "      <td>9.14</td>\n",
       "      <td>21.6</td>\n",
       "    </tr>\n",
       "    <tr>\n",
       "      <th>2</th>\n",
       "      <td>0.02729</td>\n",
       "      <td>0.0</td>\n",
       "      <td>7.07</td>\n",
       "      <td>0</td>\n",
       "      <td>0.469</td>\n",
       "      <td>7.185</td>\n",
       "      <td>61.1</td>\n",
       "      <td>4.9671</td>\n",
       "      <td>2</td>\n",
       "      <td>242.0</td>\n",
       "      <td>17.8</td>\n",
       "      <td>392.83</td>\n",
       "      <td>4.03</td>\n",
       "      <td>34.7</td>\n",
       "    </tr>\n",
       "    <tr>\n",
       "      <th>3</th>\n",
       "      <td>0.03237</td>\n",
       "      <td>0.0</td>\n",
       "      <td>2.18</td>\n",
       "      <td>0</td>\n",
       "      <td>0.458</td>\n",
       "      <td>6.998</td>\n",
       "      <td>45.8</td>\n",
       "      <td>6.0622</td>\n",
       "      <td>3</td>\n",
       "      <td>222.0</td>\n",
       "      <td>18.7</td>\n",
       "      <td>394.63</td>\n",
       "      <td>2.94</td>\n",
       "      <td>33.4</td>\n",
       "    </tr>\n",
       "    <tr>\n",
       "      <th>4</th>\n",
       "      <td>0.06905</td>\n",
       "      <td>0.0</td>\n",
       "      <td>2.18</td>\n",
       "      <td>0</td>\n",
       "      <td>0.458</td>\n",
       "      <td>7.147</td>\n",
       "      <td>54.2</td>\n",
       "      <td>6.0622</td>\n",
       "      <td>3</td>\n",
       "      <td>222.0</td>\n",
       "      <td>18.7</td>\n",
       "      <td>396.90</td>\n",
       "      <td>5.33</td>\n",
       "      <td>36.2</td>\n",
       "    </tr>\n",
       "  </tbody>\n",
       "</table>\n",
       "</div>"
      ],
      "text/plain": [
       "      CRIM    ZN  INDUS  CHAS    NOX     RM   AGE     DIS  RAD    TAX  \\\n",
       "0  0.00632  18.0   2.31     0  0.538  6.575  65.2  4.0900    1  296.0   \n",
       "1  0.02731   0.0   7.07     0  0.469  6.421  78.9  4.9671    2  242.0   \n",
       "2  0.02729   0.0   7.07     0  0.469  7.185  61.1  4.9671    2  242.0   \n",
       "3  0.03237   0.0   2.18     0  0.458  6.998  45.8  6.0622    3  222.0   \n",
       "4  0.06905   0.0   2.18     0  0.458  7.147  54.2  6.0622    3  222.0   \n",
       "\n",
       "   PTRATIO       B  LSTAT  MEDV  \n",
       "0     15.3  396.90   4.98  24.0  \n",
       "1     17.8  396.90   9.14  21.6  \n",
       "2     17.8  392.83   4.03  34.7  \n",
       "3     18.7  394.63   2.94  33.4  \n",
       "4     18.7  396.90   5.33  36.2  "
      ]
     },
     "execution_count": 3,
     "metadata": {},
     "output_type": "execute_result"
    }
   ],
   "source": [
    "boston.head()"
   ]
  },
  {
   "cell_type": "markdown",
   "id": "f26c80e9",
   "metadata": {},
   "source": [
    "컬럼 정보  \n",
    "- CRIM : per capita crime rate by town\n",
    "- ZN : proportion of residential land zoned for lots over 25,000 sq.ft.\n",
    "- INDUS : proportion of non-retail business acres per town.\n",
    "- CHAS : Charles River dummy variable (1 if tract bounds river; 0 otherwise)\n",
    "- NOX : nitric oxides concentration (parts per 10 million)\n",
    "- RM : average number of rooms per dwelling\n",
    "- AGE : proportion of owner-occupied units built prior to 1940\n",
    "- DIS : weighted distances to five Boston employment centres\n",
    "- RAD : index of accessibility to radial highways\n",
    "- TAX : full-value property-tax rate per 10,000usd\n",
    "- PTRATIO : pupil-teacher ratio by town\n",
    "- B : 1000(Bk - 0.63)^2 where Bk is the proportion of blacks by town\n",
    "- LSTAT : % lower status of the population\n",
    "- MEDV : Median value of owner-occupied homes in 1000usd's"
   ]
  },
  {
   "cell_type": "markdown",
   "id": "2013e829",
   "metadata": {},
   "source": [
    "타겟 컬럼은 `MEDV`이다.  \n",
    "타겟의 분포를 확인해본다."
   ]
  },
  {
   "cell_type": "code",
   "execution_count": 4,
   "id": "ffc40911",
   "metadata": {},
   "outputs": [
    {
     "data": {
      "text/plain": [
       "<AxesSubplot:>"
      ]
     },
     "execution_count": 4,
     "metadata": {},
     "output_type": "execute_result"
    },
    {
     "data": {
      "image/png": "[encoded data removed]",
      "text/plain": [
       "<Figure size 864x360 with 1 Axes>"
      ]
     },
     "metadata": {
      "needs_background": "light"
     },
     "output_type": "display_data"
    }
   ],
   "source": [
    "boston['MEDV'].hist(figsize=(12, 5), bins=20)"
   ]
  },
  {
   "cell_type": "markdown",
   "id": "a1ee414b",
   "metadata": {},
   "source": [
    "데이터 모양을 살펴본다."
   ]
  },
  {
   "cell_type": "code",
   "execution_count": 5,
   "id": "a9fcfc3d",
   "metadata": {},
   "outputs": [
    {
     "data": {
      "text/html": [
       "<div>\n",
       "<style scoped>\n",
       "    .dataframe tbody tr th:only-of-type {\n",
       "        vertical-align: middle;\n",
       "    }\n",
       "\n",
       "    .dataframe tbody tr th {\n",
       "        vertical-align: top;\n",
       "    }\n",
       "\n",
       "    .dataframe thead th {\n",
       "        text-align: right;\n",
       "    }\n",
       "</style>\n",
       "<table border=\"1\" class=\"dataframe\">\n",
       "  <thead>\n",
       "    <tr style=\"text-align: right;\">\n",
       "      <th></th>\n",
       "      <th>CRIM</th>\n",
       "      <th>ZN</th>\n",
       "      <th>INDUS</th>\n",
       "      <th>CHAS</th>\n",
       "      <th>NOX</th>\n",
       "      <th>RM</th>\n",
       "      <th>AGE</th>\n",
       "      <th>DIS</th>\n",
       "      <th>RAD</th>\n",
       "      <th>TAX</th>\n",
       "      <th>PTRATIO</th>\n",
       "      <th>B</th>\n",
       "      <th>LSTAT</th>\n",
       "      <th>MEDV</th>\n",
       "    </tr>\n",
       "  </thead>\n",
       "  <tbody>\n",
       "    <tr>\n",
       "      <th>0</th>\n",
       "      <td>0.00632</td>\n",
       "      <td>18.0</td>\n",
       "      <td>2.31</td>\n",
       "      <td>0</td>\n",
       "      <td>0.538</td>\n",
       "      <td>6.575</td>\n",
       "      <td>65.2</td>\n",
       "      <td>4.0900</td>\n",
       "      <td>1</td>\n",
       "      <td>296.0</td>\n",
       "      <td>15.3</td>\n",
       "      <td>396.90</td>\n",
       "      <td>4.98</td>\n",
       "      <td>24.0</td>\n",
       "    </tr>\n",
       "    <tr>\n",
       "      <th>1</th>\n",
       "      <td>0.02731</td>\n",
       "      <td>0.0</td>\n",
       "      <td>7.07</td>\n",
       "      <td>0</td>\n",
       "      <td>0.469</td>\n",
       "      <td>6.421</td>\n",
       "      <td>78.9</td>\n",
       "      <td>4.9671</td>\n",
       "      <td>2</td>\n",
       "      <td>242.0</td>\n",
       "      <td>17.8</td>\n",
       "      <td>396.90</td>\n",
       "      <td>9.14</td>\n",
       "      <td>21.6</td>\n",
       "    </tr>\n",
       "    <tr>\n",
       "      <th>2</th>\n",
       "      <td>0.02729</td>\n",
       "      <td>0.0</td>\n",
       "      <td>7.07</td>\n",
       "      <td>0</td>\n",
       "      <td>0.469</td>\n",
       "      <td>7.185</td>\n",
       "      <td>61.1</td>\n",
       "      <td>4.9671</td>\n",
       "      <td>2</td>\n",
       "      <td>242.0</td>\n",
       "      <td>17.8</td>\n",
       "      <td>392.83</td>\n",
       "      <td>4.03</td>\n",
       "      <td>34.7</td>\n",
       "    </tr>\n",
       "    <tr>\n",
       "      <th>3</th>\n",
       "      <td>0.03237</td>\n",
       "      <td>0.0</td>\n",
       "      <td>2.18</td>\n",
       "      <td>0</td>\n",
       "      <td>0.458</td>\n",
       "      <td>6.998</td>\n",
       "      <td>45.8</td>\n",
       "      <td>6.0622</td>\n",
       "      <td>3</td>\n",
       "      <td>222.0</td>\n",
       "      <td>18.7</td>\n",
       "      <td>394.63</td>\n",
       "      <td>2.94</td>\n",
       "      <td>33.4</td>\n",
       "    </tr>\n",
       "    <tr>\n",
       "      <th>4</th>\n",
       "      <td>0.06905</td>\n",
       "      <td>0.0</td>\n",
       "      <td>2.18</td>\n",
       "      <td>0</td>\n",
       "      <td>0.458</td>\n",
       "      <td>7.147</td>\n",
       "      <td>54.2</td>\n",
       "      <td>6.0622</td>\n",
       "      <td>3</td>\n",
       "      <td>222.0</td>\n",
       "      <td>18.7</td>\n",
       "      <td>396.90</td>\n",
       "      <td>5.33</td>\n",
       "      <td>36.2</td>\n",
       "    </tr>\n",
       "  </tbody>\n",
       "</table>\n",
       "</div>"
      ],
      "text/plain": [
       "      CRIM    ZN  INDUS  CHAS    NOX     RM   AGE     DIS  RAD    TAX  \\\n",
       "0  0.00632  18.0   2.31     0  0.538  6.575  65.2  4.0900    1  296.0   \n",
       "1  0.02731   0.0   7.07     0  0.469  6.421  78.9  4.9671    2  242.0   \n",
       "2  0.02729   0.0   7.07     0  0.469  7.185  61.1  4.9671    2  242.0   \n",
       "3  0.03237   0.0   2.18     0  0.458  6.998  45.8  6.0622    3  222.0   \n",
       "4  0.06905   0.0   2.18     0  0.458  7.147  54.2  6.0622    3  222.0   \n",
       "\n",
       "   PTRATIO       B  LSTAT  MEDV  \n",
       "0     15.3  396.90   4.98  24.0  \n",
       "1     17.8  396.90   9.14  21.6  \n",
       "2     17.8  392.83   4.03  34.7  \n",
       "3     18.7  394.63   2.94  33.4  \n",
       "4     18.7  396.90   5.33  36.2  "
      ]
     },
     "execution_count": 5,
     "metadata": {},
     "output_type": "execute_result"
    }
   ],
   "source": [
    "boston.head()"
   ]
  },
  {
   "cell_type": "markdown",
   "id": "daea9960",
   "metadata": {},
   "source": [
    "#### 1.3 데이터 전처리 및 학습/ 시험 데이터 나누기"
   ]
  },
  {
   "cell_type": "markdown",
   "id": "01b29b10",
   "metadata": {},
   "source": [
    "데이터 셋을 입력(피처)과 출력(타겟)으로 나눈다."
   ]
  },
  {
   "cell_type": "code",
   "execution_count": 6,
   "id": "32f7e35c",
   "metadata": {},
   "outputs": [],
   "source": [
    "X = boston.iloc[:, 0:13]\n",
    "y = boston.iloc[:, 13]"
   ]
  },
  {
   "cell_type": "code",
   "execution_count": 7,
   "id": "5556487b",
   "metadata": {},
   "outputs": [
    {
     "data": {
      "text/html": [
       "<div>\n",
       "<style scoped>\n",
       "    .dataframe tbody tr th:only-of-type {\n",
       "        vertical-align: middle;\n",
       "    }\n",
       "\n",
       "    .dataframe tbody tr th {\n",
       "        vertical-align: top;\n",
       "    }\n",
       "\n",
       "    .dataframe thead th {\n",
       "        text-align: right;\n",
       "    }\n",
       "</style>\n",
       "<table border=\"1\" class=\"dataframe\">\n",
       "  <thead>\n",
       "    <tr style=\"text-align: right;\">\n",
       "      <th></th>\n",
       "      <th>CRIM</th>\n",
       "      <th>ZN</th>\n",
       "      <th>INDUS</th>\n",
       "      <th>CHAS</th>\n",
       "      <th>NOX</th>\n",
       "      <th>RM</th>\n",
       "      <th>AGE</th>\n",
       "      <th>DIS</th>\n",
       "      <th>RAD</th>\n",
       "      <th>TAX</th>\n",
       "      <th>PTRATIO</th>\n",
       "      <th>B</th>\n",
       "      <th>LSTAT</th>\n",
       "    </tr>\n",
       "  </thead>\n",
       "  <tbody>\n",
       "    <tr>\n",
       "      <th>0</th>\n",
       "      <td>0.00632</td>\n",
       "      <td>18.0</td>\n",
       "      <td>2.31</td>\n",
       "      <td>0</td>\n",
       "      <td>0.538</td>\n",
       "      <td>6.575</td>\n",
       "      <td>65.2</td>\n",
       "      <td>4.0900</td>\n",
       "      <td>1</td>\n",
       "      <td>296.0</td>\n",
       "      <td>15.3</td>\n",
       "      <td>396.90</td>\n",
       "      <td>4.98</td>\n",
       "    </tr>\n",
       "    <tr>\n",
       "      <th>1</th>\n",
       "      <td>0.02731</td>\n",
       "      <td>0.0</td>\n",
       "      <td>7.07</td>\n",
       "      <td>0</td>\n",
       "      <td>0.469</td>\n",
       "      <td>6.421</td>\n",
       "      <td>78.9</td>\n",
       "      <td>4.9671</td>\n",
       "      <td>2</td>\n",
       "      <td>242.0</td>\n",
       "      <td>17.8</td>\n",
       "      <td>396.90</td>\n",
       "      <td>9.14</td>\n",
       "    </tr>\n",
       "    <tr>\n",
       "      <th>2</th>\n",
       "      <td>0.02729</td>\n",
       "      <td>0.0</td>\n",
       "      <td>7.07</td>\n",
       "      <td>0</td>\n",
       "      <td>0.469</td>\n",
       "      <td>7.185</td>\n",
       "      <td>61.1</td>\n",
       "      <td>4.9671</td>\n",
       "      <td>2</td>\n",
       "      <td>242.0</td>\n",
       "      <td>17.8</td>\n",
       "      <td>392.83</td>\n",
       "      <td>4.03</td>\n",
       "    </tr>\n",
       "    <tr>\n",
       "      <th>3</th>\n",
       "      <td>0.03237</td>\n",
       "      <td>0.0</td>\n",
       "      <td>2.18</td>\n",
       "      <td>0</td>\n",
       "      <td>0.458</td>\n",
       "      <td>6.998</td>\n",
       "      <td>45.8</td>\n",
       "      <td>6.0622</td>\n",
       "      <td>3</td>\n",
       "      <td>222.0</td>\n",
       "      <td>18.7</td>\n",
       "      <td>394.63</td>\n",
       "      <td>2.94</td>\n",
       "    </tr>\n",
       "    <tr>\n",
       "      <th>4</th>\n",
       "      <td>0.06905</td>\n",
       "      <td>0.0</td>\n",
       "      <td>2.18</td>\n",
       "      <td>0</td>\n",
       "      <td>0.458</td>\n",
       "      <td>7.147</td>\n",
       "      <td>54.2</td>\n",
       "      <td>6.0622</td>\n",
       "      <td>3</td>\n",
       "      <td>222.0</td>\n",
       "      <td>18.7</td>\n",
       "      <td>396.90</td>\n",
       "      <td>5.33</td>\n",
       "    </tr>\n",
       "  </tbody>\n",
       "</table>\n",
       "</div>"
      ],
      "text/plain": [
       "      CRIM    ZN  INDUS  CHAS    NOX     RM   AGE     DIS  RAD    TAX  \\\n",
       "0  0.00632  18.0   2.31     0  0.538  6.575  65.2  4.0900    1  296.0   \n",
       "1  0.02731   0.0   7.07     0  0.469  6.421  78.9  4.9671    2  242.0   \n",
       "2  0.02729   0.0   7.07     0  0.469  7.185  61.1  4.9671    2  242.0   \n",
       "3  0.03237   0.0   2.18     0  0.458  6.998  45.8  6.0622    3  222.0   \n",
       "4  0.06905   0.0   2.18     0  0.458  7.147  54.2  6.0622    3  222.0   \n",
       "\n",
       "   PTRATIO       B  LSTAT  \n",
       "0     15.3  396.90   4.98  \n",
       "1     17.8  396.90   9.14  \n",
       "2     17.8  392.83   4.03  \n",
       "3     18.7  394.63   2.94  \n",
       "4     18.7  396.90   5.33  "
      ]
     },
     "execution_count": 7,
     "metadata": {},
     "output_type": "execute_result"
    }
   ],
   "source": [
    "X.head()"
   ]
  },
  {
   "cell_type": "code",
   "execution_count": 8,
   "id": "e3bd651b",
   "metadata": {},
   "outputs": [
    {
     "data": {
      "text/plain": [
       "0    24.0\n",
       "1    21.6\n",
       "2    34.7\n",
       "3    33.4\n",
       "4    36.2\n",
       "Name: MEDV, dtype: float64"
      ]
     },
     "execution_count": 8,
     "metadata": {},
     "output_type": "execute_result"
    }
   ],
   "source": [
    "y.head()"
   ]
  },
  {
   "cell_type": "markdown",
   "id": "658bdd79",
   "metadata": {},
   "source": [
    "학습 데이터와 시험 데이터로 분리한다."
   ]
  },
  {
   "cell_type": "code",
   "execution_count": 9,
   "id": "51f87e5d",
   "metadata": {},
   "outputs": [],
   "source": [
    "X_train, X_test, y_train, y_test = train_test_split(X, y, \n",
    "                                    random_state = 7,test_size = 0.3)"
   ]
  },
  {
   "cell_type": "markdown",
   "id": "22fe524c",
   "metadata": {},
   "source": [
    "#### 1.4 모델학습  \n",
    "- 선형회귀(Linear regression) 모델을 사용한다.   \n",
    "- 선형회귀 참고자료  \n",
    "    - [참고1](https://datascienceschool.net/03%20machine%20learning/04.02%20%EC%84%A0%ED%98%95%ED%9A%8C%EA%B7%80%EB%B6%84%EC%84%9D%EC%9D%98%20%EA%B8%B0%EC%B4%88.html)\n",
    "    - [참고2](https://hleecaster.com/ml-linear-regression-concept/)"
   ]
  },
  {
   "cell_type": "markdown",
   "id": "c83800b8",
   "metadata": {},
   "source": [
    "선형회귀 모델 라이브러리 import"
   ]
  },
  {
   "cell_type": "code",
   "execution_count": 10,
   "id": "77baadd5",
   "metadata": {},
   "outputs": [],
   "source": [
    "from sklearn.linear_model import LinearRegression"
   ]
  },
  {
   "cell_type": "markdown",
   "id": "2e889e61",
   "metadata": {},
   "source": [
    "모델 생성 및 학습"
   ]
  },
  {
   "cell_type": "code",
   "execution_count": 11,
   "id": "3c520893",
   "metadata": {},
   "outputs": [
    {
     "data": {
      "text/plain": [
       "LinearRegression()"
      ]
     },
     "execution_count": 11,
     "metadata": {},
     "output_type": "execute_result"
    }
   ],
   "source": [
    "linreg = LinearRegression()\n",
    "linreg.fit(X_train, y_train)"
   ]
  },
  {
   "cell_type": "markdown",
   "id": "f3614542",
   "metadata": {},
   "source": [
    "#### 1.5 모델 시험, 평가"
   ]
  },
  {
   "cell_type": "code",
   "execution_count": 12,
   "id": "3540d206",
   "metadata": {},
   "outputs": [
    {
     "data": {
      "text/plain": [
       "0.7613288901253087"
      ]
     },
     "execution_count": 12,
     "metadata": {},
     "output_type": "execute_result"
    }
   ],
   "source": [
    "linreg.score(X_train, y_train)"
   ]
  },
  {
   "cell_type": "code",
   "execution_count": 13,
   "id": "367efabc",
   "metadata": {},
   "outputs": [
    {
     "data": {
      "text/plain": [
       "0.7613288901253087"
      ]
     },
     "execution_count": 13,
     "metadata": {},
     "output_type": "execute_result"
    }
   ],
   "source": [
    "linreg.score(X_train, y_train)"
   ]
  },
  {
   "cell_type": "markdown",
   "id": "314bd091",
   "metadata": {},
   "source": [
    "회귀에서 score는 R^2 연산식을 사용한다.  \n",
    "- 참고 : https://engineer-mole.tistory.com/240"
   ]
  },
  {
   "cell_type": "code",
   "execution_count": null,
   "id": "b38e0755",
   "metadata": {},
   "outputs": [],
   "source": []
  },
  {
   "cell_type": "markdown",
   "id": "c6fbe904",
   "metadata": {},
   "source": [
    "### 2. Boston housing 문제 2   \n",
    "---\n",
    "앙상블 모델을 사용하여 성능을 개선해본다.  \n",
    "- 앙상블(ensemble) : 다수의  결정트리를 사용하여 예측성능을 향상시키는 방법  \n",
    "- 대표적인 방법으로 배깅(bagging)과 부스팅(boosting)이 있음  \n",
    "    - [참고](https://bkshin.tistory.com/entry/%EB%A8%B8%EC%8B%A0%EB%9F%AC%EB%8B%9D-11-%EC%95%99%EC%83%81%EB%B8%94-%ED%95%99%EC%8A%B5-Ensemble-Learning-%EB%B0%B0%EA%B9%85Bagging%EA%B3%BC-%EB%B6%80%EC%8A%A4%ED%8C%85Boosting)"
   ]
  },
  {
   "cell_type": "markdown",
   "id": "930dfe2d",
   "metadata": {},
   "source": [
    "#### 2.1 랜덤 포레스트(Random forest) 모델 : 배깅 방식"
   ]
  },
  {
   "cell_type": "markdown",
   "id": "a00b03b8",
   "metadata": {},
   "source": [
    "<img src=\"img/ch09/02_rf.jpg\" width=\"800\">"
   ]
  },
  {
   "cell_type": "markdown",
   "id": "0a44a3d6",
   "metadata": {},
   "source": [
    "랜덤 포레스트 : 다수의 결정트리를 생성하고 학습시켜, 각 결정트리가 출력한 결과를 참고(voting)하여 정확도를 향상시키는 모델링 기법   \n",
    "- [참고1](https://m.blog.naver.com/PostView.naver?isHttpsRedirect=true&blogId=sbd38&logNo=221373436623)\n",
    "- [참고2](https://hleecaster.com/ml-random-forest-concept/)"
   ]
  },
  {
   "cell_type": "markdown",
   "id": "11299f92",
   "metadata": {},
   "source": [
    "1) 데이터 읽기"
   ]
  },
  {
   "cell_type": "code",
   "execution_count": 14,
   "id": "7840dfbb",
   "metadata": {},
   "outputs": [],
   "source": [
    "boston = pd.read_csv('data/housing.csv')"
   ]
  },
  {
   "cell_type": "markdown",
   "id": "a0dec9a8",
   "metadata": {},
   "source": [
    "2) 데이터 전처리 : 데이터 셋을 입력(피처)과 출력(타겟)으로 나눈다."
   ]
  },
  {
   "cell_type": "code",
   "execution_count": 15,
   "id": "fc3e5a91",
   "metadata": {},
   "outputs": [],
   "source": [
    "X = boston.iloc[:, 0:13]\n",
    "y = boston.iloc[:, 13]"
   ]
  },
  {
   "cell_type": "markdown",
   "id": "20166be8",
   "metadata": {},
   "source": [
    "3) 학습/ 시험 데이터 나누기"
   ]
  },
  {
   "cell_type": "code",
   "execution_count": 16,
   "id": "ae0c09bf",
   "metadata": {},
   "outputs": [],
   "source": [
    "X_train, X_test, y_train, y_test = train_test_split(X, y, \n",
    "                                    random_state = 7,test_size = 0.3)"
   ]
  },
  {
   "cell_type": "markdown",
   "id": "ff6fef80",
   "metadata": {},
   "source": [
    "**4) 랜덤 포레스트 모델로 학습하기**"
   ]
  },
  {
   "cell_type": "code",
   "execution_count": 17,
   "id": "de9912bd",
   "metadata": {},
   "outputs": [],
   "source": [
    "from sklearn.ensemble import RandomForestRegressor # 회귀용 랜던포레스트 라이브러리"
   ]
  },
  {
   "cell_type": "code",
   "execution_count": 18,
   "id": "b6d8ecfc",
   "metadata": {},
   "outputs": [],
   "source": [
    "rfr = RandomForestRegressor(random_state=7) # 생성"
   ]
  },
  {
   "cell_type": "code",
   "execution_count": 19,
   "id": "b8899607",
   "metadata": {},
   "outputs": [
    {
     "data": {
      "text/plain": [
       "RandomForestRegressor(random_state=7)"
      ]
     },
     "execution_count": 19,
     "metadata": {},
     "output_type": "execute_result"
    }
   ],
   "source": [
    "rfr.fit(X_train, y_train) # 학습"
   ]
  },
  {
   "cell_type": "markdown",
   "id": "ceb77a60",
   "metadata": {},
   "source": [
    "5) 성능 평가하기"
   ]
  },
  {
   "cell_type": "code",
   "execution_count": 20,
   "id": "d7e12c8b",
   "metadata": {},
   "outputs": [
    {
     "data": {
      "text/plain": [
       "0.9745700251561583"
      ]
     },
     "execution_count": 20,
     "metadata": {},
     "output_type": "execute_result"
    }
   ],
   "source": [
    "rfr.score(X_train, y_train)"
   ]
  },
  {
   "cell_type": "code",
   "execution_count": 21,
   "id": "9ddb5d67",
   "metadata": {},
   "outputs": [
    {
     "data": {
      "text/plain": [
       "0.8097192970668423"
      ]
     },
     "execution_count": 21,
     "metadata": {},
     "output_type": "execute_result"
    }
   ],
   "source": [
    "rfr.score(X_test, y_test)"
   ]
  },
  {
   "cell_type": "code",
   "execution_count": 22,
   "id": "71af7408",
   "metadata": {},
   "outputs": [
    {
     "data": {
      "text/plain": [
       "0.7613288901253087"
      ]
     },
     "execution_count": 22,
     "metadata": {},
     "output_type": "execute_result"
    }
   ],
   "source": [
    "# 앞에서 만든 선형회기 모델의 시험결과\n",
    "linreg.score(X_train, y_train)"
   ]
  },
  {
   "cell_type": "markdown",
   "id": "3008acd3",
   "metadata": {},
   "source": [
    "- 랜덤 포레스트로 시험한 결과가 더 우수하다."
   ]
  },
  {
   "cell_type": "markdown",
   "id": "750ccbf3",
   "metadata": {},
   "source": [
    "#### 2.2 그래디언트 부스팅(Gradient boosting) 모델 : 부스팅 방식"
   ]
  },
  {
   "cell_type": "markdown",
   "id": "afebaec0",
   "metadata": {},
   "source": [
    "<img src=\"img/ch09/03_gbr.jpg\" width=\"800\">"
   ]
  },
  {
   "cell_type": "markdown",
   "id": "f88c0153",
   "metadata": {},
   "source": [
    "그래디언트 부스팅 : 다수의 트리를 순차적으로 결합시켜 성능을 향상시키는 방법   \n",
    "- [참고1](https://3months.tistory.com/368)\n",
    "- [참고2](https://bkshin.tistory.com/entry/%EB%A8%B8%EC%8B%A0%EB%9F%AC%EB%8B%9D-15-Gradient-Boost)"
   ]
  },
  {
   "cell_type": "markdown",
   "id": "a0f72e89",
   "metadata": {},
   "source": [
    "1) 데이터 읽기"
   ]
  },
  {
   "cell_type": "code",
   "execution_count": 23,
   "id": "10d294d1",
   "metadata": {},
   "outputs": [],
   "source": [
    "boston = pd.read_csv('data/housing.csv')"
   ]
  },
  {
   "cell_type": "markdown",
   "id": "164a1604",
   "metadata": {},
   "source": [
    "2) 데이터 전처리 : 데이터 셋을 입력(피처)과 출력(타겟)으로 나눈다."
   ]
  },
  {
   "cell_type": "code",
   "execution_count": 24,
   "id": "5d650d3d",
   "metadata": {},
   "outputs": [],
   "source": [
    "X = boston.iloc[:, 0:13]\n",
    "y = boston.iloc[:, 13]"
   ]
  },
  {
   "cell_type": "markdown",
   "id": "e8fe1c34",
   "metadata": {},
   "source": [
    "3) 학습/ 시험 데이터 나누기"
   ]
  },
  {
   "cell_type": "code",
   "execution_count": 25,
   "id": "7c1654a3",
   "metadata": {},
   "outputs": [],
   "source": [
    "X_train, X_test, y_train, y_test = train_test_split(X, y, \n",
    "                                    random_state = 7,test_size = 0.3)"
   ]
  },
  {
   "cell_type": "markdown",
   "id": "825c6ef0",
   "metadata": {},
   "source": [
    "**4) 그래디언트 부스팅 모델로 학습하기**"
   ]
  },
  {
   "cell_type": "code",
   "execution_count": 26,
   "id": "d6277671",
   "metadata": {},
   "outputs": [],
   "source": [
    "from sklearn.ensemble import GradientBoostingRegressor # 회귀용 부스팅 라이브러리"
   ]
  },
  {
   "cell_type": "code",
   "execution_count": 27,
   "id": "4bd62335",
   "metadata": {},
   "outputs": [],
   "source": [
    "gbr = GradientBoostingRegressor(random_state=7) # 모델 생성"
   ]
  },
  {
   "cell_type": "code",
   "execution_count": 28,
   "id": "e87607ee",
   "metadata": {},
   "outputs": [
    {
     "data": {
      "text/plain": [
       "GradientBoostingRegressor(random_state=7)"
      ]
     },
     "execution_count": 28,
     "metadata": {},
     "output_type": "execute_result"
    }
   ],
   "source": [
    "gbr.fit(X_train, y_train) # 학습"
   ]
  },
  {
   "cell_type": "markdown",
   "id": "b2096157",
   "metadata": {},
   "source": [
    "5) 성능 평가하기"
   ]
  },
  {
   "cell_type": "code",
   "execution_count": 29,
   "id": "92be19f6",
   "metadata": {},
   "outputs": [
    {
     "data": {
      "text/plain": [
       "0.9823391224838423"
      ]
     },
     "execution_count": 29,
     "metadata": {},
     "output_type": "execute_result"
    }
   ],
   "source": [
    "gbr.score(X_train, y_train)"
   ]
  },
  {
   "cell_type": "code",
   "execution_count": 30,
   "id": "ab607003",
   "metadata": {},
   "outputs": [
    {
     "data": {
      "text/plain": [
       "0.8691519886758896"
      ]
     },
     "execution_count": 30,
     "metadata": {},
     "output_type": "execute_result"
    }
   ],
   "source": [
    "gbr.score(X_test, y_test)"
   ]
  },
  {
   "cell_type": "code",
   "execution_count": null,
   "id": "53be1241",
   "metadata": {},
   "outputs": [],
   "source": []
  },
  {
   "cell_type": "markdown",
   "id": "7cba284f",
   "metadata": {},
   "source": [
    "### 참 고 : 특성 중요도(feature importance)\n",
    "- 트리 기반 모델들은 특성 중요도 속성을 가지고 있음  \n",
    "- 모델이 예측할 때 입력 변수의 중요도를 지표화 한 것임"
   ]
  },
  {
   "cell_type": "code",
   "execution_count": 31,
   "id": "d92d2270",
   "metadata": {},
   "outputs": [],
   "source": [
    "feature_importance = pd.Series(gbr.feature_importances_)\n",
    "feature_importance.index = X.columns"
   ]
  },
  {
   "cell_type": "code",
   "execution_count": 32,
   "id": "5156370f",
   "metadata": {},
   "outputs": [
    {
     "data": {
      "text/plain": [
       "CRIM       0.041112\n",
       "ZN         0.000367\n",
       "INDUS      0.003488\n",
       "CHAS       0.000962\n",
       "NOX        0.024312\n",
       "RM         0.521854\n",
       "AGE        0.008729\n",
       "DIS        0.059542\n",
       "RAD        0.001422\n",
       "TAX        0.013542\n",
       "PTRATIO    0.020217\n",
       "B          0.008154\n",
       "LSTAT      0.296301\n",
       "dtype: float64"
      ]
     },
     "execution_count": 32,
     "metadata": {},
     "output_type": "execute_result"
    }
   ],
   "source": [
    "feature_importance"
   ]
  },
  {
   "cell_type": "markdown",
   "id": "25773536",
   "metadata": {},
   "source": [
    "바차트(bar chart)로 시각화 하기"
   ]
  },
  {
   "cell_type": "code",
   "execution_count": 33,
   "id": "5b332ca9",
   "metadata": {},
   "outputs": [
    {
     "data": {
      "text/plain": [
       "<AxesSubplot:>"
      ]
     },
     "execution_count": 33,
     "metadata": {},
     "output_type": "execute_result"
    },
    {
     "data": {
      "image/png": "[encoded data removed]",
      "text/plain": [
       "<Figure size 864x432 with 1 Axes>"
      ]
     },
     "metadata": {
      "needs_background": "light"
     },
     "output_type": "display_data"
    }
   ],
   "source": [
    "feature_importance.sort_values().plot(kind = 'barh', figsize = (12, 6))"
   ]
  },
  {
   "cell_type": "markdown",
   "id": "a427dd30",
   "metadata": {},
   "source": [
    "### 하이퍼 파라미터(Hyper parameter) 튜닝  \n",
    "- 지금까지 모델에서 제공하는 기본 파라미터를 사용해서 학습했음 \n",
    "- 모델의 성능을 높이기 위해 파라미터를 조정해서 학습 할 수 있음"
   ]
  },
  {
   "cell_type": "markdown",
   "id": "b9687a72",
   "metadata": {},
   "source": [
    "여기서는 그래디언트 부스팅 모델의 max_depth를 조정해서 최적의 성능을 내는 모델을 만들어본다.  \n",
    "max_depth : 결정 트리의 가지(node) 깊이"
   ]
  },
  {
   "cell_type": "code",
   "execution_count": 34,
   "id": "85b55e10",
   "metadata": {},
   "outputs": [],
   "source": [
    "scores = []\n",
    "for depth in range(1, 13):\n",
    "    gbr = GradientBoostingRegressor(max_depth = depth, random_state=7)\n",
    "    gbr.fit(X_train, y_train)\n",
    "    train_score = gbr.score(X_train, y_train)\n",
    "    test_score = gbr.score(X_test, y_test)\n",
    "    scores.append((train_score, test_score))"
   ]
  },
  {
   "cell_type": "markdown",
   "id": "5ca3824d",
   "metadata": {},
   "source": [
    "결과를 시각화 해본다."
   ]
  },
  {
   "cell_type": "code",
   "execution_count": 35,
   "id": "a44fa12b",
   "metadata": {},
   "outputs": [
    {
     "data": {
      "text/plain": [
       "<AxesSubplot:>"
      ]
     },
     "execution_count": 35,
     "metadata": {},
     "output_type": "execute_result"
    },
    {
     "data": {
      "image/png": "[encoded data removed]",
      "text/plain": [
       "<Figure size 864x432 with 1 Axes>"
      ]
     },
     "metadata": {
      "needs_background": "light"
     },
     "output_type": "display_data"
    }
   ],
   "source": [
    "result = pd.DataFrame(scores, columns=['train', 'test'])\n",
    "result.index = range(1, 13)\n",
    "result.plot(style = ['go--', 'ro--'], figsize = (12, 6))"
   ]
  },
  {
   "cell_type": "markdown",
   "id": "0c0810cd",
   "metadata": {},
   "source": [
    "- 트리의 max_depth가 커질수록 학습 데이터에(train) 대한 성능은 좋아진다.  \n",
    "- 그러나 시험 데이터에(test) 대한 성능은 max_depth=3 까지 상승하다가 떨어진다.  \n",
    "- 모델의 성능은 학습 데이터, 시험 데이터에서 모두 우수해야 한다.  \n",
    "- 따라서 max_depth=3으로 설정하는 것이 적정하다."
   ]
  },
  {
   "cell_type": "code",
   "execution_count": null,
   "id": "c5cf37fd",
   "metadata": {},
   "outputs": [],
   "source": []
  }
 ],
 "metadata": {
  "kernelspec": {
   "display_name": "Python 3",
   "language": "python",
   "name": "python3"
  },
  "language_info": {
   "codemirror_mode": {
    "name": "ipython",
    "version": 3
   },
   "file_extension": ".py",
   "mimetype": "text/x-python",
   "name": "python",
   "nbconvert_exporter": "python",
   "pygments_lexer": "ipython3",
   "version": "3.8.8"
  }
 },
 "nbformat": 4,
 "nbformat_minor": 5
}
